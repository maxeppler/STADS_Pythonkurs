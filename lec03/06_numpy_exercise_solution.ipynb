{
 "metadata": {
  "language_info": {
   "codemirror_mode": {
    "name": "ipython",
    "version": 3
   },
   "file_extension": ".py",
   "mimetype": "text/x-python",
   "name": "python",
   "nbconvert_exporter": "python",
   "pygments_lexer": "ipython3",
   "version": "3.8.5-final"
  },
  "orig_nbformat": 2,
  "kernelspec": {
   "name": "Python 3.8.5 64-bit ('.venv')",
   "display_name": "Python 3.8.5 64-bit ('.venv')",
   "metadata": {
    "interpreter": {
     "hash": "4d07413b487dea10b8f272a9d4003698fa7199b6f861be3751c0e30eb3a64a72"
    }
   }
  }
 },
 "nbformat": 4,
 "nbformat_minor": 2,
 "cells": [
  {
   "source": [
    "# Übung numpy - Lösung"
   ],
   "cell_type": "markdown",
   "metadata": {}
  },
  {
   "source": [
    "## Import"
   ],
   "cell_type": "markdown",
   "metadata": {}
  },
  {
   "cell_type": "code",
   "execution_count": 2,
   "metadata": {},
   "outputs": [],
   "source": [
    "# Importiere numpy als np\n",
    "import numpy as np"
   ]
  },
  {
   "source": [
    "## Einfache Initialisierungen"
   ],
   "cell_type": "markdown",
   "metadata": {}
  },
  {
   "cell_type": "code",
   "execution_count": 4,
   "metadata": {},
   "outputs": [],
   "source": [
    "noten = [1, 2, 3, 4, 5, 6]\n",
    "# Erstelle aus der Liste einen Numpy Vektor\n",
    "noten_as_vector = np.array(noten)"
   ]
  },
  {
   "cell_type": "code",
   "execution_count": 5,
   "metadata": {},
   "outputs": [
    {
     "output_type": "execute_result",
     "data": {
      "text/plain": [
       "array([1, 2, 3, 4, 5, 6])"
      ]
     },
     "metadata": {},
     "execution_count": 5
    }
   ],
   "source": [
    "# Erstelle nun selbigen Vektor direkt mit np.arange\n",
    "np.arange(1,7)"
   ]
  },
  {
   "cell_type": "code",
   "execution_count": 7,
   "metadata": {},
   "outputs": [
    {
     "output_type": "execute_result",
     "data": {
      "text/plain": [
       "array([1., 2., 3., 4., 5., 6.])"
      ]
     },
     "metadata": {},
     "execution_count": 7
    }
   ],
   "source": [
    "# Erstelle nun selbigen Vektor direkt mit np.linspace\n",
    "np.linspace(1, 6, 6)"
   ]
  },
  {
   "cell_type": "code",
   "execution_count": 10,
   "metadata": {},
   "outputs": [
    {
     "output_type": "stream",
     "name": "stdout",
     "text": [
      "[[1. 0. 0. 0. 0. 0.]\n [0. 1. 0. 0. 0. 0.]\n [0. 0. 1. 0. 0. 0.]\n [0. 0. 0. 1. 0. 0.]\n [0. 0. 0. 0. 1. 0.]\n [0. 0. 0. 0. 0. 1.]]\n"
     ]
    }
   ],
   "source": [
    "# Erstelle eine Einheitsmatrix (1 auf der Diagonale, sonst überall0 0) der Dimension (6,6)\n",
    "einheitsmatrix = np.eye(6,6)\n",
    "# Lasse dir die Einheitsmatrix ausgeben\n",
    "print(einheitsmatrix)"
   ]
  },
  {
   "cell_type": "code",
   "execution_count": 11,
   "metadata": {},
   "outputs": [
    {
     "output_type": "execute_result",
     "data": {
      "text/plain": [
       "array([[1., 0., 0., 0., 0., 0.],\n",
       "       [0., 2., 0., 0., 0., 0.],\n",
       "       [0., 0., 3., 0., 0., 0.],\n",
       "       [0., 0., 0., 4., 0., 0.],\n",
       "       [0., 0., 0., 0., 5., 0.],\n",
       "       [0., 0., 0., 0., 0., 6.]])"
      ]
     },
     "metadata": {},
     "execution_count": 11
    }
   ],
   "source": [
    "# Erstelle nun eine Matrix mit 1,2,...,6 auf der Diagonalen und sonst überall 0 indem du die Matrix Einheitsmatrix mit dem Vektor Noten multiplizierst.\n",
    "einheitsmatrix * noten"
   ]
  },
  {
   "source": [
    "## Zufallszahlen und einfache Operationen"
   ],
   "cell_type": "markdown",
   "metadata": {}
  },
  {
   "cell_type": "code",
   "execution_count": 13,
   "metadata": {},
   "outputs": [],
   "source": [
    "# Initialisiere eine Zufallszahlengenerator mit np.random.default_rng()\n",
    "zufallszahlengenerator =  np.random.default_rng()\n"
   ]
  },
  {
   "cell_type": "code",
   "execution_count": 16,
   "metadata": {},
   "outputs": [
    {
     "output_type": "stream",
     "name": "stdout",
     "text": [
      "[[-1.3039024   2.50980685  2.33246813  3.99902598  5.6763469   0.40504878]\n [ 3.4860015  -0.39550172  3.7485764   3.44680994  2.23258314  1.41745698]\n [-0.72904811  4.8349993   5.7016118  -2.17527762  5.26903784  2.88529045]\n [ 3.84383992  4.65938939  6.14326728  3.17871095  1.30081294  0.19693054]\n [ 5.89501237  3.19392031  3.04827936  0.69635245  3.93599965  1.71493758]\n [ 3.34551799  2.54869148  1.83685982  3.62210049  6.05018422  2.27957831]]\n"
     ]
    }
   ],
   "source": [
    "# Lasse dir eine 6x6-Matrix ausgeben, mit normalverteilten Werten mit Mittelwert 2.5 und Varianz 2\n",
    "normalmatrix = zufallszahlengenerator.normal(2.5, 2, (6,6))\n",
    "print(normalmatrix)"
   ]
  },
  {
   "cell_type": "code",
   "execution_count": 17,
   "metadata": {},
   "outputs": [
    {
     "output_type": "execute_result",
     "data": {
      "text/plain": [
       "array([[2.71470337e-01, 1.23025536e+01, 1.03033402e+01, 5.45449962e+01,\n",
       "        2.91881210e+02, 1.49937563e+00],\n",
       "       [3.26551149e+01, 6.73342128e-01, 4.24605919e+01, 3.14000641e+01,\n",
       "        9.32391999e+00, 4.12661304e+00],\n",
       "       [4.82367933e-01, 1.25838495e+02, 2.99349503e+02, 1.13576618e-01,\n",
       "        1.94228993e+02, 1.79087684e+01],\n",
       "       [4.67044720e+01, 1.05571599e+02, 4.65572244e+02, 2.40157760e+01,\n",
       "        3.67228081e+00, 1.21765946e+00],\n",
       "       [3.63221329e+02, 2.43838324e+01, 2.10790438e+01, 2.00642083e+00,\n",
       "        5.12133199e+01, 5.55632869e+00],\n",
       "       [2.83752700e+01, 1.27903564e+01, 6.27679699e+00, 3.74160775e+01,\n",
       "        4.24191166e+02, 9.77255856e+00]])"
      ]
     },
     "metadata": {},
     "execution_count": 17
    }
   ],
   "source": [
    "# Multipliziere nun die Matrix mit der Exponentialfunktion. Dann sind deine erzeugten Zufallsvariablen Log-normalvereilt\n",
    "np.exp(normalmatrix)"
   ]
  },
  {
   "cell_type": "code",
   "execution_count": 20,
   "metadata": {},
   "outputs": [
    {
     "output_type": "stream",
     "name": "stdout",
     "text": [
      "[2.54869148 1.83685982]\n"
     ]
    }
   ],
   "source": [
    "# Lasse dir die 6. Zeile und dort die 2.-3. Spalte von normalmatrix ausgeben\n",
    "print(normalmatrix[5, 1:3])"
   ]
  },
  {
   "source": [
    "## Und zum Abschluss noch eine etwas schwierigere Aufgabe"
   ],
   "cell_type": "markdown",
   "metadata": {}
  },
  {
   "cell_type": "code",
   "execution_count": 24,
   "metadata": {},
   "outputs": [
    {
     "output_type": "stream",
     "name": "stdout",
     "text": [
      "[3.99902598 5.6763469  3.4860015  3.7485764  3.44680994 4.8349993\n 5.7016118  5.26903784 2.88529045 3.84383992 4.65938939 6.14326728\n 3.17871095 5.89501237 3.19392031 3.04827936 3.93599965 3.34551799\n 3.62210049 6.05018422]\n4.298196101292535\n3.8899197857477077\n"
     ]
    }
   ],
   "source": [
    "# Lasse dir alle Einträge von Normalmatrix ausgeben, die über dem empirischen Mittelwert aller Beobachtungen sind\n",
    "normalmatrix_larger = normalmatrix[normalmatrix>np.mean(normalmatrix)]\n",
    "print(normalmatrix_larger)"
   ]
  },
  {
   "cell_type": "code",
   "execution_count": null,
   "metadata": {},
   "outputs": [],
   "source": [
    "# Berechne nun den Mittelwert und den Median der davor ausgewählten Elemente\n",
    "print(np.mean(normalmatrix_larger))\n",
    "print(np.median(normalmatrix_larger))"
   ]
  }
 ]
}