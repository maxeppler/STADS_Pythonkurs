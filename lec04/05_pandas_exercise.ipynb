{
 "metadata": {
  "language_info": {
   "codemirror_mode": {
    "name": "ipython",
    "version": 3
   },
   "file_extension": ".py",
   "mimetype": "text/x-python",
   "name": "python",
   "nbconvert_exporter": "python",
   "pygments_lexer": "ipython3",
   "version": "3.8.5-final"
  },
  "orig_nbformat": 2,
  "kernelspec": {
   "name": "Python 3.8.5 64-bit ('.venv')",
   "display_name": "Python 3.8.5 64-bit ('.venv')",
   "metadata": {
    "interpreter": {
     "hash": "4d07413b487dea10b8f272a9d4003698fa7199b6f861be3751c0e30eb3a64a72"
    }
   }
  }
 },
 "nbformat": 4,
 "nbformat_minor": 2,
 "cells": [
  {
   "source": [
    "# Pandas Übung"
   ],
   "cell_type": "markdown",
   "metadata": {}
  },
  {
   "source": [
    "## Import\n",
    "\n",
    "* Importiere `pandas` als `pd`\n",
    "* Importiere `numpy` als `np`"
   ],
   "cell_type": "markdown",
   "metadata": {}
  },
  {
   "source": [],
   "cell_type": "markdown",
   "metadata": {}
  },
  {
   "cell_type": "code",
   "execution_count": 78,
   "metadata": {},
   "outputs": [],
   "source": [
    "# ...\n",
    "# ..."
   ]
  },
  {
   "source": [
    "Lade aus der Datei `04_pandas-excelbsp.xlsx` das Sheet `BL_7-Tage-Inzidenz` als `pd.DataFrame` ein. Verwende das Argument `index_col=0`, um die Bundesländer als Index zu setzen für die Zeilen."
   ],
   "cell_type": "markdown",
   "metadata": {}
  },
  {
   "cell_type": "code",
   "execution_count": 79,
   "metadata": {},
   "outputs": [],
   "source": [
    "# ..."
   ]
  },
  {
   "cell_type": "code",
   "execution_count": 80,
   "metadata": {},
   "outputs": [
    {
     "output_type": "execute_result",
     "data": {
      "text/plain": [
       "                   2020-05-06  2020-05-07  2020-05-08  2020-05-09  2020-05-10  \\\n",
       "Bundesland                                                                      \n",
       "Baden-Württemberg    8.202695    7.037334    6.007480    6.377866    6.974097   \n",
       "Bayern              10.078979    9.528383    9.038963    9.352497    8.778959   \n",
       "Berlin               7.363637    7.070158    7.256917    7.470356    7.176878   \n",
       "Brandenburg          4.976279    4.617987    4.657797    5.215140    4.697607   \n",
       "Bremen              17.423490   18.448402   20.498224   22.694462   24.890701   \n",
       "\n",
       "                   2020-05-11  2020-05-12  2020-05-13  2020-05-14  2020-05-15  \\\n",
       "Bundesland                                                                      \n",
       "Baden-Württemberg    6.865692    6.992165    6.721151    6.910861    6.549508   \n",
       "Bayern               8.801901    9.161318    9.130729    8.526602    7.815415   \n",
       "Berlin               6.616601    5.282609    4.535573    4.162056    4.108696   \n",
       "Brandenburg          4.697607    4.180074    2.866337    1.990512    2.189563   \n",
       "Bremen              24.158621   22.108799   23.426542   19.619729   19.034065   \n",
       "\n",
       "                   ...  2020-10-16  2020-10-17  2020-10-18  2020-10-19  \\\n",
       "Bundesland         ...                                                   \n",
       "Baden-Württemberg  ...   38.070721         NaN         NaN         NaN   \n",
       "Bayern             ...   35.406424         NaN         NaN         NaN   \n",
       "Berlin             ...   73.852205         NaN         NaN         NaN   \n",
       "Brandenburg        ...   20.302209         NaN         NaN         NaN   \n",
       "Bremen             ...   73.106068         NaN         NaN         NaN   \n",
       "\n",
       "                   2020-10-20  2020-10-21  2020-10-22  2020-10-23  2020-10-24  \\\n",
       "Bundesland                                                                      \n",
       "Baden-Württemberg         NaN         NaN         NaN         NaN         NaN   \n",
       "Bayern                    NaN         NaN         NaN         NaN         NaN   \n",
       "Berlin                    NaN         NaN         NaN         NaN         NaN   \n",
       "Brandenburg               NaN         NaN         NaN         NaN         NaN   \n",
       "Bremen                    NaN         NaN         NaN         NaN         NaN   \n",
       "\n",
       "                   2020-10-25  \n",
       "Bundesland                     \n",
       "Baden-Württemberg         NaN  \n",
       "Bayern                    NaN  \n",
       "Berlin                    NaN  \n",
       "Brandenburg               NaN  \n",
       "Bremen                    NaN  \n",
       "\n",
       "[5 rows x 173 columns]"
      ],
      "text/html": "<div>\n<style scoped>\n    .dataframe tbody tr th:only-of-type {\n        vertical-align: middle;\n    }\n\n    .dataframe tbody tr th {\n        vertical-align: top;\n    }\n\n    .dataframe thead th {\n        text-align: right;\n    }\n</style>\n<table border=\"1\" class=\"dataframe\">\n  <thead>\n    <tr style=\"text-align: right;\">\n      <th></th>\n      <th>2020-05-06</th>\n      <th>2020-05-07</th>\n      <th>2020-05-08</th>\n      <th>2020-05-09</th>\n      <th>2020-05-10</th>\n      <th>2020-05-11</th>\n      <th>2020-05-12</th>\n      <th>2020-05-13</th>\n      <th>2020-05-14</th>\n      <th>2020-05-15</th>\n      <th>...</th>\n      <th>2020-10-16</th>\n      <th>2020-10-17</th>\n      <th>2020-10-18</th>\n      <th>2020-10-19</th>\n      <th>2020-10-20</th>\n      <th>2020-10-21</th>\n      <th>2020-10-22</th>\n      <th>2020-10-23</th>\n      <th>2020-10-24</th>\n      <th>2020-10-25</th>\n    </tr>\n    <tr>\n      <th>Bundesland</th>\n      <th></th>\n      <th></th>\n      <th></th>\n      <th></th>\n      <th></th>\n      <th></th>\n      <th></th>\n      <th></th>\n      <th></th>\n      <th></th>\n      <th></th>\n      <th></th>\n      <th></th>\n      <th></th>\n      <th></th>\n      <th></th>\n      <th></th>\n      <th></th>\n      <th></th>\n      <th></th>\n      <th></th>\n    </tr>\n  </thead>\n  <tbody>\n    <tr>\n      <th>Baden-Württemberg</th>\n      <td>8.202695</td>\n      <td>7.037334</td>\n      <td>6.007480</td>\n      <td>6.377866</td>\n      <td>6.974097</td>\n      <td>6.865692</td>\n      <td>6.992165</td>\n      <td>6.721151</td>\n      <td>6.910861</td>\n      <td>6.549508</td>\n      <td>...</td>\n      <td>38.070721</td>\n      <td>NaN</td>\n      <td>NaN</td>\n      <td>NaN</td>\n      <td>NaN</td>\n      <td>NaN</td>\n      <td>NaN</td>\n      <td>NaN</td>\n      <td>NaN</td>\n      <td>NaN</td>\n    </tr>\n    <tr>\n      <th>Bayern</th>\n      <td>10.078979</td>\n      <td>9.528383</td>\n      <td>9.038963</td>\n      <td>9.352497</td>\n      <td>8.778959</td>\n      <td>8.801901</td>\n      <td>9.161318</td>\n      <td>9.130729</td>\n      <td>8.526602</td>\n      <td>7.815415</td>\n      <td>...</td>\n      <td>35.406424</td>\n      <td>NaN</td>\n      <td>NaN</td>\n      <td>NaN</td>\n      <td>NaN</td>\n      <td>NaN</td>\n      <td>NaN</td>\n      <td>NaN</td>\n      <td>NaN</td>\n      <td>NaN</td>\n    </tr>\n    <tr>\n      <th>Berlin</th>\n      <td>7.363637</td>\n      <td>7.070158</td>\n      <td>7.256917</td>\n      <td>7.470356</td>\n      <td>7.176878</td>\n      <td>6.616601</td>\n      <td>5.282609</td>\n      <td>4.535573</td>\n      <td>4.162056</td>\n      <td>4.108696</td>\n      <td>...</td>\n      <td>73.852205</td>\n      <td>NaN</td>\n      <td>NaN</td>\n      <td>NaN</td>\n      <td>NaN</td>\n      <td>NaN</td>\n      <td>NaN</td>\n      <td>NaN</td>\n      <td>NaN</td>\n      <td>NaN</td>\n    </tr>\n    <tr>\n      <th>Brandenburg</th>\n      <td>4.976279</td>\n      <td>4.617987</td>\n      <td>4.657797</td>\n      <td>5.215140</td>\n      <td>4.697607</td>\n      <td>4.697607</td>\n      <td>4.180074</td>\n      <td>2.866337</td>\n      <td>1.990512</td>\n      <td>2.189563</td>\n      <td>...</td>\n      <td>20.302209</td>\n      <td>NaN</td>\n      <td>NaN</td>\n      <td>NaN</td>\n      <td>NaN</td>\n      <td>NaN</td>\n      <td>NaN</td>\n      <td>NaN</td>\n      <td>NaN</td>\n      <td>NaN</td>\n    </tr>\n    <tr>\n      <th>Bremen</th>\n      <td>17.423490</td>\n      <td>18.448402</td>\n      <td>20.498224</td>\n      <td>22.694462</td>\n      <td>24.890701</td>\n      <td>24.158621</td>\n      <td>22.108799</td>\n      <td>23.426542</td>\n      <td>19.619729</td>\n      <td>19.034065</td>\n      <td>...</td>\n      <td>73.106068</td>\n      <td>NaN</td>\n      <td>NaN</td>\n      <td>NaN</td>\n      <td>NaN</td>\n      <td>NaN</td>\n      <td>NaN</td>\n      <td>NaN</td>\n      <td>NaN</td>\n      <td>NaN</td>\n    </tr>\n  </tbody>\n</table>\n<p>5 rows × 173 columns</p>\n</div>"
     },
     "metadata": {},
     "execution_count": 80
    }
   ],
   "source": [
    "# Lasse dir die ersten 5 Zeilen anzeigen (Tipp: head)\n",
    "# ..."
   ]
  },
  {
   "cell_type": "code",
   "execution_count": 81,
   "metadata": {},
   "outputs": [
    {
     "output_type": "execute_result",
     "data": {
      "text/plain": [
       "Bundesland\n",
       "Baden-Württemberg         31.566447\n",
       "Bayern                    27.398644\n",
       "Berlin                    60.471602\n",
       "Brandenburg               11.657909\n",
       "Bremen                    70.757279\n",
       "Hamburg                   27.770966\n",
       "Hessen                    34.064452\n",
       "Mecklenburg-Vorpommern     7.213311\n",
       "Niedersachsen             22.217752\n",
       "Nordrhein-Westfalen       39.660736\n",
       "Rheinland-Pfalz           22.887694\n",
       "Saarland                  26.548126\n",
       "Sachsen                   21.046319\n",
       "Sachsen-Anhalt             7.654519\n",
       "Schleswig-Holstein        11.777780\n",
       "Thüringen                 12.046623\n",
       "Name: 2020-10-13 00:00:00, dtype: float64"
      ]
     },
     "metadata": {},
     "execution_count": 81
    }
   ],
   "source": [
    "# Lasse dir alle Indizenzen für den 13. Oktober (2020-10-13) ausgeben\n",
    "# ..."
   ]
  },
  {
   "cell_type": "code",
   "execution_count": 82,
   "metadata": {},
   "outputs": [
    {
     "output_type": "execute_result",
     "data": {
      "text/plain": [
       "'Bremen'"
      ]
     },
     "metadata": {},
     "execution_count": 82
    }
   ],
   "source": [
    "# Lasse dir das Bundesland ausgeben, in dem die höchste Inzidenz geherrscht hat am 13. Oktober\n",
    "# Tipp: idxmax()\n",
    "# ..."
   ]
  },
  {
   "cell_type": "code",
   "execution_count": 83,
   "metadata": {},
   "outputs": [
    {
     "output_type": "execute_result",
     "data": {
      "text/plain": [
       "2020-10-01    14.237276\n",
       "2020-10-02    15.050319\n",
       "2020-10-03    13.379065\n",
       "2020-10-04    15.646550\n",
       "2020-10-05    15.917564\n",
       "2020-10-06    16.423457\n",
       "2020-10-07    17.670122\n",
       "2020-10-08    20.638907\n",
       "2020-10-09    22.503706\n",
       "2020-10-10    23.611775\n",
       "2020-10-11    25.845929\n",
       "2020-10-12    28.674658\n",
       "2020-10-13    31.566447\n",
       "2020-10-14    32.386238\n",
       "2020-10-15    34.575349\n",
       "Name: Baden-Württemberg, dtype: float64"
      ]
     },
     "metadata": {},
     "execution_count": 83
    }
   ],
   "source": [
    "# Lasse dir für Baden-Württemberg die Zahlen von 01. Oktober bis einschließlich 15. Oktober ausgeben\n",
    "# Tipp: df.loc[...][...:...]\n",
    "# ..."
   ]
  },
  {
   "cell_type": "code",
   "execution_count": 84,
   "metadata": {},
   "outputs": [
    {
     "output_type": "execute_result",
     "data": {
      "text/plain": [
       "                                0          1          2          3          4  \\\n",
       "Bundesland                                                                      \n",
       "Baden-Württemberg        7.326868   7.716542   7.837957   7.928278   8.166675   \n",
       "Bayern                   8.962397   9.158606   9.185912   9.622373   9.746626   \n",
       "Berlin                  13.449923  13.172378  13.400860  13.602441  14.017188   \n",
       "Brandenburg              2.606341   2.585652   2.855182   3.029291   3.090410   \n",
       "Bremen                  13.414321  13.771129  14.173118  14.544654  15.082455   \n",
       "Hamburg                  7.743725   7.798201   7.846529   7.679646   8.038808   \n",
       "Hessen                   8.967048   9.142380   9.226510   9.408601   9.866930   \n",
       "Mecklenburg-Vorpommern   1.491201   1.842421   1.882231   2.081940   2.076797   \n",
       "Niedersachsen            5.731704   6.095722   5.863141   5.877328   6.311271   \n",
       "Nordrhein-Westfalen     10.539832  10.945355  10.975779  11.152956  11.488488   \n",
       "Rheinland-Pfalz          5.850875   5.930647   6.033254   6.183597   6.311061   \n",
       "Saarland                 4.643860   4.854604   5.528921   5.628729   5.641997   \n",
       "Sachsen                  3.413033   3.444043   3.467127   3.786833   3.804332   \n",
       "Sachsen-Anhalt           2.467123   2.488683   2.209317   2.397810   2.411145   \n",
       "Schleswig-Holstein       3.527600   3.661075   3.777471   3.803906   3.852703   \n",
       "Thüringen                3.929650   3.925918   4.060234   4.201889   4.235492   \n",
       "\n",
       "                                5          6  \n",
       "Bundesland                                    \n",
       "Baden-Württemberg        7.012084   6.971357  \n",
       "Bayern                   8.860385   8.655081  \n",
       "Berlin                  12.147638  12.989505  \n",
       "Brandenburg              2.526994   2.490515  \n",
       "Bremen                  12.501713  13.382308  \n",
       "Hamburg                  7.264307   7.625467  \n",
       "Hessen                   8.451201   8.833253  \n",
       "Mecklenburg-Vorpommern   1.658749   1.515526  \n",
       "Niedersachsen            5.675481   5.528455  \n",
       "Nordrhein-Westfalen     10.133877  10.276137  \n",
       "Rheinland-Pfalz          5.473392   5.325406  \n",
       "Saarland                 4.054315   4.498620  \n",
       "Sachsen                  3.209200   3.256207  \n",
       "Sachsen-Anhalt           2.094369   2.348774  \n",
       "Schleswig-Holstein       3.584672   3.578639  \n",
       "Thüringen                3.696079   3.787640  "
      ],
      "text/html": "<div>\n<style scoped>\n    .dataframe tbody tr th:only-of-type {\n        vertical-align: middle;\n    }\n\n    .dataframe tbody tr th {\n        vertical-align: top;\n    }\n\n    .dataframe thead th {\n        text-align: right;\n    }\n</style>\n<table border=\"1\" class=\"dataframe\">\n  <thead>\n    <tr style=\"text-align: right;\">\n      <th></th>\n      <th>0</th>\n      <th>1</th>\n      <th>2</th>\n      <th>3</th>\n      <th>4</th>\n      <th>5</th>\n      <th>6</th>\n    </tr>\n    <tr>\n      <th>Bundesland</th>\n      <th></th>\n      <th></th>\n      <th></th>\n      <th></th>\n      <th></th>\n      <th></th>\n      <th></th>\n    </tr>\n  </thead>\n  <tbody>\n    <tr>\n      <th>Baden-Württemberg</th>\n      <td>7.326868</td>\n      <td>7.716542</td>\n      <td>7.837957</td>\n      <td>7.928278</td>\n      <td>8.166675</td>\n      <td>7.012084</td>\n      <td>6.971357</td>\n    </tr>\n    <tr>\n      <th>Bayern</th>\n      <td>8.962397</td>\n      <td>9.158606</td>\n      <td>9.185912</td>\n      <td>9.622373</td>\n      <td>9.746626</td>\n      <td>8.860385</td>\n      <td>8.655081</td>\n    </tr>\n    <tr>\n      <th>Berlin</th>\n      <td>13.449923</td>\n      <td>13.172378</td>\n      <td>13.400860</td>\n      <td>13.602441</td>\n      <td>14.017188</td>\n      <td>12.147638</td>\n      <td>12.989505</td>\n    </tr>\n    <tr>\n      <th>Brandenburg</th>\n      <td>2.606341</td>\n      <td>2.585652</td>\n      <td>2.855182</td>\n      <td>3.029291</td>\n      <td>3.090410</td>\n      <td>2.526994</td>\n      <td>2.490515</td>\n    </tr>\n    <tr>\n      <th>Bremen</th>\n      <td>13.414321</td>\n      <td>13.771129</td>\n      <td>14.173118</td>\n      <td>14.544654</td>\n      <td>15.082455</td>\n      <td>12.501713</td>\n      <td>13.382308</td>\n    </tr>\n    <tr>\n      <th>Hamburg</th>\n      <td>7.743725</td>\n      <td>7.798201</td>\n      <td>7.846529</td>\n      <td>7.679646</td>\n      <td>8.038808</td>\n      <td>7.264307</td>\n      <td>7.625467</td>\n    </tr>\n    <tr>\n      <th>Hessen</th>\n      <td>8.967048</td>\n      <td>9.142380</td>\n      <td>9.226510</td>\n      <td>9.408601</td>\n      <td>9.866930</td>\n      <td>8.451201</td>\n      <td>8.833253</td>\n    </tr>\n    <tr>\n      <th>Mecklenburg-Vorpommern</th>\n      <td>1.491201</td>\n      <td>1.842421</td>\n      <td>1.882231</td>\n      <td>2.081940</td>\n      <td>2.076797</td>\n      <td>1.658749</td>\n      <td>1.515526</td>\n    </tr>\n    <tr>\n      <th>Niedersachsen</th>\n      <td>5.731704</td>\n      <td>6.095722</td>\n      <td>5.863141</td>\n      <td>5.877328</td>\n      <td>6.311271</td>\n      <td>5.675481</td>\n      <td>5.528455</td>\n    </tr>\n    <tr>\n      <th>Nordrhein-Westfalen</th>\n      <td>10.539832</td>\n      <td>10.945355</td>\n      <td>10.975779</td>\n      <td>11.152956</td>\n      <td>11.488488</td>\n      <td>10.133877</td>\n      <td>10.276137</td>\n    </tr>\n    <tr>\n      <th>Rheinland-Pfalz</th>\n      <td>5.850875</td>\n      <td>5.930647</td>\n      <td>6.033254</td>\n      <td>6.183597</td>\n      <td>6.311061</td>\n      <td>5.473392</td>\n      <td>5.325406</td>\n    </tr>\n    <tr>\n      <th>Saarland</th>\n      <td>4.643860</td>\n      <td>4.854604</td>\n      <td>5.528921</td>\n      <td>5.628729</td>\n      <td>5.641997</td>\n      <td>4.054315</td>\n      <td>4.498620</td>\n    </tr>\n    <tr>\n      <th>Sachsen</th>\n      <td>3.413033</td>\n      <td>3.444043</td>\n      <td>3.467127</td>\n      <td>3.786833</td>\n      <td>3.804332</td>\n      <td>3.209200</td>\n      <td>3.256207</td>\n    </tr>\n    <tr>\n      <th>Sachsen-Anhalt</th>\n      <td>2.467123</td>\n      <td>2.488683</td>\n      <td>2.209317</td>\n      <td>2.397810</td>\n      <td>2.411145</td>\n      <td>2.094369</td>\n      <td>2.348774</td>\n    </tr>\n    <tr>\n      <th>Schleswig-Holstein</th>\n      <td>3.527600</td>\n      <td>3.661075</td>\n      <td>3.777471</td>\n      <td>3.803906</td>\n      <td>3.852703</td>\n      <td>3.584672</td>\n      <td>3.578639</td>\n    </tr>\n    <tr>\n      <th>Thüringen</th>\n      <td>3.929650</td>\n      <td>3.925918</td>\n      <td>4.060234</td>\n      <td>4.201889</td>\n      <td>4.235492</td>\n      <td>3.696079</td>\n      <td>3.787640</td>\n    </tr>\n  </tbody>\n</table>\n</div>"
     },
     "metadata": {},
     "execution_count": 84
    }
   ],
   "source": [
    "# Gruppiere nach Wochentagen (Mo-Fr), und bilde den jeweiligen Mittelwert über alle Observationen an dem Wochentag für jedes Bundesland\n",
    "# Tipp: df.columns.weekday, axis=1, mean\n",
    "# ..."
   ]
  },
  {
   "cell_type": "code",
   "execution_count": 85,
   "metadata": {},
   "outputs": [
    {
     "output_type": "execute_result",
     "data": {
      "text/plain": [
       "0    6.504094\n",
       "1    6.658335\n",
       "2    6.770221\n",
       "3    6.933142\n",
       "4    7.133899\n",
       "5    6.146529\n",
       "6    6.316431\n",
       "dtype: float64"
      ]
     },
     "metadata": {},
     "execution_count": 85
    }
   ],
   "source": [
    "# Verwende das Ergebnis des letzten Schritts und berechne den Mittelwert über alle Bundesländer für die jeweiligen Wochentage\n",
    "# Tipp: groupby, mean\n",
    "# ..."
   ]
  },
  {
   "cell_type": "code",
   "execution_count": 86,
   "metadata": {},
   "outputs": [],
   "source": [
    "# Logarithmiere alle Werte im Datensatz und speichere ihn als df_log\n",
    "# Tipp: apply, np.log\n",
    "df_log = # ..."
   ]
  },
  {
   "cell_type": "code",
   "execution_count": 87,
   "metadata": {},
   "outputs": [],
   "source": [
    "# Berechne nun die Differenz der logarithmierten Werte von einem auf den nächsten Tag\n",
    "# Tipp: diff, axis=1\n",
    "df_logdiff = # ..."
   ]
  },
  {
   "cell_type": "code",
   "execution_count": 88,
   "metadata": {},
   "outputs": [
    {
     "output_type": "execute_result",
     "data": {
      "text/plain": [
       "Bundesland\n",
       "Baden-Württemberg         0.183239\n",
       "Bayern                    0.155383\n",
       "Berlin                    0.407905\n",
       "Brandenburg               0.094024\n",
       "Bremen                    0.341611\n",
       "Hamburg                   0.168609\n",
       "Hessen                    0.243075\n",
       "Mecklenburg-Vorpommern    0.077070\n",
       "Niedersachsen             0.140488\n",
       "Nordrhein-Westfalen       0.255480\n",
       "Rheinland-Pfalz           0.133153\n",
       "Saarland                  0.216547\n",
       "Sachsen                   0.133219\n",
       "Sachsen-Anhalt            0.035033\n",
       "Schleswig-Holstein        0.045352\n",
       "Thüringen                 0.051447\n",
       "dtype: float64"
      ]
     },
     "metadata": {},
     "execution_count": 88
    }
   ],
   "source": [
    "# Berechne nun den Mittelwert für jedes Bundesland über alle Beobachtungen\n",
    "# Tipp: mean, axis=1, skipna=True\n",
    "# ..."
   ]
  },
  {
   "cell_type": "code",
   "execution_count": 89,
   "metadata": {},
   "outputs": [],
   "source": [
    "# Berechne nun den Median für jedes Bundesland über alle Beobachtungen\n",
    "# Tipp: median, axis=1, skipna=True\n",
    "df_logdiff.median(axis=1, skipna=True)"
   ]
  },
  {
   "source": [
    "Glückwunsch, du hast es geschafft!"
   ],
   "cell_type": "markdown",
   "metadata": {}
  }
 ]
}