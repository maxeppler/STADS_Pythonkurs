{
 "cells": [
  {
   "cell_type": "markdown",
   "metadata": {},
   "source": [
    "## Einführung Pandas\n",
    "\n",
    "Pandas kann man sich als eine sehr mächtige Version von Excel vorstellen, welche viel mehr Werkzeuge liefert. Hier behandeln:\n",
    "    - Series\n",
    "    - Dataframes\n",
    "    - Missing Data \n",
    "    - GroupBy\n",
    "    - Merging, Joining und Concatenating\n",
    "    - Operationen\n",
    "    - Dateneingabe und -ausgabe"
   ]
  },
  {
   "cell_type": "markdown",
   "metadata": {},
   "source": [
    "** Auch hier müssen wir Pandas erstmal installieren! **\n",
    "via poetry: `poetry add pandas`"
   ]
  },
  {
   "cell_type": "markdown",
   "metadata": {},
   "source": [
    "### Series\n",
    "Eine Folge in Pandas ist fast genau wie ein Numpy Array und fast genau wie eine Liste mit einem individuellen Index. Allerdings erlaubt eine Pandas Serie im Gegensatz zu einem Numpy Array, dass die Achsen beschriftet bzw gelabelt sein können. Es kann zudem jedes beliebige Python Objekt beinhalten."
   ]
  },
  {
   "cell_type": "code",
   "execution_count": 1,
   "metadata": {},
   "outputs": [],
   "source": [
    "# imports\n",
    "\n",
    "import numpy as np\n",
    "import pandas as pd"
   ]
  },
  {
   "cell_type": "code",
   "execution_count": 2,
   "metadata": {},
   "outputs": [],
   "source": [
    "labels = [\"a\",\"b\",\"c\"]\n",
    "liste = [1,2,3]\n",
    "arr = np.array([10,20,30])\n",
    "d = {\"a\":10, \"b\":20, \"c\":30}"
   ]
  },
  {
   "cell_type": "markdown",
   "metadata": {},
   "source": [
    "#### Pandas Serie aus einer Liste"
   ]
  },
  {
   "cell_type": "code",
   "execution_count": 3,
   "metadata": {},
   "outputs": [
    {
     "output_type": "execute_result",
     "data": {
      "text/plain": [
       "0    1\n",
       "1    2\n",
       "2    3\n",
       "dtype: int64"
      ]
     },
     "metadata": {},
     "execution_count": 3
    }
   ],
   "source": [
    "pd.Series(data=liste)"
   ]
  },
  {
   "cell_type": "code",
   "execution_count": 4,
   "metadata": {},
   "outputs": [
    {
     "output_type": "execute_result",
     "data": {
      "text/plain": [
       "a    1\n",
       "b    2\n",
       "c    3\n",
       "dtype: int64"
      ]
     },
     "metadata": {},
     "execution_count": 4
    }
   ],
   "source": [
    "pd.Series(data=liste,index=labels)"
   ]
  },
  {
   "cell_type": "code",
   "execution_count": 5,
   "metadata": {},
   "outputs": [
    {
     "output_type": "execute_result",
     "data": {
      "text/plain": [
       "a    1\n",
       "b    2\n",
       "c    3\n",
       "dtype: int64"
      ]
     },
     "metadata": {},
     "execution_count": 5
    }
   ],
   "source": [
    "# hier nochmal: parameter-namen müssen nicht angegeben werden, wenn man die reihenfolge der parameter einhält!\n",
    "pd.Series(liste,labels)"
   ]
  },
  {
   "cell_type": "markdown",
   "metadata": {},
   "source": [
    "#### Pandas Serie aus einem Numpy Array"
   ]
  },
  {
   "cell_type": "code",
   "execution_count": 6,
   "metadata": {},
   "outputs": [
    {
     "output_type": "execute_result",
     "data": {
      "text/plain": [
       "0    10\n",
       "1    20\n",
       "2    30\n",
       "dtype: int64"
      ]
     },
     "metadata": {},
     "execution_count": 6
    }
   ],
   "source": [
    "pd.Series(arr)"
   ]
  },
  {
   "cell_type": "code",
   "execution_count": 7,
   "metadata": {},
   "outputs": [
    {
     "output_type": "execute_result",
     "data": {
      "text/plain": [
       "a    10\n",
       "b    20\n",
       "c    30\n",
       "dtype: int64"
      ]
     },
     "metadata": {},
     "execution_count": 7
    }
   ],
   "source": [
    "pd.Series(arr,labels)"
   ]
  },
  {
   "cell_type": "markdown",
   "metadata": {},
   "source": [
    "#### Pandas Serie aus einem Dictionary"
   ]
  },
  {
   "cell_type": "code",
   "execution_count": 8,
   "metadata": {},
   "outputs": [
    {
     "output_type": "execute_result",
     "data": {
      "text/plain": [
       "a    10\n",
       "b    20\n",
       "c    30\n",
       "dtype: int64"
      ]
     },
     "metadata": {},
     "execution_count": 8
    }
   ],
   "source": [
    "pd.Series(d)"
   ]
  },
  {
   "cell_type": "markdown",
   "metadata": {},
   "source": [
    "#### Index\n",
    "Die Möglichkeit Indexs zu verwenden macht Pandas Serien sehr nützlich.\n",
    "Beispiel:"
   ]
  },
  {
   "cell_type": "code",
   "execution_count": 9,
   "metadata": {},
   "outputs": [],
   "source": [
    "serie = pd.Series([1,2,3,4], index=[\"Sven\", \"Arthur\", \"Rainer\", \"Georg\"])"
   ]
  },
  {
   "cell_type": "code",
   "execution_count": 10,
   "metadata": {},
   "outputs": [
    {
     "output_type": "execute_result",
     "data": {
      "text/plain": [
       "Sven      1\n",
       "Arthur    2\n",
       "Rainer    3\n",
       "Georg     4\n",
       "dtype: int64"
      ]
     },
     "metadata": {},
     "execution_count": 10
    }
   ],
   "source": [
    "serie"
   ]
  },
  {
   "cell_type": "code",
   "execution_count": 11,
   "metadata": {},
   "outputs": [],
   "source": [
    "serie2 = pd.Series([1,2,5,4], index = [\"Sven\", \"Arthur\", \"Rainer\", \"Georg\"])"
   ]
  },
  {
   "cell_type": "code",
   "execution_count": 12,
   "metadata": {},
   "outputs": [
    {
     "output_type": "execute_result",
     "data": {
      "text/plain": [
       "Sven      1\n",
       "Arthur    2\n",
       "Rainer    5\n",
       "Georg     4\n",
       "dtype: int64"
      ]
     },
     "metadata": {},
     "execution_count": 12
    }
   ],
   "source": [
    "serie2"
   ]
  },
  {
   "cell_type": "code",
   "execution_count": 13,
   "metadata": {},
   "outputs": [
    {
     "output_type": "execute_result",
     "data": {
      "text/plain": [
       "4"
      ]
     },
     "metadata": {},
     "execution_count": 13
    }
   ],
   "source": [
    "serie2[\"Georg\"]"
   ]
  },
  {
   "cell_type": "markdown",
   "metadata": {},
   "source": [
    "Operationen orientieren sich am Index"
   ]
  },
  {
   "cell_type": "code",
   "execution_count": 14,
   "metadata": {},
   "outputs": [
    {
     "output_type": "execute_result",
     "data": {
      "text/plain": [
       "Sven      2\n",
       "Arthur    4\n",
       "Rainer    8\n",
       "Georg     8\n",
       "dtype: int64"
      ]
     },
     "metadata": {},
     "execution_count": 14
    }
   ],
   "source": [
    "serie2 + serie"
   ]
  },
  {
   "cell_type": "markdown",
   "metadata": {},
   "source": [
    "## Pandas DataFrames"
   ]
  },
  {
   "cell_type": "markdown",
   "metadata": {},
   "source": [
    "DataFrames ist das wohl wichtigste Konzept, wenn es um Data Science mit Python geht. Im Grunde sind DataFrames mehrere einzelne Serien welche den gleichen Index teilen und somit eine Art Tabelle (DataFrame) bilden."
   ]
  },
  {
   "cell_type": "code",
   "execution_count": 15,
   "metadata": {},
   "outputs": [],
   "source": [
    "rng=np.random.default_rng()"
   ]
  },
  {
   "cell_type": "code",
   "execution_count": 16,
   "metadata": {},
   "outputs": [],
   "source": [
    "df = pd.DataFrame(rng.random((6,5)), index='A B C D E F'.split(), columns=\"V W X Y Z\".split())"
   ]
  },
  {
   "cell_type": "code",
   "execution_count": 17,
   "metadata": {},
   "outputs": [
    {
     "output_type": "execute_result",
     "data": {
      "text/plain": [
       "          V         W         X         Y         Z\n",
       "A  0.355577  0.105731  0.103734  0.182056  0.523912\n",
       "B  0.555777  0.550569  0.781812  0.820208  0.603625\n",
       "C  0.905441  0.071661  0.547346  0.429186  0.999948\n",
       "D  0.784713  0.827490  0.143071  0.222107  0.526393\n",
       "E  0.312108  0.594676  0.324236  0.306128  0.250516\n",
       "F  0.853728  0.466379  0.624880  0.557055  0.184242"
      ],
      "text/html": "<div>\n<style scoped>\n    .dataframe tbody tr th:only-of-type {\n        vertical-align: middle;\n    }\n\n    .dataframe tbody tr th {\n        vertical-align: top;\n    }\n\n    .dataframe thead th {\n        text-align: right;\n    }\n</style>\n<table border=\"1\" class=\"dataframe\">\n  <thead>\n    <tr style=\"text-align: right;\">\n      <th></th>\n      <th>V</th>\n      <th>W</th>\n      <th>X</th>\n      <th>Y</th>\n      <th>Z</th>\n    </tr>\n  </thead>\n  <tbody>\n    <tr>\n      <th>A</th>\n      <td>0.355577</td>\n      <td>0.105731</td>\n      <td>0.103734</td>\n      <td>0.182056</td>\n      <td>0.523912</td>\n    </tr>\n    <tr>\n      <th>B</th>\n      <td>0.555777</td>\n      <td>0.550569</td>\n      <td>0.781812</td>\n      <td>0.820208</td>\n      <td>0.603625</td>\n    </tr>\n    <tr>\n      <th>C</th>\n      <td>0.905441</td>\n      <td>0.071661</td>\n      <td>0.547346</td>\n      <td>0.429186</td>\n      <td>0.999948</td>\n    </tr>\n    <tr>\n      <th>D</th>\n      <td>0.784713</td>\n      <td>0.827490</td>\n      <td>0.143071</td>\n      <td>0.222107</td>\n      <td>0.526393</td>\n    </tr>\n    <tr>\n      <th>E</th>\n      <td>0.312108</td>\n      <td>0.594676</td>\n      <td>0.324236</td>\n      <td>0.306128</td>\n      <td>0.250516</td>\n    </tr>\n    <tr>\n      <th>F</th>\n      <td>0.853728</td>\n      <td>0.466379</td>\n      <td>0.624880</td>\n      <td>0.557055</td>\n      <td>0.184242</td>\n    </tr>\n  </tbody>\n</table>\n</div>"
     },
     "metadata": {},
     "execution_count": 17
    }
   ],
   "source": [
    "df"
   ]
  },
  {
   "cell_type": "markdown",
   "metadata": {},
   "source": [
    "#### Selecting und Indexing"
   ]
  },
  {
   "cell_type": "code",
   "execution_count": 18,
   "metadata": {},
   "outputs": [
    {
     "output_type": "execute_result",
     "data": {
      "text/plain": [
       "A    0.103734\n",
       "B    0.781812\n",
       "C    0.547346\n",
       "D    0.143071\n",
       "E    0.324236\n",
       "F    0.624880\n",
       "Name: X, dtype: float64"
      ]
     },
     "metadata": {},
     "execution_count": 18
    }
   ],
   "source": [
    "df[\"X\"]"
   ]
  },
  {
   "cell_type": "markdown",
   "metadata": {},
   "source": [
    "Gibt uns die Spalte mit dem Index X zurück, welche nichts anderes als eine Pandas Serie ist!"
   ]
  },
  {
   "cell_type": "code",
   "execution_count": 19,
   "metadata": {},
   "outputs": [
    {
     "output_type": "execute_result",
     "data": {
      "text/plain": [
       "          W         X\n",
       "A  0.105731  0.103734\n",
       "B  0.550569  0.781812\n",
       "C  0.071661  0.547346\n",
       "D  0.827490  0.143071\n",
       "E  0.594676  0.324236\n",
       "F  0.466379  0.624880"
      ],
      "text/html": "<div>\n<style scoped>\n    .dataframe tbody tr th:only-of-type {\n        vertical-align: middle;\n    }\n\n    .dataframe tbody tr th {\n        vertical-align: top;\n    }\n\n    .dataframe thead th {\n        text-align: right;\n    }\n</style>\n<table border=\"1\" class=\"dataframe\">\n  <thead>\n    <tr style=\"text-align: right;\">\n      <th></th>\n      <th>W</th>\n      <th>X</th>\n    </tr>\n  </thead>\n  <tbody>\n    <tr>\n      <th>A</th>\n      <td>0.105731</td>\n      <td>0.103734</td>\n    </tr>\n    <tr>\n      <th>B</th>\n      <td>0.550569</td>\n      <td>0.781812</td>\n    </tr>\n    <tr>\n      <th>C</th>\n      <td>0.071661</td>\n      <td>0.547346</td>\n    </tr>\n    <tr>\n      <th>D</th>\n      <td>0.827490</td>\n      <td>0.143071</td>\n    </tr>\n    <tr>\n      <th>E</th>\n      <td>0.594676</td>\n      <td>0.324236</td>\n    </tr>\n    <tr>\n      <th>F</th>\n      <td>0.466379</td>\n      <td>0.624880</td>\n    </tr>\n  </tbody>\n</table>\n</div>"
     },
     "metadata": {},
     "execution_count": 19
    }
   ],
   "source": [
    "# man kann auch gleich mehrere Spalten ausgeben lassen, indem man eine Liste mit den Indexen übergibt\n",
    "df[[\"W\",\"X\"]]"
   ]
  },
  {
   "cell_type": "code",
   "execution_count": 20,
   "metadata": {},
   "outputs": [
    {
     "output_type": "execute_result",
     "data": {
      "text/plain": [
       "A    0.105731\n",
       "B    0.550569\n",
       "C    0.071661\n",
       "D    0.827490\n",
       "E    0.594676\n",
       "F    0.466379\n",
       "Name: W, dtype: float64"
      ]
     },
     "metadata": {},
     "execution_count": 20
    }
   ],
   "source": [
    "# es gibt auch eine andere Syntax, welche sich and SQL orientiert\n",
    "df.W\n",
    "# Allerdings werden wir diesen nicht verwenden!"
   ]
  },
  {
   "cell_type": "markdown",
   "metadata": {},
   "source": [
    "#### Neue Spalte erzeugen"
   ]
  },
  {
   "cell_type": "code",
   "execution_count": 21,
   "metadata": {},
   "outputs": [],
   "source": [
    "df[\"neu\"] = df[\"X\"] + df[\"Z\"]"
   ]
  },
  {
   "cell_type": "code",
   "execution_count": 22,
   "metadata": {},
   "outputs": [
    {
     "output_type": "execute_result",
     "data": {
      "text/plain": [
       "A    0.627646\n",
       "B    1.385437\n",
       "C    1.547294\n",
       "D    0.669464\n",
       "E    0.574752\n",
       "F    0.809122\n",
       "Name: neu, dtype: float64"
      ]
     },
     "metadata": {},
     "execution_count": 22
    }
   ],
   "source": [
    "df[\"neu\"]"
   ]
  },
  {
   "cell_type": "code",
   "execution_count": 23,
   "metadata": {},
   "outputs": [
    {
     "output_type": "execute_result",
     "data": {
      "text/plain": [
       "          V         W         X         Y         Z       neu\n",
       "A  0.355577  0.105731  0.103734  0.182056  0.523912  0.627646\n",
       "B  0.555777  0.550569  0.781812  0.820208  0.603625  1.385437\n",
       "C  0.905441  0.071661  0.547346  0.429186  0.999948  1.547294\n",
       "D  0.784713  0.827490  0.143071  0.222107  0.526393  0.669464\n",
       "E  0.312108  0.594676  0.324236  0.306128  0.250516  0.574752\n",
       "F  0.853728  0.466379  0.624880  0.557055  0.184242  0.809122"
      ],
      "text/html": "<div>\n<style scoped>\n    .dataframe tbody tr th:only-of-type {\n        vertical-align: middle;\n    }\n\n    .dataframe tbody tr th {\n        vertical-align: top;\n    }\n\n    .dataframe thead th {\n        text-align: right;\n    }\n</style>\n<table border=\"1\" class=\"dataframe\">\n  <thead>\n    <tr style=\"text-align: right;\">\n      <th></th>\n      <th>V</th>\n      <th>W</th>\n      <th>X</th>\n      <th>Y</th>\n      <th>Z</th>\n      <th>neu</th>\n    </tr>\n  </thead>\n  <tbody>\n    <tr>\n      <th>A</th>\n      <td>0.355577</td>\n      <td>0.105731</td>\n      <td>0.103734</td>\n      <td>0.182056</td>\n      <td>0.523912</td>\n      <td>0.627646</td>\n    </tr>\n    <tr>\n      <th>B</th>\n      <td>0.555777</td>\n      <td>0.550569</td>\n      <td>0.781812</td>\n      <td>0.820208</td>\n      <td>0.603625</td>\n      <td>1.385437</td>\n    </tr>\n    <tr>\n      <th>C</th>\n      <td>0.905441</td>\n      <td>0.071661</td>\n      <td>0.547346</td>\n      <td>0.429186</td>\n      <td>0.999948</td>\n      <td>1.547294</td>\n    </tr>\n    <tr>\n      <th>D</th>\n      <td>0.784713</td>\n      <td>0.827490</td>\n      <td>0.143071</td>\n      <td>0.222107</td>\n      <td>0.526393</td>\n      <td>0.669464</td>\n    </tr>\n    <tr>\n      <th>E</th>\n      <td>0.312108</td>\n      <td>0.594676</td>\n      <td>0.324236</td>\n      <td>0.306128</td>\n      <td>0.250516</td>\n      <td>0.574752</td>\n    </tr>\n    <tr>\n      <th>F</th>\n      <td>0.853728</td>\n      <td>0.466379</td>\n      <td>0.624880</td>\n      <td>0.557055</td>\n      <td>0.184242</td>\n      <td>0.809122</td>\n    </tr>\n  </tbody>\n</table>\n</div>"
     },
     "metadata": {},
     "execution_count": 23
    }
   ],
   "source": [
    "df"
   ]
  },
  {
   "cell_type": "markdown",
   "metadata": {},
   "source": [
    "#### Spalten löschen"
   ]
  },
  {
   "cell_type": "code",
   "execution_count": 24,
   "metadata": {},
   "outputs": [
    {
     "output_type": "execute_result",
     "data": {
      "text/plain": [
       "          V         W         X         Y         Z\n",
       "A  0.355577  0.105731  0.103734  0.182056  0.523912\n",
       "B  0.555777  0.550569  0.781812  0.820208  0.603625\n",
       "C  0.905441  0.071661  0.547346  0.429186  0.999948\n",
       "D  0.784713  0.827490  0.143071  0.222107  0.526393\n",
       "E  0.312108  0.594676  0.324236  0.306128  0.250516\n",
       "F  0.853728  0.466379  0.624880  0.557055  0.184242"
      ],
      "text/html": "<div>\n<style scoped>\n    .dataframe tbody tr th:only-of-type {\n        vertical-align: middle;\n    }\n\n    .dataframe tbody tr th {\n        vertical-align: top;\n    }\n\n    .dataframe thead th {\n        text-align: right;\n    }\n</style>\n<table border=\"1\" class=\"dataframe\">\n  <thead>\n    <tr style=\"text-align: right;\">\n      <th></th>\n      <th>V</th>\n      <th>W</th>\n      <th>X</th>\n      <th>Y</th>\n      <th>Z</th>\n    </tr>\n  </thead>\n  <tbody>\n    <tr>\n      <th>A</th>\n      <td>0.355577</td>\n      <td>0.105731</td>\n      <td>0.103734</td>\n      <td>0.182056</td>\n      <td>0.523912</td>\n    </tr>\n    <tr>\n      <th>B</th>\n      <td>0.555777</td>\n      <td>0.550569</td>\n      <td>0.781812</td>\n      <td>0.820208</td>\n      <td>0.603625</td>\n    </tr>\n    <tr>\n      <th>C</th>\n      <td>0.905441</td>\n      <td>0.071661</td>\n      <td>0.547346</td>\n      <td>0.429186</td>\n      <td>0.999948</td>\n    </tr>\n    <tr>\n      <th>D</th>\n      <td>0.784713</td>\n      <td>0.827490</td>\n      <td>0.143071</td>\n      <td>0.222107</td>\n      <td>0.526393</td>\n    </tr>\n    <tr>\n      <th>E</th>\n      <td>0.312108</td>\n      <td>0.594676</td>\n      <td>0.324236</td>\n      <td>0.306128</td>\n      <td>0.250516</td>\n    </tr>\n    <tr>\n      <th>F</th>\n      <td>0.853728</td>\n      <td>0.466379</td>\n      <td>0.624880</td>\n      <td>0.557055</td>\n      <td>0.184242</td>\n    </tr>\n  </tbody>\n</table>\n</div>"
     },
     "metadata": {},
     "execution_count": 24
    }
   ],
   "source": [
    "df.drop(\"neu\",axis=1)"
   ]
  },
  {
   "cell_type": "code",
   "execution_count": 25,
   "metadata": {},
   "outputs": [
    {
     "output_type": "execute_result",
     "data": {
      "text/plain": [
       "          V         W         X         Y         Z       neu\n",
       "A  0.355577  0.105731  0.103734  0.182056  0.523912  0.627646\n",
       "B  0.555777  0.550569  0.781812  0.820208  0.603625  1.385437\n",
       "C  0.905441  0.071661  0.547346  0.429186  0.999948  1.547294\n",
       "D  0.784713  0.827490  0.143071  0.222107  0.526393  0.669464\n",
       "E  0.312108  0.594676  0.324236  0.306128  0.250516  0.574752\n",
       "F  0.853728  0.466379  0.624880  0.557055  0.184242  0.809122"
      ],
      "text/html": "<div>\n<style scoped>\n    .dataframe tbody tr th:only-of-type {\n        vertical-align: middle;\n    }\n\n    .dataframe tbody tr th {\n        vertical-align: top;\n    }\n\n    .dataframe thead th {\n        text-align: right;\n    }\n</style>\n<table border=\"1\" class=\"dataframe\">\n  <thead>\n    <tr style=\"text-align: right;\">\n      <th></th>\n      <th>V</th>\n      <th>W</th>\n      <th>X</th>\n      <th>Y</th>\n      <th>Z</th>\n      <th>neu</th>\n    </tr>\n  </thead>\n  <tbody>\n    <tr>\n      <th>A</th>\n      <td>0.355577</td>\n      <td>0.105731</td>\n      <td>0.103734</td>\n      <td>0.182056</td>\n      <td>0.523912</td>\n      <td>0.627646</td>\n    </tr>\n    <tr>\n      <th>B</th>\n      <td>0.555777</td>\n      <td>0.550569</td>\n      <td>0.781812</td>\n      <td>0.820208</td>\n      <td>0.603625</td>\n      <td>1.385437</td>\n    </tr>\n    <tr>\n      <th>C</th>\n      <td>0.905441</td>\n      <td>0.071661</td>\n      <td>0.547346</td>\n      <td>0.429186</td>\n      <td>0.999948</td>\n      <td>1.547294</td>\n    </tr>\n    <tr>\n      <th>D</th>\n      <td>0.784713</td>\n      <td>0.827490</td>\n      <td>0.143071</td>\n      <td>0.222107</td>\n      <td>0.526393</td>\n      <td>0.669464</td>\n    </tr>\n    <tr>\n      <th>E</th>\n      <td>0.312108</td>\n      <td>0.594676</td>\n      <td>0.324236</td>\n      <td>0.306128</td>\n      <td>0.250516</td>\n      <td>0.574752</td>\n    </tr>\n    <tr>\n      <th>F</th>\n      <td>0.853728</td>\n      <td>0.466379</td>\n      <td>0.624880</td>\n      <td>0.557055</td>\n      <td>0.184242</td>\n      <td>0.809122</td>\n    </tr>\n  </tbody>\n</table>\n</div>"
     },
     "metadata": {},
     "execution_count": 25
    }
   ],
   "source": [
    "# es wird nur aus der Ansicht gelöscht, aber nicht aus dem eigentlichen DataFrame (das muss explizit spezifiziert werden)!\n",
    "df"
   ]
  },
  {
   "cell_type": "code",
   "execution_count": 26,
   "metadata": {},
   "outputs": [],
   "source": [
    "# um die Spalte 'komplett' zu löschen muss der inplace-Parameter auf True gesetzt werden\n",
    "df.drop(\"neu\",axis=1,inplace=True)"
   ]
  },
  {
   "cell_type": "code",
   "execution_count": 27,
   "metadata": {},
   "outputs": [
    {
     "output_type": "execute_result",
     "data": {
      "text/plain": [
       "          V         W         X         Y         Z\n",
       "A  0.355577  0.105731  0.103734  0.182056  0.523912\n",
       "B  0.555777  0.550569  0.781812  0.820208  0.603625\n",
       "C  0.905441  0.071661  0.547346  0.429186  0.999948\n",
       "D  0.784713  0.827490  0.143071  0.222107  0.526393\n",
       "E  0.312108  0.594676  0.324236  0.306128  0.250516\n",
       "F  0.853728  0.466379  0.624880  0.557055  0.184242"
      ],
      "text/html": "<div>\n<style scoped>\n    .dataframe tbody tr th:only-of-type {\n        vertical-align: middle;\n    }\n\n    .dataframe tbody tr th {\n        vertical-align: top;\n    }\n\n    .dataframe thead th {\n        text-align: right;\n    }\n</style>\n<table border=\"1\" class=\"dataframe\">\n  <thead>\n    <tr style=\"text-align: right;\">\n      <th></th>\n      <th>V</th>\n      <th>W</th>\n      <th>X</th>\n      <th>Y</th>\n      <th>Z</th>\n    </tr>\n  </thead>\n  <tbody>\n    <tr>\n      <th>A</th>\n      <td>0.355577</td>\n      <td>0.105731</td>\n      <td>0.103734</td>\n      <td>0.182056</td>\n      <td>0.523912</td>\n    </tr>\n    <tr>\n      <th>B</th>\n      <td>0.555777</td>\n      <td>0.550569</td>\n      <td>0.781812</td>\n      <td>0.820208</td>\n      <td>0.603625</td>\n    </tr>\n    <tr>\n      <th>C</th>\n      <td>0.905441</td>\n      <td>0.071661</td>\n      <td>0.547346</td>\n      <td>0.429186</td>\n      <td>0.999948</td>\n    </tr>\n    <tr>\n      <th>D</th>\n      <td>0.784713</td>\n      <td>0.827490</td>\n      <td>0.143071</td>\n      <td>0.222107</td>\n      <td>0.526393</td>\n    </tr>\n    <tr>\n      <th>E</th>\n      <td>0.312108</td>\n      <td>0.594676</td>\n      <td>0.324236</td>\n      <td>0.306128</td>\n      <td>0.250516</td>\n    </tr>\n    <tr>\n      <th>F</th>\n      <td>0.853728</td>\n      <td>0.466379</td>\n      <td>0.624880</td>\n      <td>0.557055</td>\n      <td>0.184242</td>\n    </tr>\n  </tbody>\n</table>\n</div>"
     },
     "metadata": {},
     "execution_count": 27
    }
   ],
   "source": [
    "df"
   ]
  },
  {
   "cell_type": "markdown",
   "metadata": {},
   "source": [
    "#### Zeilen löschen\n",
    "\n",
    "Funktioniert genauso, nur muss der axis-Parameter auf 0 gesetzt werden"
   ]
  },
  {
   "cell_type": "code",
   "execution_count": 28,
   "metadata": {},
   "outputs": [
    {
     "output_type": "execute_result",
     "data": {
      "text/plain": [
       "          V         W         X         Y         Z\n",
       "A  0.355577  0.105731  0.103734  0.182056  0.523912\n",
       "B  0.555777  0.550569  0.781812  0.820208  0.603625\n",
       "C  0.905441  0.071661  0.547346  0.429186  0.999948\n",
       "D  0.784713  0.827490  0.143071  0.222107  0.526393\n",
       "E  0.312108  0.594676  0.324236  0.306128  0.250516"
      ],
      "text/html": "<div>\n<style scoped>\n    .dataframe tbody tr th:only-of-type {\n        vertical-align: middle;\n    }\n\n    .dataframe tbody tr th {\n        vertical-align: top;\n    }\n\n    .dataframe thead th {\n        text-align: right;\n    }\n</style>\n<table border=\"1\" class=\"dataframe\">\n  <thead>\n    <tr style=\"text-align: right;\">\n      <th></th>\n      <th>V</th>\n      <th>W</th>\n      <th>X</th>\n      <th>Y</th>\n      <th>Z</th>\n    </tr>\n  </thead>\n  <tbody>\n    <tr>\n      <th>A</th>\n      <td>0.355577</td>\n      <td>0.105731</td>\n      <td>0.103734</td>\n      <td>0.182056</td>\n      <td>0.523912</td>\n    </tr>\n    <tr>\n      <th>B</th>\n      <td>0.555777</td>\n      <td>0.550569</td>\n      <td>0.781812</td>\n      <td>0.820208</td>\n      <td>0.603625</td>\n    </tr>\n    <tr>\n      <th>C</th>\n      <td>0.905441</td>\n      <td>0.071661</td>\n      <td>0.547346</td>\n      <td>0.429186</td>\n      <td>0.999948</td>\n    </tr>\n    <tr>\n      <th>D</th>\n      <td>0.784713</td>\n      <td>0.827490</td>\n      <td>0.143071</td>\n      <td>0.222107</td>\n      <td>0.526393</td>\n    </tr>\n    <tr>\n      <th>E</th>\n      <td>0.312108</td>\n      <td>0.594676</td>\n      <td>0.324236</td>\n      <td>0.306128</td>\n      <td>0.250516</td>\n    </tr>\n  </tbody>\n</table>\n</div>"
     },
     "metadata": {},
     "execution_count": 28
    }
   ],
   "source": [
    "df.drop(\"F\",axis=0)"
   ]
  },
  {
   "cell_type": "markdown",
   "metadata": {},
   "source": [
    "#### Reihen auswählen"
   ]
  },
  {
   "cell_type": "code",
   "execution_count": 29,
   "metadata": {},
   "outputs": [
    {
     "output_type": "execute_result",
     "data": {
      "text/plain": [
       "V    0.355577\n",
       "W    0.105731\n",
       "X    0.103734\n",
       "Y    0.182056\n",
       "Z    0.523912\n",
       "Name: A, dtype: float64"
      ]
     },
     "metadata": {},
     "execution_count": 29
    }
   ],
   "source": [
    "df.loc[\"A\"]"
   ]
  },
  {
   "cell_type": "code",
   "execution_count": 30,
   "metadata": {},
   "outputs": [
    {
     "output_type": "execute_result",
     "data": {
      "text/plain": [
       "V    0.312108\n",
       "W    0.594676\n",
       "X    0.324236\n",
       "Y    0.306128\n",
       "Z    0.250516\n",
       "Name: E, dtype: float64"
      ]
     },
     "metadata": {},
     "execution_count": 30
    }
   ],
   "source": [
    "# man kann auch die Position, anstelle des Index-Namens benutzen\n",
    "df.iloc[4]"
   ]
  },
  {
   "cell_type": "markdown",
   "metadata": {},
   "source": [
    "#### Teilmengen von Zeilen und Spalten auswählen"
   ]
  },
  {
   "cell_type": "code",
   "execution_count": 31,
   "metadata": {},
   "outputs": [
    {
     "output_type": "execute_result",
     "data": {
      "text/plain": [
       "0.6036251114966996"
      ]
     },
     "metadata": {},
     "execution_count": 31
    }
   ],
   "source": [
    "df.loc[\"B\",\"Z\"]"
   ]
  },
  {
   "cell_type": "code",
   "execution_count": 32,
   "metadata": {},
   "outputs": [
    {
     "output_type": "execute_result",
     "data": {
      "text/plain": [
       "          Y         Z\n",
       "A  0.182056  0.523912\n",
       "B  0.820208  0.603625"
      ],
      "text/html": "<div>\n<style scoped>\n    .dataframe tbody tr th:only-of-type {\n        vertical-align: middle;\n    }\n\n    .dataframe tbody tr th {\n        vertical-align: top;\n    }\n\n    .dataframe thead th {\n        text-align: right;\n    }\n</style>\n<table border=\"1\" class=\"dataframe\">\n  <thead>\n    <tr style=\"text-align: right;\">\n      <th></th>\n      <th>Y</th>\n      <th>Z</th>\n    </tr>\n  </thead>\n  <tbody>\n    <tr>\n      <th>A</th>\n      <td>0.182056</td>\n      <td>0.523912</td>\n    </tr>\n    <tr>\n      <th>B</th>\n      <td>0.820208</td>\n      <td>0.603625</td>\n    </tr>\n  </tbody>\n</table>\n</div>"
     },
     "metadata": {},
     "execution_count": 32
    }
   ],
   "source": [
    "df.loc[[\"A\",\"B\"],[\"Y\",\"Z\"]]"
   ]
  },
  {
   "cell_type": "markdown",
   "metadata": {},
   "source": [
    "#### Bedingte Auswahl"
   ]
  },
  {
   "cell_type": "code",
   "execution_count": 33,
   "metadata": {},
   "outputs": [
    {
     "output_type": "execute_result",
     "data": {
      "text/plain": [
       "      V     W     X     Y     Z\n",
       "A  True  True  True  True  True\n",
       "B  True  True  True  True  True\n",
       "C  True  True  True  True  True\n",
       "D  True  True  True  True  True\n",
       "E  True  True  True  True  True\n",
       "F  True  True  True  True  True"
      ],
      "text/html": "<div>\n<style scoped>\n    .dataframe tbody tr th:only-of-type {\n        vertical-align: middle;\n    }\n\n    .dataframe tbody tr th {\n        vertical-align: top;\n    }\n\n    .dataframe thead th {\n        text-align: right;\n    }\n</style>\n<table border=\"1\" class=\"dataframe\">\n  <thead>\n    <tr style=\"text-align: right;\">\n      <th></th>\n      <th>V</th>\n      <th>W</th>\n      <th>X</th>\n      <th>Y</th>\n      <th>Z</th>\n    </tr>\n  </thead>\n  <tbody>\n    <tr>\n      <th>A</th>\n      <td>True</td>\n      <td>True</td>\n      <td>True</td>\n      <td>True</td>\n      <td>True</td>\n    </tr>\n    <tr>\n      <th>B</th>\n      <td>True</td>\n      <td>True</td>\n      <td>True</td>\n      <td>True</td>\n      <td>True</td>\n    </tr>\n    <tr>\n      <th>C</th>\n      <td>True</td>\n      <td>True</td>\n      <td>True</td>\n      <td>True</td>\n      <td>True</td>\n    </tr>\n    <tr>\n      <th>D</th>\n      <td>True</td>\n      <td>True</td>\n      <td>True</td>\n      <td>True</td>\n      <td>True</td>\n    </tr>\n    <tr>\n      <th>E</th>\n      <td>True</td>\n      <td>True</td>\n      <td>True</td>\n      <td>True</td>\n      <td>True</td>\n    </tr>\n    <tr>\n      <th>F</th>\n      <td>True</td>\n      <td>True</td>\n      <td>True</td>\n      <td>True</td>\n      <td>True</td>\n    </tr>\n  </tbody>\n</table>\n</div>"
     },
     "metadata": {},
     "execution_count": 33
    }
   ],
   "source": [
    "df>0"
   ]
  },
  {
   "cell_type": "code",
   "execution_count": 34,
   "metadata": {},
   "outputs": [
    {
     "output_type": "execute_result",
     "data": {
      "text/plain": [
       "          V         W         X         Y         Z\n",
       "A  0.355577  0.105731  0.103734  0.182056  0.523912\n",
       "B  0.555777  0.550569  0.781812  0.820208  0.603625\n",
       "C  0.905441  0.071661  0.547346  0.429186  0.999948\n",
       "D  0.784713  0.827490  0.143071  0.222107  0.526393\n",
       "E  0.312108  0.594676  0.324236  0.306128  0.250516\n",
       "F  0.853728  0.466379  0.624880  0.557055  0.184242"
      ],
      "text/html": "<div>\n<style scoped>\n    .dataframe tbody tr th:only-of-type {\n        vertical-align: middle;\n    }\n\n    .dataframe tbody tr th {\n        vertical-align: top;\n    }\n\n    .dataframe thead th {\n        text-align: right;\n    }\n</style>\n<table border=\"1\" class=\"dataframe\">\n  <thead>\n    <tr style=\"text-align: right;\">\n      <th></th>\n      <th>V</th>\n      <th>W</th>\n      <th>X</th>\n      <th>Y</th>\n      <th>Z</th>\n    </tr>\n  </thead>\n  <tbody>\n    <tr>\n      <th>A</th>\n      <td>0.355577</td>\n      <td>0.105731</td>\n      <td>0.103734</td>\n      <td>0.182056</td>\n      <td>0.523912</td>\n    </tr>\n    <tr>\n      <th>B</th>\n      <td>0.555777</td>\n      <td>0.550569</td>\n      <td>0.781812</td>\n      <td>0.820208</td>\n      <td>0.603625</td>\n    </tr>\n    <tr>\n      <th>C</th>\n      <td>0.905441</td>\n      <td>0.071661</td>\n      <td>0.547346</td>\n      <td>0.429186</td>\n      <td>0.999948</td>\n    </tr>\n    <tr>\n      <th>D</th>\n      <td>0.784713</td>\n      <td>0.827490</td>\n      <td>0.143071</td>\n      <td>0.222107</td>\n      <td>0.526393</td>\n    </tr>\n    <tr>\n      <th>E</th>\n      <td>0.312108</td>\n      <td>0.594676</td>\n      <td>0.324236</td>\n      <td>0.306128</td>\n      <td>0.250516</td>\n    </tr>\n    <tr>\n      <th>F</th>\n      <td>0.853728</td>\n      <td>0.466379</td>\n      <td>0.624880</td>\n      <td>0.557055</td>\n      <td>0.184242</td>\n    </tr>\n  </tbody>\n</table>\n</div>"
     },
     "metadata": {},
     "execution_count": 34
    }
   ],
   "source": [
    "df[df>0]"
   ]
  },
  {
   "cell_type": "code",
   "execution_count": 35,
   "metadata": {},
   "outputs": [
    {
     "output_type": "execute_result",
     "data": {
      "text/plain": [
       "          V         W         X         Y         Z\n",
       "A  0.355577  0.105731  0.103734  0.182056  0.523912\n",
       "B  0.555777  0.550569  0.781812  0.820208  0.603625\n",
       "C  0.905441  0.071661  0.547346  0.429186  0.999948\n",
       "D  0.784713  0.827490  0.143071  0.222107  0.526393\n",
       "E  0.312108  0.594676  0.324236  0.306128  0.250516\n",
       "F  0.853728  0.466379  0.624880  0.557055  0.184242"
      ],
      "text/html": "<div>\n<style scoped>\n    .dataframe tbody tr th:only-of-type {\n        vertical-align: middle;\n    }\n\n    .dataframe tbody tr th {\n        vertical-align: top;\n    }\n\n    .dataframe thead th {\n        text-align: right;\n    }\n</style>\n<table border=\"1\" class=\"dataframe\">\n  <thead>\n    <tr style=\"text-align: right;\">\n      <th></th>\n      <th>V</th>\n      <th>W</th>\n      <th>X</th>\n      <th>Y</th>\n      <th>Z</th>\n    </tr>\n  </thead>\n  <tbody>\n    <tr>\n      <th>A</th>\n      <td>0.355577</td>\n      <td>0.105731</td>\n      <td>0.103734</td>\n      <td>0.182056</td>\n      <td>0.523912</td>\n    </tr>\n    <tr>\n      <th>B</th>\n      <td>0.555777</td>\n      <td>0.550569</td>\n      <td>0.781812</td>\n      <td>0.820208</td>\n      <td>0.603625</td>\n    </tr>\n    <tr>\n      <th>C</th>\n      <td>0.905441</td>\n      <td>0.071661</td>\n      <td>0.547346</td>\n      <td>0.429186</td>\n      <td>0.999948</td>\n    </tr>\n    <tr>\n      <th>D</th>\n      <td>0.784713</td>\n      <td>0.827490</td>\n      <td>0.143071</td>\n      <td>0.222107</td>\n      <td>0.526393</td>\n    </tr>\n    <tr>\n      <th>E</th>\n      <td>0.312108</td>\n      <td>0.594676</td>\n      <td>0.324236</td>\n      <td>0.306128</td>\n      <td>0.250516</td>\n    </tr>\n    <tr>\n      <th>F</th>\n      <td>0.853728</td>\n      <td>0.466379</td>\n      <td>0.624880</td>\n      <td>0.557055</td>\n      <td>0.184242</td>\n    </tr>\n  </tbody>\n</table>\n</div>"
     },
     "metadata": {},
     "execution_count": 35
    }
   ],
   "source": [
    "df[df[\"V\"]>0]"
   ]
  },
  {
   "cell_type": "code",
   "execution_count": 36,
   "metadata": {},
   "outputs": [
    {
     "output_type": "execute_result",
     "data": {
      "text/plain": [
       "A    0.523912\n",
       "B    0.603625\n",
       "C    0.999948\n",
       "D    0.526393\n",
       "E    0.250516\n",
       "F    0.184242\n",
       "Name: Z, dtype: float64"
      ]
     },
     "metadata": {},
     "execution_count": 36
    }
   ],
   "source": [
    "df[df[\"V\"]>0][\"Z\"]"
   ]
  },
  {
   "cell_type": "code",
   "execution_count": 37,
   "metadata": {},
   "outputs": [
    {
     "output_type": "execute_result",
     "data": {
      "text/plain": [
       "          Y         Z\n",
       "A  0.182056  0.523912\n",
       "B  0.820208  0.603625\n",
       "C  0.429186  0.999948\n",
       "D  0.222107  0.526393\n",
       "E  0.306128  0.250516\n",
       "F  0.557055  0.184242"
      ],
      "text/html": "<div>\n<style scoped>\n    .dataframe tbody tr th:only-of-type {\n        vertical-align: middle;\n    }\n\n    .dataframe tbody tr th {\n        vertical-align: top;\n    }\n\n    .dataframe thead th {\n        text-align: right;\n    }\n</style>\n<table border=\"1\" class=\"dataframe\">\n  <thead>\n    <tr style=\"text-align: right;\">\n      <th></th>\n      <th>Y</th>\n      <th>Z</th>\n    </tr>\n  </thead>\n  <tbody>\n    <tr>\n      <th>A</th>\n      <td>0.182056</td>\n      <td>0.523912</td>\n    </tr>\n    <tr>\n      <th>B</th>\n      <td>0.820208</td>\n      <td>0.603625</td>\n    </tr>\n    <tr>\n      <th>C</th>\n      <td>0.429186</td>\n      <td>0.999948</td>\n    </tr>\n    <tr>\n      <th>D</th>\n      <td>0.222107</td>\n      <td>0.526393</td>\n    </tr>\n    <tr>\n      <th>E</th>\n      <td>0.306128</td>\n      <td>0.250516</td>\n    </tr>\n    <tr>\n      <th>F</th>\n      <td>0.557055</td>\n      <td>0.184242</td>\n    </tr>\n  </tbody>\n</table>\n</div>"
     },
     "metadata": {},
     "execution_count": 37
    }
   ],
   "source": [
    "df[df[\"V\"]>0][[\"Y\",\"Z\"]]"
   ]
  },
  {
   "cell_type": "markdown",
   "metadata": {},
   "source": [
    "#### Weitere Möglichkeiten"
   ]
  },
  {
   "cell_type": "code",
   "execution_count": 38,
   "metadata": {},
   "outputs": [
    {
     "output_type": "execute_result",
     "data": {
      "text/plain": [
       "          V         W         X         Y         Z\n",
       "A  0.355577  0.105731  0.103734  0.182056  0.523912\n",
       "B  0.555777  0.550569  0.781812  0.820208  0.603625\n",
       "C  0.905441  0.071661  0.547346  0.429186  0.999948\n",
       "D  0.784713  0.827490  0.143071  0.222107  0.526393\n",
       "E  0.312108  0.594676  0.324236  0.306128  0.250516\n",
       "F  0.853728  0.466379  0.624880  0.557055  0.184242"
      ],
      "text/html": "<div>\n<style scoped>\n    .dataframe tbody tr th:only-of-type {\n        vertical-align: middle;\n    }\n\n    .dataframe tbody tr th {\n        vertical-align: top;\n    }\n\n    .dataframe thead th {\n        text-align: right;\n    }\n</style>\n<table border=\"1\" class=\"dataframe\">\n  <thead>\n    <tr style=\"text-align: right;\">\n      <th></th>\n      <th>V</th>\n      <th>W</th>\n      <th>X</th>\n      <th>Y</th>\n      <th>Z</th>\n    </tr>\n  </thead>\n  <tbody>\n    <tr>\n      <th>A</th>\n      <td>0.355577</td>\n      <td>0.105731</td>\n      <td>0.103734</td>\n      <td>0.182056</td>\n      <td>0.523912</td>\n    </tr>\n    <tr>\n      <th>B</th>\n      <td>0.555777</td>\n      <td>0.550569</td>\n      <td>0.781812</td>\n      <td>0.820208</td>\n      <td>0.603625</td>\n    </tr>\n    <tr>\n      <th>C</th>\n      <td>0.905441</td>\n      <td>0.071661</td>\n      <td>0.547346</td>\n      <td>0.429186</td>\n      <td>0.999948</td>\n    </tr>\n    <tr>\n      <th>D</th>\n      <td>0.784713</td>\n      <td>0.827490</td>\n      <td>0.143071</td>\n      <td>0.222107</td>\n      <td>0.526393</td>\n    </tr>\n    <tr>\n      <th>E</th>\n      <td>0.312108</td>\n      <td>0.594676</td>\n      <td>0.324236</td>\n      <td>0.306128</td>\n      <td>0.250516</td>\n    </tr>\n    <tr>\n      <th>F</th>\n      <td>0.853728</td>\n      <td>0.466379</td>\n      <td>0.624880</td>\n      <td>0.557055</td>\n      <td>0.184242</td>\n    </tr>\n  </tbody>\n</table>\n</div>"
     },
     "metadata": {},
     "execution_count": 38
    }
   ],
   "source": [
    "df"
   ]
  },
  {
   "cell_type": "code",
   "execution_count": 39,
   "metadata": {},
   "outputs": [
    {
     "output_type": "execute_result",
     "data": {
      "text/plain": [
       "  index         V         W         X         Y         Z\n",
       "0     A  0.355577  0.105731  0.103734  0.182056  0.523912\n",
       "1     B  0.555777  0.550569  0.781812  0.820208  0.603625\n",
       "2     C  0.905441  0.071661  0.547346  0.429186  0.999948\n",
       "3     D  0.784713  0.827490  0.143071  0.222107  0.526393\n",
       "4     E  0.312108  0.594676  0.324236  0.306128  0.250516\n",
       "5     F  0.853728  0.466379  0.624880  0.557055  0.184242"
      ],
      "text/html": "<div>\n<style scoped>\n    .dataframe tbody tr th:only-of-type {\n        vertical-align: middle;\n    }\n\n    .dataframe tbody tr th {\n        vertical-align: top;\n    }\n\n    .dataframe thead th {\n        text-align: right;\n    }\n</style>\n<table border=\"1\" class=\"dataframe\">\n  <thead>\n    <tr style=\"text-align: right;\">\n      <th></th>\n      <th>index</th>\n      <th>V</th>\n      <th>W</th>\n      <th>X</th>\n      <th>Y</th>\n      <th>Z</th>\n    </tr>\n  </thead>\n  <tbody>\n    <tr>\n      <th>0</th>\n      <td>A</td>\n      <td>0.355577</td>\n      <td>0.105731</td>\n      <td>0.103734</td>\n      <td>0.182056</td>\n      <td>0.523912</td>\n    </tr>\n    <tr>\n      <th>1</th>\n      <td>B</td>\n      <td>0.555777</td>\n      <td>0.550569</td>\n      <td>0.781812</td>\n      <td>0.820208</td>\n      <td>0.603625</td>\n    </tr>\n    <tr>\n      <th>2</th>\n      <td>C</td>\n      <td>0.905441</td>\n      <td>0.071661</td>\n      <td>0.547346</td>\n      <td>0.429186</td>\n      <td>0.999948</td>\n    </tr>\n    <tr>\n      <th>3</th>\n      <td>D</td>\n      <td>0.784713</td>\n      <td>0.827490</td>\n      <td>0.143071</td>\n      <td>0.222107</td>\n      <td>0.526393</td>\n    </tr>\n    <tr>\n      <th>4</th>\n      <td>E</td>\n      <td>0.312108</td>\n      <td>0.594676</td>\n      <td>0.324236</td>\n      <td>0.306128</td>\n      <td>0.250516</td>\n    </tr>\n    <tr>\n      <th>5</th>\n      <td>F</td>\n      <td>0.853728</td>\n      <td>0.466379</td>\n      <td>0.624880</td>\n      <td>0.557055</td>\n      <td>0.184242</td>\n    </tr>\n  </tbody>\n</table>\n</div>"
     },
     "metadata": {},
     "execution_count": 39
    }
   ],
   "source": [
    "# Index zurücksetzen auf 0,1,...,n Index\n",
    "df.reset_index()\n",
    "# wieder nicht inplace, da Parameter nicht gesetzt"
   ]
  },
  {
   "cell_type": "code",
   "execution_count": 40,
   "metadata": {},
   "outputs": [],
   "source": [
    "index_neu = \"BW BY HE TH RP SAA\".split()"
   ]
  },
  {
   "cell_type": "code",
   "execution_count": 41,
   "metadata": {},
   "outputs": [],
   "source": [
    "df['Laender'] = index_neu"
   ]
  },
  {
   "cell_type": "code",
   "execution_count": 42,
   "metadata": {},
   "outputs": [
    {
     "output_type": "execute_result",
     "data": {
      "text/plain": [
       "          V         W         X         Y         Z Laender\n",
       "A  0.355577  0.105731  0.103734  0.182056  0.523912      BW\n",
       "B  0.555777  0.550569  0.781812  0.820208  0.603625      BY\n",
       "C  0.905441  0.071661  0.547346  0.429186  0.999948      HE\n",
       "D  0.784713  0.827490  0.143071  0.222107  0.526393      TH\n",
       "E  0.312108  0.594676  0.324236  0.306128  0.250516      RP\n",
       "F  0.853728  0.466379  0.624880  0.557055  0.184242     SAA"
      ],
      "text/html": "<div>\n<style scoped>\n    .dataframe tbody tr th:only-of-type {\n        vertical-align: middle;\n    }\n\n    .dataframe tbody tr th {\n        vertical-align: top;\n    }\n\n    .dataframe thead th {\n        text-align: right;\n    }\n</style>\n<table border=\"1\" class=\"dataframe\">\n  <thead>\n    <tr style=\"text-align: right;\">\n      <th></th>\n      <th>V</th>\n      <th>W</th>\n      <th>X</th>\n      <th>Y</th>\n      <th>Z</th>\n      <th>Laender</th>\n    </tr>\n  </thead>\n  <tbody>\n    <tr>\n      <th>A</th>\n      <td>0.355577</td>\n      <td>0.105731</td>\n      <td>0.103734</td>\n      <td>0.182056</td>\n      <td>0.523912</td>\n      <td>BW</td>\n    </tr>\n    <tr>\n      <th>B</th>\n      <td>0.555777</td>\n      <td>0.550569</td>\n      <td>0.781812</td>\n      <td>0.820208</td>\n      <td>0.603625</td>\n      <td>BY</td>\n    </tr>\n    <tr>\n      <th>C</th>\n      <td>0.905441</td>\n      <td>0.071661</td>\n      <td>0.547346</td>\n      <td>0.429186</td>\n      <td>0.999948</td>\n      <td>HE</td>\n    </tr>\n    <tr>\n      <th>D</th>\n      <td>0.784713</td>\n      <td>0.827490</td>\n      <td>0.143071</td>\n      <td>0.222107</td>\n      <td>0.526393</td>\n      <td>TH</td>\n    </tr>\n    <tr>\n      <th>E</th>\n      <td>0.312108</td>\n      <td>0.594676</td>\n      <td>0.324236</td>\n      <td>0.306128</td>\n      <td>0.250516</td>\n      <td>RP</td>\n    </tr>\n    <tr>\n      <th>F</th>\n      <td>0.853728</td>\n      <td>0.466379</td>\n      <td>0.624880</td>\n      <td>0.557055</td>\n      <td>0.184242</td>\n      <td>SAA</td>\n    </tr>\n  </tbody>\n</table>\n</div>"
     },
     "metadata": {},
     "execution_count": 42
    }
   ],
   "source": [
    "df"
   ]
  },
  {
   "cell_type": "code",
   "execution_count": 43,
   "metadata": {},
   "outputs": [
    {
     "output_type": "execute_result",
     "data": {
      "text/plain": [
       "                V         W         X         Y         Z\n",
       "Laender                                                  \n",
       "BW       0.355577  0.105731  0.103734  0.182056  0.523912\n",
       "BY       0.555777  0.550569  0.781812  0.820208  0.603625\n",
       "HE       0.905441  0.071661  0.547346  0.429186  0.999948\n",
       "TH       0.784713  0.827490  0.143071  0.222107  0.526393\n",
       "RP       0.312108  0.594676  0.324236  0.306128  0.250516\n",
       "SAA      0.853728  0.466379  0.624880  0.557055  0.184242"
      ],
      "text/html": "<div>\n<style scoped>\n    .dataframe tbody tr th:only-of-type {\n        vertical-align: middle;\n    }\n\n    .dataframe tbody tr th {\n        vertical-align: top;\n    }\n\n    .dataframe thead th {\n        text-align: right;\n    }\n</style>\n<table border=\"1\" class=\"dataframe\">\n  <thead>\n    <tr style=\"text-align: right;\">\n      <th></th>\n      <th>V</th>\n      <th>W</th>\n      <th>X</th>\n      <th>Y</th>\n      <th>Z</th>\n    </tr>\n    <tr>\n      <th>Laender</th>\n      <th></th>\n      <th></th>\n      <th></th>\n      <th></th>\n      <th></th>\n    </tr>\n  </thead>\n  <tbody>\n    <tr>\n      <th>BW</th>\n      <td>0.355577</td>\n      <td>0.105731</td>\n      <td>0.103734</td>\n      <td>0.182056</td>\n      <td>0.523912</td>\n    </tr>\n    <tr>\n      <th>BY</th>\n      <td>0.555777</td>\n      <td>0.550569</td>\n      <td>0.781812</td>\n      <td>0.820208</td>\n      <td>0.603625</td>\n    </tr>\n    <tr>\n      <th>HE</th>\n      <td>0.905441</td>\n      <td>0.071661</td>\n      <td>0.547346</td>\n      <td>0.429186</td>\n      <td>0.999948</td>\n    </tr>\n    <tr>\n      <th>TH</th>\n      <td>0.784713</td>\n      <td>0.827490</td>\n      <td>0.143071</td>\n      <td>0.222107</td>\n      <td>0.526393</td>\n    </tr>\n    <tr>\n      <th>RP</th>\n      <td>0.312108</td>\n      <td>0.594676</td>\n      <td>0.324236</td>\n      <td>0.306128</td>\n      <td>0.250516</td>\n    </tr>\n    <tr>\n      <th>SAA</th>\n      <td>0.853728</td>\n      <td>0.466379</td>\n      <td>0.624880</td>\n      <td>0.557055</td>\n      <td>0.184242</td>\n    </tr>\n  </tbody>\n</table>\n</div>"
     },
     "metadata": {},
     "execution_count": 43
    }
   ],
   "source": [
    "# Laender als Index auswählen\n",
    "df.set_index(\"Laender\")"
   ]
  },
  {
   "cell_type": "code",
   "execution_count": 44,
   "metadata": {},
   "outputs": [
    {
     "output_type": "execute_result",
     "data": {
      "text/plain": [
       "          V         W         X         Y         Z Laender\n",
       "A  0.355577  0.105731  0.103734  0.182056  0.523912      BW\n",
       "B  0.555777  0.550569  0.781812  0.820208  0.603625      BY\n",
       "C  0.905441  0.071661  0.547346  0.429186  0.999948      HE\n",
       "D  0.784713  0.827490  0.143071  0.222107  0.526393      TH\n",
       "E  0.312108  0.594676  0.324236  0.306128  0.250516      RP\n",
       "F  0.853728  0.466379  0.624880  0.557055  0.184242     SAA"
      ],
      "text/html": "<div>\n<style scoped>\n    .dataframe tbody tr th:only-of-type {\n        vertical-align: middle;\n    }\n\n    .dataframe tbody tr th {\n        vertical-align: top;\n    }\n\n    .dataframe thead th {\n        text-align: right;\n    }\n</style>\n<table border=\"1\" class=\"dataframe\">\n  <thead>\n    <tr style=\"text-align: right;\">\n      <th></th>\n      <th>V</th>\n      <th>W</th>\n      <th>X</th>\n      <th>Y</th>\n      <th>Z</th>\n      <th>Laender</th>\n    </tr>\n  </thead>\n  <tbody>\n    <tr>\n      <th>A</th>\n      <td>0.355577</td>\n      <td>0.105731</td>\n      <td>0.103734</td>\n      <td>0.182056</td>\n      <td>0.523912</td>\n      <td>BW</td>\n    </tr>\n    <tr>\n      <th>B</th>\n      <td>0.555777</td>\n      <td>0.550569</td>\n      <td>0.781812</td>\n      <td>0.820208</td>\n      <td>0.603625</td>\n      <td>BY</td>\n    </tr>\n    <tr>\n      <th>C</th>\n      <td>0.905441</td>\n      <td>0.071661</td>\n      <td>0.547346</td>\n      <td>0.429186</td>\n      <td>0.999948</td>\n      <td>HE</td>\n    </tr>\n    <tr>\n      <th>D</th>\n      <td>0.784713</td>\n      <td>0.827490</td>\n      <td>0.143071</td>\n      <td>0.222107</td>\n      <td>0.526393</td>\n      <td>TH</td>\n    </tr>\n    <tr>\n      <th>E</th>\n      <td>0.312108</td>\n      <td>0.594676</td>\n      <td>0.324236</td>\n      <td>0.306128</td>\n      <td>0.250516</td>\n      <td>RP</td>\n    </tr>\n    <tr>\n      <th>F</th>\n      <td>0.853728</td>\n      <td>0.466379</td>\n      <td>0.624880</td>\n      <td>0.557055</td>\n      <td>0.184242</td>\n      <td>SAA</td>\n    </tr>\n  </tbody>\n</table>\n</div>"
     },
     "metadata": {},
     "execution_count": 44
    }
   ],
   "source": [
    "df"
   ]
  },
  {
   "cell_type": "code",
   "execution_count": 45,
   "metadata": {},
   "outputs": [],
   "source": [
    "df.set_index('Laender',inplace=True)"
   ]
  },
  {
   "cell_type": "code",
   "execution_count": 46,
   "metadata": {},
   "outputs": [
    {
     "output_type": "execute_result",
     "data": {
      "text/plain": [
       "                V         W         X         Y         Z\n",
       "Laender                                                  \n",
       "BW       0.355577  0.105731  0.103734  0.182056  0.523912\n",
       "BY       0.555777  0.550569  0.781812  0.820208  0.603625\n",
       "HE       0.905441  0.071661  0.547346  0.429186  0.999948\n",
       "TH       0.784713  0.827490  0.143071  0.222107  0.526393\n",
       "RP       0.312108  0.594676  0.324236  0.306128  0.250516\n",
       "SAA      0.853728  0.466379  0.624880  0.557055  0.184242"
      ],
      "text/html": "<div>\n<style scoped>\n    .dataframe tbody tr th:only-of-type {\n        vertical-align: middle;\n    }\n\n    .dataframe tbody tr th {\n        vertical-align: top;\n    }\n\n    .dataframe thead th {\n        text-align: right;\n    }\n</style>\n<table border=\"1\" class=\"dataframe\">\n  <thead>\n    <tr style=\"text-align: right;\">\n      <th></th>\n      <th>V</th>\n      <th>W</th>\n      <th>X</th>\n      <th>Y</th>\n      <th>Z</th>\n    </tr>\n    <tr>\n      <th>Laender</th>\n      <th></th>\n      <th></th>\n      <th></th>\n      <th></th>\n      <th></th>\n    </tr>\n  </thead>\n  <tbody>\n    <tr>\n      <th>BW</th>\n      <td>0.355577</td>\n      <td>0.105731</td>\n      <td>0.103734</td>\n      <td>0.182056</td>\n      <td>0.523912</td>\n    </tr>\n    <tr>\n      <th>BY</th>\n      <td>0.555777</td>\n      <td>0.550569</td>\n      <td>0.781812</td>\n      <td>0.820208</td>\n      <td>0.603625</td>\n    </tr>\n    <tr>\n      <th>HE</th>\n      <td>0.905441</td>\n      <td>0.071661</td>\n      <td>0.547346</td>\n      <td>0.429186</td>\n      <td>0.999948</td>\n    </tr>\n    <tr>\n      <th>TH</th>\n      <td>0.784713</td>\n      <td>0.827490</td>\n      <td>0.143071</td>\n      <td>0.222107</td>\n      <td>0.526393</td>\n    </tr>\n    <tr>\n      <th>RP</th>\n      <td>0.312108</td>\n      <td>0.594676</td>\n      <td>0.324236</td>\n      <td>0.306128</td>\n      <td>0.250516</td>\n    </tr>\n    <tr>\n      <th>SAA</th>\n      <td>0.853728</td>\n      <td>0.466379</td>\n      <td>0.624880</td>\n      <td>0.557055</td>\n      <td>0.184242</td>\n    </tr>\n  </tbody>\n</table>\n</div>"
     },
     "metadata": {},
     "execution_count": 46
    }
   ],
   "source": [
    "df"
   ]
  },
  {
   "cell_type": "markdown",
   "metadata": {},
   "source": [
    "### Multi-Index und Index Hierarchie"
   ]
  },
  {
   "cell_type": "code",
   "execution_count": 47,
   "metadata": {},
   "outputs": [],
   "source": [
    "# Index Level\n",
    "hoch = [\"L1\",\"L1\",\"L1\",\"L2\",\"L2\",\"L2\"]\n",
    "niedrig = [1,2,3,1,2,3]\n",
    "index_hier = list(zip(hoch,niedrig))\n",
    "index_hier = pd.MultiIndex.from_tuples(index_hier)"
   ]
  },
  {
   "cell_type": "code",
   "execution_count": 48,
   "metadata": {},
   "outputs": [
    {
     "output_type": "execute_result",
     "data": {
      "text/plain": [
       "MultiIndex([('L1', 1),\n",
       "            ('L1', 2),\n",
       "            ('L1', 3),\n",
       "            ('L2', 1),\n",
       "            ('L2', 2),\n",
       "            ('L2', 3)],\n",
       "           )"
      ]
     },
     "metadata": {},
     "execution_count": 48
    }
   ],
   "source": [
    "index_hier"
   ]
  },
  {
   "cell_type": "code",
   "execution_count": 49,
   "metadata": {},
   "outputs": [
    {
     "output_type": "execute_result",
     "data": {
      "text/plain": [
       "             A         B\n",
       "L1 1  0.537690 -1.118663\n",
       "   2  0.940684 -0.681561\n",
       "   3 -1.378170 -0.047193\n",
       "L2 1  0.400464 -0.148059\n",
       "   2 -0.457143  0.395144\n",
       "   3  0.190999 -1.344541"
      ],
      "text/html": "<div>\n<style scoped>\n    .dataframe tbody tr th:only-of-type {\n        vertical-align: middle;\n    }\n\n    .dataframe tbody tr th {\n        vertical-align: top;\n    }\n\n    .dataframe thead th {\n        text-align: right;\n    }\n</style>\n<table border=\"1\" class=\"dataframe\">\n  <thead>\n    <tr style=\"text-align: right;\">\n      <th></th>\n      <th></th>\n      <th>A</th>\n      <th>B</th>\n    </tr>\n  </thead>\n  <tbody>\n    <tr>\n      <th rowspan=\"3\" valign=\"top\">L1</th>\n      <th>1</th>\n      <td>0.537690</td>\n      <td>-1.118663</td>\n    </tr>\n    <tr>\n      <th>2</th>\n      <td>0.940684</td>\n      <td>-0.681561</td>\n    </tr>\n    <tr>\n      <th>3</th>\n      <td>-1.378170</td>\n      <td>-0.047193</td>\n    </tr>\n    <tr>\n      <th rowspan=\"3\" valign=\"top\">L2</th>\n      <th>1</th>\n      <td>0.400464</td>\n      <td>-0.148059</td>\n    </tr>\n    <tr>\n      <th>2</th>\n      <td>-0.457143</td>\n      <td>0.395144</td>\n    </tr>\n    <tr>\n      <th>3</th>\n      <td>0.190999</td>\n      <td>-1.344541</td>\n    </tr>\n  </tbody>\n</table>\n</div>"
     },
     "metadata": {},
     "execution_count": 49
    }
   ],
   "source": [
    "df = pd.DataFrame(np.random.randn(6,2),index=index_hier,columns=[\"A\",\"B\"])\n",
    "df"
   ]
  },
  {
   "cell_type": "code",
   "execution_count": 50,
   "metadata": {},
   "outputs": [
    {
     "output_type": "execute_result",
     "data": {
      "text/plain": [
       "          A         B\n",
       "1  0.537690 -1.118663\n",
       "2  0.940684 -0.681561\n",
       "3 -1.378170 -0.047193"
      ],
      "text/html": "<div>\n<style scoped>\n    .dataframe tbody tr th:only-of-type {\n        vertical-align: middle;\n    }\n\n    .dataframe tbody tr th {\n        vertical-align: top;\n    }\n\n    .dataframe thead th {\n        text-align: right;\n    }\n</style>\n<table border=\"1\" class=\"dataframe\">\n  <thead>\n    <tr style=\"text-align: right;\">\n      <th></th>\n      <th>A</th>\n      <th>B</th>\n    </tr>\n  </thead>\n  <tbody>\n    <tr>\n      <th>1</th>\n      <td>0.537690</td>\n      <td>-1.118663</td>\n    </tr>\n    <tr>\n      <th>2</th>\n      <td>0.940684</td>\n      <td>-0.681561</td>\n    </tr>\n    <tr>\n      <th>3</th>\n      <td>-1.378170</td>\n      <td>-0.047193</td>\n    </tr>\n  </tbody>\n</table>\n</div>"
     },
     "metadata": {},
     "execution_count": 50
    }
   ],
   "source": [
    "df.loc[\"L1\"]"
   ]
  },
  {
   "cell_type": "code",
   "execution_count": 51,
   "metadata": {},
   "outputs": [
    {
     "output_type": "execute_result",
     "data": {
      "text/plain": [
       "A    0.940684\n",
       "B   -0.681561\n",
       "Name: 2, dtype: float64"
      ]
     },
     "metadata": {},
     "execution_count": 51
    }
   ],
   "source": [
    "df.loc[\"L1\"].loc[2]"
   ]
  },
  {
   "cell_type": "code",
   "execution_count": 52,
   "metadata": {},
   "outputs": [
    {
     "output_type": "execute_result",
     "data": {
      "text/plain": [
       "          A         B\n",
       "1  0.537690 -1.118663\n",
       "2  0.940684 -0.681561\n",
       "3 -1.378170 -0.047193"
      ],
      "text/html": "<div>\n<style scoped>\n    .dataframe tbody tr th:only-of-type {\n        vertical-align: middle;\n    }\n\n    .dataframe tbody tr th {\n        vertical-align: top;\n    }\n\n    .dataframe thead th {\n        text-align: right;\n    }\n</style>\n<table border=\"1\" class=\"dataframe\">\n  <thead>\n    <tr style=\"text-align: right;\">\n      <th></th>\n      <th>A</th>\n      <th>B</th>\n    </tr>\n  </thead>\n  <tbody>\n    <tr>\n      <th>1</th>\n      <td>0.537690</td>\n      <td>-1.118663</td>\n    </tr>\n    <tr>\n      <th>2</th>\n      <td>0.940684</td>\n      <td>-0.681561</td>\n    </tr>\n    <tr>\n      <th>3</th>\n      <td>-1.378170</td>\n      <td>-0.047193</td>\n    </tr>\n  </tbody>\n</table>\n</div>"
     },
     "metadata": {},
     "execution_count": 52
    }
   ],
   "source": [
    "# andere Möglichkeit für df.loc['G1'] - cross-section\n",
    "df.xs(\"L1\")"
   ]
  },
  {
   "cell_type": "code",
   "execution_count": 53,
   "metadata": {},
   "outputs": [
    {
     "output_type": "execute_result",
     "data": {
      "text/plain": [
       "A    0.537690\n",
       "B   -1.118663\n",
       "Name: (L1, 1), dtype: float64"
      ]
     },
     "metadata": {},
     "execution_count": 53
    }
   ],
   "source": [
    "df.xs(['L1',1])"
   ]
  },
  {
   "cell_type": "markdown",
   "metadata": {},
   "source": [
    "## Missing Data\n",
    "In Data Science ist es wichtig im Schritt Data Preprocessing mit 'Missing Data' (also fehlenden Daten) entsprechend umzugehen."
   ]
  },
  {
   "cell_type": "code",
   "execution_count": 54,
   "metadata": {},
   "outputs": [],
   "source": [
    "df = pd.DataFrame({\"A\":[1,2,np.nan],\n",
    "                  \"B\":[5,np.nan,np.nan],\n",
    "                  \"C\":[1,2,3]})"
   ]
  },
  {
   "cell_type": "code",
   "execution_count": 55,
   "metadata": {},
   "outputs": [
    {
     "output_type": "execute_result",
     "data": {
      "text/plain": [
       "     A    B  C\n",
       "0  1.0  5.0  1\n",
       "1  2.0  NaN  2\n",
       "2  NaN  NaN  3"
      ],
      "text/html": "<div>\n<style scoped>\n    .dataframe tbody tr th:only-of-type {\n        vertical-align: middle;\n    }\n\n    .dataframe tbody tr th {\n        vertical-align: top;\n    }\n\n    .dataframe thead th {\n        text-align: right;\n    }\n</style>\n<table border=\"1\" class=\"dataframe\">\n  <thead>\n    <tr style=\"text-align: right;\">\n      <th></th>\n      <th>A</th>\n      <th>B</th>\n      <th>C</th>\n    </tr>\n  </thead>\n  <tbody>\n    <tr>\n      <th>0</th>\n      <td>1.0</td>\n      <td>5.0</td>\n      <td>1</td>\n    </tr>\n    <tr>\n      <th>1</th>\n      <td>2.0</td>\n      <td>NaN</td>\n      <td>2</td>\n    </tr>\n    <tr>\n      <th>2</th>\n      <td>NaN</td>\n      <td>NaN</td>\n      <td>3</td>\n    </tr>\n  </tbody>\n</table>\n</div>"
     },
     "metadata": {},
     "execution_count": 55
    }
   ],
   "source": [
    "df"
   ]
  },
  {
   "cell_type": "code",
   "execution_count": 56,
   "metadata": {},
   "outputs": [
    {
     "output_type": "execute_result",
     "data": {
      "text/plain": [
       "     A    B  C\n",
       "0  1.0  5.0  1"
      ],
      "text/html": "<div>\n<style scoped>\n    .dataframe tbody tr th:only-of-type {\n        vertical-align: middle;\n    }\n\n    .dataframe tbody tr th {\n        vertical-align: top;\n    }\n\n    .dataframe thead th {\n        text-align: right;\n    }\n</style>\n<table border=\"1\" class=\"dataframe\">\n  <thead>\n    <tr style=\"text-align: right;\">\n      <th></th>\n      <th>A</th>\n      <th>B</th>\n      <th>C</th>\n    </tr>\n  </thead>\n  <tbody>\n    <tr>\n      <th>0</th>\n      <td>1.0</td>\n      <td>5.0</td>\n      <td>1</td>\n    </tr>\n  </tbody>\n</table>\n</div>"
     },
     "metadata": {},
     "execution_count": 56
    }
   ],
   "source": [
    "# Lösche die Zeilen, die fehlende Daten haben\n",
    "df.dropna()"
   ]
  },
  {
   "cell_type": "code",
   "execution_count": 57,
   "metadata": {},
   "outputs": [
    {
     "output_type": "execute_result",
     "data": {
      "text/plain": [
       "   C\n",
       "0  1\n",
       "1  2\n",
       "2  3"
      ],
      "text/html": "<div>\n<style scoped>\n    .dataframe tbody tr th:only-of-type {\n        vertical-align: middle;\n    }\n\n    .dataframe tbody tr th {\n        vertical-align: top;\n    }\n\n    .dataframe thead th {\n        text-align: right;\n    }\n</style>\n<table border=\"1\" class=\"dataframe\">\n  <thead>\n    <tr style=\"text-align: right;\">\n      <th></th>\n      <th>C</th>\n    </tr>\n  </thead>\n  <tbody>\n    <tr>\n      <th>0</th>\n      <td>1</td>\n    </tr>\n    <tr>\n      <th>1</th>\n      <td>2</td>\n    </tr>\n    <tr>\n      <th>2</th>\n      <td>3</td>\n    </tr>\n  </tbody>\n</table>\n</div>"
     },
     "metadata": {},
     "execution_count": 57
    }
   ],
   "source": [
    "# Lösche die Spaalten die fehlende Daten haben\n",
    "df.dropna(axis=1)"
   ]
  },
  {
   "cell_type": "code",
   "execution_count": 58,
   "metadata": {},
   "outputs": [
    {
     "output_type": "execute_result",
     "data": {
      "text/plain": [
       "     A    B  C\n",
       "0  1.0  5.0  1\n",
       "1  2.0  NaN  2"
      ],
      "text/html": "<div>\n<style scoped>\n    .dataframe tbody tr th:only-of-type {\n        vertical-align: middle;\n    }\n\n    .dataframe tbody tr th {\n        vertical-align: top;\n    }\n\n    .dataframe thead th {\n        text-align: right;\n    }\n</style>\n<table border=\"1\" class=\"dataframe\">\n  <thead>\n    <tr style=\"text-align: right;\">\n      <th></th>\n      <th>A</th>\n      <th>B</th>\n      <th>C</th>\n    </tr>\n  </thead>\n  <tbody>\n    <tr>\n      <th>0</th>\n      <td>1.0</td>\n      <td>5.0</td>\n      <td>1</td>\n    </tr>\n    <tr>\n      <th>1</th>\n      <td>2.0</td>\n      <td>NaN</td>\n      <td>2</td>\n    </tr>\n  </tbody>\n</table>\n</div>"
     },
     "metadata": {},
     "execution_count": 58
    }
   ],
   "source": [
    "# Setze ein Threshold wieviele fehlende Daten geduldet werden\n",
    "# thresh=2 bedeutet max ein Wert darf fehlen\n",
    "df.dropna(thresh=2)"
   ]
  },
  {
   "cell_type": "code",
   "execution_count": 59,
   "metadata": {},
   "outputs": [
    {
     "output_type": "execute_result",
     "data": {
      "text/plain": [
       "0    1.0\n",
       "1    2.0\n",
       "2    1.5\n",
       "Name: A, dtype: float64"
      ]
     },
     "metadata": {},
     "execution_count": 59
    }
   ],
   "source": [
    "# meistens überlegt man sich eine Strategie, wie man mit fehlenden Werten umgeht. Bei Zahlen könnte man sich überlegen\n",
    "# den Mittelwert zu nehmen\n",
    "df[\"A\"].fillna(value=df[\"A\"].mean())"
   ]
  },
  {
   "cell_type": "markdown",
   "metadata": {},
   "source": [
    "### GroupBy"
   ]
  },
  {
   "cell_type": "code",
   "execution_count": 60,
   "metadata": {},
   "outputs": [],
   "source": [
    "# Daten für das DataFrame\n",
    "data = {\"Uni\":[\"UniMa\",\"UniMa\",\"LMU\",\"LMU\",\"KIT\",\"KIT\"],\n",
    "       \"Person\":[\"Simon\",\"Fred\",\"Felix\",\"Sofie\",\"Sarah\",\"Celine\"],\n",
    "       \"Spende\":[2500,50000,3000,750,1500,500000]}"
   ]
  },
  {
   "cell_type": "code",
   "execution_count": 61,
   "metadata": {},
   "outputs": [],
   "source": [
    "df = pd.DataFrame(data)"
   ]
  },
  {
   "cell_type": "code",
   "execution_count": 62,
   "metadata": {},
   "outputs": [
    {
     "output_type": "execute_result",
     "data": {
      "text/plain": [
       "     Uni  Person  Spende\n",
       "0  UniMa   Simon    2500\n",
       "1  UniMa    Fred   50000\n",
       "2    LMU   Felix    3000\n",
       "3    LMU   Sofie     750\n",
       "4    KIT   Sarah    1500\n",
       "5    KIT  Celine  500000"
      ],
      "text/html": "<div>\n<style scoped>\n    .dataframe tbody tr th:only-of-type {\n        vertical-align: middle;\n    }\n\n    .dataframe tbody tr th {\n        vertical-align: top;\n    }\n\n    .dataframe thead th {\n        text-align: right;\n    }\n</style>\n<table border=\"1\" class=\"dataframe\">\n  <thead>\n    <tr style=\"text-align: right;\">\n      <th></th>\n      <th>Uni</th>\n      <th>Person</th>\n      <th>Spende</th>\n    </tr>\n  </thead>\n  <tbody>\n    <tr>\n      <th>0</th>\n      <td>UniMa</td>\n      <td>Simon</td>\n      <td>2500</td>\n    </tr>\n    <tr>\n      <th>1</th>\n      <td>UniMa</td>\n      <td>Fred</td>\n      <td>50000</td>\n    </tr>\n    <tr>\n      <th>2</th>\n      <td>LMU</td>\n      <td>Felix</td>\n      <td>3000</td>\n    </tr>\n    <tr>\n      <th>3</th>\n      <td>LMU</td>\n      <td>Sofie</td>\n      <td>750</td>\n    </tr>\n    <tr>\n      <th>4</th>\n      <td>KIT</td>\n      <td>Sarah</td>\n      <td>1500</td>\n    </tr>\n    <tr>\n      <th>5</th>\n      <td>KIT</td>\n      <td>Celine</td>\n      <td>500000</td>\n    </tr>\n  </tbody>\n</table>\n</div>"
     },
     "metadata": {},
     "execution_count": 62
    }
   ],
   "source": [
    "df"
   ]
  },
  {
   "cell_type": "code",
   "execution_count": 63,
   "metadata": {},
   "outputs": [],
   "source": [
    "by_uni = df.groupby(\"Uni\")"
   ]
  },
  {
   "cell_type": "code",
   "execution_count": 64,
   "metadata": {},
   "outputs": [
    {
     "output_type": "execute_result",
     "data": {
      "text/plain": [
       "<pandas.core.groupby.generic.DataFrameGroupBy object at 0x1169e5a30>"
      ]
     },
     "metadata": {},
     "execution_count": 64
    }
   ],
   "source": [
    "by_uni"
   ]
  },
  {
   "cell_type": "code",
   "execution_count": 65,
   "metadata": {},
   "outputs": [
    {
     "output_type": "execute_result",
     "data": {
      "text/plain": [
       "       Spende\n",
       "Uni          \n",
       "KIT    250750\n",
       "LMU      1875\n",
       "UniMa   26250"
      ],
      "text/html": "<div>\n<style scoped>\n    .dataframe tbody tr th:only-of-type {\n        vertical-align: middle;\n    }\n\n    .dataframe tbody tr th {\n        vertical-align: top;\n    }\n\n    .dataframe thead th {\n        text-align: right;\n    }\n</style>\n<table border=\"1\" class=\"dataframe\">\n  <thead>\n    <tr style=\"text-align: right;\">\n      <th></th>\n      <th>Spende</th>\n    </tr>\n    <tr>\n      <th>Uni</th>\n      <th></th>\n    </tr>\n  </thead>\n  <tbody>\n    <tr>\n      <th>KIT</th>\n      <td>250750</td>\n    </tr>\n    <tr>\n      <th>LMU</th>\n      <td>1875</td>\n    </tr>\n    <tr>\n      <th>UniMa</th>\n      <td>26250</td>\n    </tr>\n  </tbody>\n</table>\n</div>"
     },
     "metadata": {},
     "execution_count": 65
    }
   ],
   "source": [
    "# Durchschnitt pro Uni\n",
    "by_uni.mean()"
   ]
  },
  {
   "cell_type": "code",
   "execution_count": 66,
   "metadata": {},
   "outputs": [
    {
     "output_type": "execute_result",
     "data": {
      "text/plain": [
       "       Spende\n",
       "Uni          \n",
       "KIT    250750\n",
       "LMU      1875\n",
       "UniMa   26250"
      ],
      "text/html": "<div>\n<style scoped>\n    .dataframe tbody tr th:only-of-type {\n        vertical-align: middle;\n    }\n\n    .dataframe tbody tr th {\n        vertical-align: top;\n    }\n\n    .dataframe thead th {\n        text-align: right;\n    }\n</style>\n<table border=\"1\" class=\"dataframe\">\n  <thead>\n    <tr style=\"text-align: right;\">\n      <th></th>\n      <th>Spende</th>\n    </tr>\n    <tr>\n      <th>Uni</th>\n      <th></th>\n    </tr>\n  </thead>\n  <tbody>\n    <tr>\n      <th>KIT</th>\n      <td>250750</td>\n    </tr>\n    <tr>\n      <th>LMU</th>\n      <td>1875</td>\n    </tr>\n    <tr>\n      <th>UniMa</th>\n      <td>26250</td>\n    </tr>\n  </tbody>\n</table>\n</div>"
     },
     "metadata": {},
     "execution_count": 66
    }
   ],
   "source": [
    "# Geht natürlich auch direkt\n",
    "df.groupby(\"Uni\").mean()"
   ]
  },
  {
   "cell_type": "code",
   "execution_count": 67,
   "metadata": {},
   "outputs": [
    {
     "output_type": "execute_result",
     "data": {
      "text/plain": [
       "              Spende\n",
       "Uni                 \n",
       "KIT    352492.730421\n",
       "LMU      1590.990258\n",
       "UniMa   33587.572106"
      ],
      "text/html": "<div>\n<style scoped>\n    .dataframe tbody tr th:only-of-type {\n        vertical-align: middle;\n    }\n\n    .dataframe tbody tr th {\n        vertical-align: top;\n    }\n\n    .dataframe thead th {\n        text-align: right;\n    }\n</style>\n<table border=\"1\" class=\"dataframe\">\n  <thead>\n    <tr style=\"text-align: right;\">\n      <th></th>\n      <th>Spende</th>\n    </tr>\n    <tr>\n      <th>Uni</th>\n      <th></th>\n    </tr>\n  </thead>\n  <tbody>\n    <tr>\n      <th>KIT</th>\n      <td>352492.730421</td>\n    </tr>\n    <tr>\n      <th>LMU</th>\n      <td>1590.990258</td>\n    </tr>\n    <tr>\n      <th>UniMa</th>\n      <td>33587.572106</td>\n    </tr>\n  </tbody>\n</table>\n</div>"
     },
     "metadata": {},
     "execution_count": 67
    }
   ],
   "source": [
    "# Standardabweichung\n",
    "df.groupby(\"Uni\").std()"
   ]
  },
  {
   "cell_type": "code",
   "execution_count": 68,
   "metadata": {},
   "outputs": [
    {
     "output_type": "execute_result",
     "data": {
      "text/plain": [
       "       Person  Spende\n",
       "Uni                  \n",
       "KIT    Celine    1500\n",
       "LMU     Felix     750\n",
       "UniMa    Fred    2500"
      ],
      "text/html": "<div>\n<style scoped>\n    .dataframe tbody tr th:only-of-type {\n        vertical-align: middle;\n    }\n\n    .dataframe tbody tr th {\n        vertical-align: top;\n    }\n\n    .dataframe thead th {\n        text-align: right;\n    }\n</style>\n<table border=\"1\" class=\"dataframe\">\n  <thead>\n    <tr style=\"text-align: right;\">\n      <th></th>\n      <th>Person</th>\n      <th>Spende</th>\n    </tr>\n    <tr>\n      <th>Uni</th>\n      <th></th>\n      <th></th>\n    </tr>\n  </thead>\n  <tbody>\n    <tr>\n      <th>KIT</th>\n      <td>Celine</td>\n      <td>1500</td>\n    </tr>\n    <tr>\n      <th>LMU</th>\n      <td>Felix</td>\n      <td>750</td>\n    </tr>\n    <tr>\n      <th>UniMa</th>\n      <td>Fred</td>\n      <td>2500</td>\n    </tr>\n  </tbody>\n</table>\n</div>"
     },
     "metadata": {},
     "execution_count": 68
    }
   ],
   "source": [
    "# Min\n",
    "df.groupby('Uni').min()"
   ]
  },
  {
   "cell_type": "code",
   "execution_count": 69,
   "metadata": {},
   "outputs": [
    {
     "output_type": "execute_result",
     "data": {
      "text/plain": [
       "      Person  Spende\n",
       "Uni                 \n",
       "KIT    Sarah  500000\n",
       "LMU    Sofie    3000\n",
       "UniMa  Simon   50000"
      ],
      "text/html": "<div>\n<style scoped>\n    .dataframe tbody tr th:only-of-type {\n        vertical-align: middle;\n    }\n\n    .dataframe tbody tr th {\n        vertical-align: top;\n    }\n\n    .dataframe thead th {\n        text-align: right;\n    }\n</style>\n<table border=\"1\" class=\"dataframe\">\n  <thead>\n    <tr style=\"text-align: right;\">\n      <th></th>\n      <th>Person</th>\n      <th>Spende</th>\n    </tr>\n    <tr>\n      <th>Uni</th>\n      <th></th>\n      <th></th>\n    </tr>\n  </thead>\n  <tbody>\n    <tr>\n      <th>KIT</th>\n      <td>Sarah</td>\n      <td>500000</td>\n    </tr>\n    <tr>\n      <th>LMU</th>\n      <td>Sofie</td>\n      <td>3000</td>\n    </tr>\n    <tr>\n      <th>UniMa</th>\n      <td>Simon</td>\n      <td>50000</td>\n    </tr>\n  </tbody>\n</table>\n</div>"
     },
     "metadata": {},
     "execution_count": 69
    }
   ],
   "source": [
    "# Max\n",
    "df.groupby(\"Uni\").max()"
   ]
  },
  {
   "cell_type": "code",
   "execution_count": 70,
   "metadata": {},
   "outputs": [
    {
     "output_type": "execute_result",
     "data": {
      "text/plain": [
       "       Person  Spende\n",
       "Uni                  \n",
       "KIT         2       2\n",
       "LMU         2       2\n",
       "UniMa       2       2"
      ],
      "text/html": "<div>\n<style scoped>\n    .dataframe tbody tr th:only-of-type {\n        vertical-align: middle;\n    }\n\n    .dataframe tbody tr th {\n        vertical-align: top;\n    }\n\n    .dataframe thead th {\n        text-align: right;\n    }\n</style>\n<table border=\"1\" class=\"dataframe\">\n  <thead>\n    <tr style=\"text-align: right;\">\n      <th></th>\n      <th>Person</th>\n      <th>Spende</th>\n    </tr>\n    <tr>\n      <th>Uni</th>\n      <th></th>\n      <th></th>\n    </tr>\n  </thead>\n  <tbody>\n    <tr>\n      <th>KIT</th>\n      <td>2</td>\n      <td>2</td>\n    </tr>\n    <tr>\n      <th>LMU</th>\n      <td>2</td>\n      <td>2</td>\n    </tr>\n    <tr>\n      <th>UniMa</th>\n      <td>2</td>\n      <td>2</td>\n    </tr>\n  </tbody>\n</table>\n</div>"
     },
     "metadata": {},
     "execution_count": 70
    }
   ],
   "source": [
    "# Anzahl\n",
    "df.groupby(\"Uni\").count()"
   ]
  },
  {
   "cell_type": "code",
   "execution_count": 71,
   "metadata": {},
   "outputs": [
    {
     "output_type": "execute_result",
     "data": {
      "text/plain": [
       "      Spende                                                                 \\\n",
       "       count      mean            std     min       25%       50%       75%   \n",
       "Uni                                                                           \n",
       "KIT      2.0  250750.0  352492.730421  1500.0  126125.0  250750.0  375375.0   \n",
       "LMU      2.0    1875.0    1590.990258   750.0    1312.5    1875.0    2437.5   \n",
       "UniMa    2.0   26250.0   33587.572106  2500.0   14375.0   26250.0   38125.0   \n",
       "\n",
       "                 \n",
       "            max  \n",
       "Uni              \n",
       "KIT    500000.0  \n",
       "LMU      3000.0  \n",
       "UniMa   50000.0  "
      ],
      "text/html": "<div>\n<style scoped>\n    .dataframe tbody tr th:only-of-type {\n        vertical-align: middle;\n    }\n\n    .dataframe tbody tr th {\n        vertical-align: top;\n    }\n\n    .dataframe thead tr th {\n        text-align: left;\n    }\n\n    .dataframe thead tr:last-of-type th {\n        text-align: right;\n    }\n</style>\n<table border=\"1\" class=\"dataframe\">\n  <thead>\n    <tr>\n      <th></th>\n      <th colspan=\"8\" halign=\"left\">Spende</th>\n    </tr>\n    <tr>\n      <th></th>\n      <th>count</th>\n      <th>mean</th>\n      <th>std</th>\n      <th>min</th>\n      <th>25%</th>\n      <th>50%</th>\n      <th>75%</th>\n      <th>max</th>\n    </tr>\n    <tr>\n      <th>Uni</th>\n      <th></th>\n      <th></th>\n      <th></th>\n      <th></th>\n      <th></th>\n      <th></th>\n      <th></th>\n      <th></th>\n    </tr>\n  </thead>\n  <tbody>\n    <tr>\n      <th>KIT</th>\n      <td>2.0</td>\n      <td>250750.0</td>\n      <td>352492.730421</td>\n      <td>1500.0</td>\n      <td>126125.0</td>\n      <td>250750.0</td>\n      <td>375375.0</td>\n      <td>500000.0</td>\n    </tr>\n    <tr>\n      <th>LMU</th>\n      <td>2.0</td>\n      <td>1875.0</td>\n      <td>1590.990258</td>\n      <td>750.0</td>\n      <td>1312.5</td>\n      <td>1875.0</td>\n      <td>2437.5</td>\n      <td>3000.0</td>\n    </tr>\n    <tr>\n      <th>UniMa</th>\n      <td>2.0</td>\n      <td>26250.0</td>\n      <td>33587.572106</td>\n      <td>2500.0</td>\n      <td>14375.0</td>\n      <td>26250.0</td>\n      <td>38125.0</td>\n      <td>50000.0</td>\n    </tr>\n  </tbody>\n</table>\n</div>"
     },
     "metadata": {},
     "execution_count": 71
    }
   ],
   "source": [
    "# ganz wichtige Funktion: describe()\n",
    "df.groupby(\"Uni\").describe()"
   ]
  },
  {
   "cell_type": "code",
   "execution_count": 72,
   "metadata": {},
   "outputs": [
    {
     "output_type": "execute_result",
     "data": {
      "text/plain": [
       "Uni                     KIT          LMU         UniMa\n",
       "Spende count       2.000000     2.000000      2.000000\n",
       "       mean   250750.000000  1875.000000  26250.000000\n",
       "       std    352492.730421  1590.990258  33587.572106\n",
       "       min      1500.000000   750.000000   2500.000000\n",
       "       25%    126125.000000  1312.500000  14375.000000\n",
       "       50%    250750.000000  1875.000000  26250.000000\n",
       "       75%    375375.000000  2437.500000  38125.000000\n",
       "       max    500000.000000  3000.000000  50000.000000"
      ],
      "text/html": "<div>\n<style scoped>\n    .dataframe tbody tr th:only-of-type {\n        vertical-align: middle;\n    }\n\n    .dataframe tbody tr th {\n        vertical-align: top;\n    }\n\n    .dataframe thead th {\n        text-align: right;\n    }\n</style>\n<table border=\"1\" class=\"dataframe\">\n  <thead>\n    <tr style=\"text-align: right;\">\n      <th></th>\n      <th>Uni</th>\n      <th>KIT</th>\n      <th>LMU</th>\n      <th>UniMa</th>\n    </tr>\n  </thead>\n  <tbody>\n    <tr>\n      <th rowspan=\"8\" valign=\"top\">Spende</th>\n      <th>count</th>\n      <td>2.000000</td>\n      <td>2.000000</td>\n      <td>2.000000</td>\n    </tr>\n    <tr>\n      <th>mean</th>\n      <td>250750.000000</td>\n      <td>1875.000000</td>\n      <td>26250.000000</td>\n    </tr>\n    <tr>\n      <th>std</th>\n      <td>352492.730421</td>\n      <td>1590.990258</td>\n      <td>33587.572106</td>\n    </tr>\n    <tr>\n      <th>min</th>\n      <td>1500.000000</td>\n      <td>750.000000</td>\n      <td>2500.000000</td>\n    </tr>\n    <tr>\n      <th>25%</th>\n      <td>126125.000000</td>\n      <td>1312.500000</td>\n      <td>14375.000000</td>\n    </tr>\n    <tr>\n      <th>50%</th>\n      <td>250750.000000</td>\n      <td>1875.000000</td>\n      <td>26250.000000</td>\n    </tr>\n    <tr>\n      <th>75%</th>\n      <td>375375.000000</td>\n      <td>2437.500000</td>\n      <td>38125.000000</td>\n    </tr>\n    <tr>\n      <th>max</th>\n      <td>500000.000000</td>\n      <td>3000.000000</td>\n      <td>50000.000000</td>\n    </tr>\n  </tbody>\n</table>\n</div>"
     },
     "metadata": {},
     "execution_count": 72
    }
   ],
   "source": [
    "df.groupby(\"Uni\").describe().transpose()"
   ]
  },
  {
   "cell_type": "code",
   "execution_count": 73,
   "metadata": {},
   "outputs": [
    {
     "output_type": "execute_result",
     "data": {
      "text/plain": [
       "Spende  count        2.000000\n",
       "        mean     26250.000000\n",
       "        std      33587.572106\n",
       "        min       2500.000000\n",
       "        25%      14375.000000\n",
       "        50%      26250.000000\n",
       "        75%      38125.000000\n",
       "        max      50000.000000\n",
       "Name: UniMa, dtype: float64"
      ]
     },
     "metadata": {},
     "execution_count": 73
    }
   ],
   "source": [
    "df.groupby(\"Uni\").describe().transpose()[\"UniMa\"]"
   ]
  },
  {
   "cell_type": "markdown",
   "metadata": {},
   "source": [
    "## Merging, Joining und Concatenating"
   ]
  },
  {
   "cell_type": "code",
   "execution_count": 74,
   "metadata": {},
   "outputs": [],
   "source": [
    "# data für df1\n",
    "df1 = pd.DataFrame({\"A\": [\"A0\", \"A1\", \"A2\", \"A3\"],\n",
    "                    \"B\": [\"B0\", \"B1\", \"B2\", \"B3\"],\n",
    "                    \"C\": [\"C0\", \"C1\", \"C2\", \"C3\"],\n",
    "                    \"D\": [\"D0\", \"D1\", \"D2\", \"D3\"]},\n",
    "                    index=[0, 1, 2,3])"
   ]
  },
  {
   "cell_type": "code",
   "execution_count": 75,
   "metadata": {},
   "outputs": [],
   "source": [
    "# data für df2\n",
    "df2 = pd.DataFrame({\"A\": [\"A4\", \"A5\", \"A6\", \"A7\"],\n",
    "                        \"B\": [\"B4\", \"B5\", \"B6\", \"B7\"],\n",
    "                        \"C\": [\"C4\", \"C5\", \"C6\", \"C7\"],\n",
    "                        \"D\": [\"D4\", \"D5\", \"D6\", \"D7\"]},\n",
    "                         index=[4, 5, 6, 7]) "
   ]
  },
  {
   "cell_type": "code",
   "execution_count": 76,
   "metadata": {},
   "outputs": [],
   "source": [
    "# data für df2\n",
    "df3 = pd.DataFrame({\"A\": [\"A8\", \"A9\", \"A10\", \"A11\"],\n",
    "                        \"B\": [\"B8\", \"B9\", \"B10\", \"B11\"],\n",
    "                        \"C\": [\"C8\", \"C9\", \"C10\", \"C11\"],\n",
    "                        \"D\": [\"D8\", \"D9\", \"D10\", \"D11\"]},\n",
    "                         index=[8, 9, 10, 11]) "
   ]
  },
  {
   "cell_type": "markdown",
   "metadata": {},
   "source": [
    "#### Concatenation (Verkettung)\n",
    "Verkettet DataFrames. Die Länge der Achse, auf die verkettet wird, muss übereinstimmen. Zum Verketten kann man pd.concat verwenden."
   ]
  },
  {
   "cell_type": "code",
   "execution_count": 77,
   "metadata": {},
   "outputs": [
    {
     "output_type": "execute_result",
     "data": {
      "text/plain": [
       "      A    B    C    D\n",
       "0    A0   B0   C0   D0\n",
       "1    A1   B1   C1   D1\n",
       "2    A2   B2   C2   D2\n",
       "3    A3   B3   C3   D3\n",
       "4    A4   B4   C4   D4\n",
       "5    A5   B5   C5   D5\n",
       "6    A6   B6   C6   D6\n",
       "7    A7   B7   C7   D7\n",
       "8    A8   B8   C8   D8\n",
       "9    A9   B9   C9   D9\n",
       "10  A10  B10  C10  D10\n",
       "11  A11  B11  C11  D11"
      ],
      "text/html": "<div>\n<style scoped>\n    .dataframe tbody tr th:only-of-type {\n        vertical-align: middle;\n    }\n\n    .dataframe tbody tr th {\n        vertical-align: top;\n    }\n\n    .dataframe thead th {\n        text-align: right;\n    }\n</style>\n<table border=\"1\" class=\"dataframe\">\n  <thead>\n    <tr style=\"text-align: right;\">\n      <th></th>\n      <th>A</th>\n      <th>B</th>\n      <th>C</th>\n      <th>D</th>\n    </tr>\n  </thead>\n  <tbody>\n    <tr>\n      <th>0</th>\n      <td>A0</td>\n      <td>B0</td>\n      <td>C0</td>\n      <td>D0</td>\n    </tr>\n    <tr>\n      <th>1</th>\n      <td>A1</td>\n      <td>B1</td>\n      <td>C1</td>\n      <td>D1</td>\n    </tr>\n    <tr>\n      <th>2</th>\n      <td>A2</td>\n      <td>B2</td>\n      <td>C2</td>\n      <td>D2</td>\n    </tr>\n    <tr>\n      <th>3</th>\n      <td>A3</td>\n      <td>B3</td>\n      <td>C3</td>\n      <td>D3</td>\n    </tr>\n    <tr>\n      <th>4</th>\n      <td>A4</td>\n      <td>B4</td>\n      <td>C4</td>\n      <td>D4</td>\n    </tr>\n    <tr>\n      <th>5</th>\n      <td>A5</td>\n      <td>B5</td>\n      <td>C5</td>\n      <td>D5</td>\n    </tr>\n    <tr>\n      <th>6</th>\n      <td>A6</td>\n      <td>B6</td>\n      <td>C6</td>\n      <td>D6</td>\n    </tr>\n    <tr>\n      <th>7</th>\n      <td>A7</td>\n      <td>B7</td>\n      <td>C7</td>\n      <td>D7</td>\n    </tr>\n    <tr>\n      <th>8</th>\n      <td>A8</td>\n      <td>B8</td>\n      <td>C8</td>\n      <td>D8</td>\n    </tr>\n    <tr>\n      <th>9</th>\n      <td>A9</td>\n      <td>B9</td>\n      <td>C9</td>\n      <td>D9</td>\n    </tr>\n    <tr>\n      <th>10</th>\n      <td>A10</td>\n      <td>B10</td>\n      <td>C10</td>\n      <td>D10</td>\n    </tr>\n    <tr>\n      <th>11</th>\n      <td>A11</td>\n      <td>B11</td>\n      <td>C11</td>\n      <td>D11</td>\n    </tr>\n  </tbody>\n</table>\n</div>"
     },
     "metadata": {},
     "execution_count": 77
    }
   ],
   "source": [
    "pd.concat([df1,df2,df3])"
   ]
  },
  {
   "cell_type": "code",
   "execution_count": 78,
   "metadata": {},
   "outputs": [
    {
     "output_type": "execute_result",
     "data": {
      "text/plain": [
       "      A    B    C    D    A    B    C    D    A    B    C    D\n",
       "0    A0   B0   C0   D0  NaN  NaN  NaN  NaN  NaN  NaN  NaN  NaN\n",
       "1    A1   B1   C1   D1  NaN  NaN  NaN  NaN  NaN  NaN  NaN  NaN\n",
       "2    A2   B2   C2   D2  NaN  NaN  NaN  NaN  NaN  NaN  NaN  NaN\n",
       "3    A3   B3   C3   D3  NaN  NaN  NaN  NaN  NaN  NaN  NaN  NaN\n",
       "4   NaN  NaN  NaN  NaN   A4   B4   C4   D4  NaN  NaN  NaN  NaN\n",
       "5   NaN  NaN  NaN  NaN   A5   B5   C5   D5  NaN  NaN  NaN  NaN\n",
       "6   NaN  NaN  NaN  NaN   A6   B6   C6   D6  NaN  NaN  NaN  NaN\n",
       "7   NaN  NaN  NaN  NaN   A7   B7   C7   D7  NaN  NaN  NaN  NaN\n",
       "8   NaN  NaN  NaN  NaN  NaN  NaN  NaN  NaN   A8   B8   C8   D8\n",
       "9   NaN  NaN  NaN  NaN  NaN  NaN  NaN  NaN   A9   B9   C9   D9\n",
       "10  NaN  NaN  NaN  NaN  NaN  NaN  NaN  NaN  A10  B10  C10  D10\n",
       "11  NaN  NaN  NaN  NaN  NaN  NaN  NaN  NaN  A11  B11  C11  D11"
      ],
      "text/html": "<div>\n<style scoped>\n    .dataframe tbody tr th:only-of-type {\n        vertical-align: middle;\n    }\n\n    .dataframe tbody tr th {\n        vertical-align: top;\n    }\n\n    .dataframe thead th {\n        text-align: right;\n    }\n</style>\n<table border=\"1\" class=\"dataframe\">\n  <thead>\n    <tr style=\"text-align: right;\">\n      <th></th>\n      <th>A</th>\n      <th>B</th>\n      <th>C</th>\n      <th>D</th>\n      <th>A</th>\n      <th>B</th>\n      <th>C</th>\n      <th>D</th>\n      <th>A</th>\n      <th>B</th>\n      <th>C</th>\n      <th>D</th>\n    </tr>\n  </thead>\n  <tbody>\n    <tr>\n      <th>0</th>\n      <td>A0</td>\n      <td>B0</td>\n      <td>C0</td>\n      <td>D0</td>\n      <td>NaN</td>\n      <td>NaN</td>\n      <td>NaN</td>\n      <td>NaN</td>\n      <td>NaN</td>\n      <td>NaN</td>\n      <td>NaN</td>\n      <td>NaN</td>\n    </tr>\n    <tr>\n      <th>1</th>\n      <td>A1</td>\n      <td>B1</td>\n      <td>C1</td>\n      <td>D1</td>\n      <td>NaN</td>\n      <td>NaN</td>\n      <td>NaN</td>\n      <td>NaN</td>\n      <td>NaN</td>\n      <td>NaN</td>\n      <td>NaN</td>\n      <td>NaN</td>\n    </tr>\n    <tr>\n      <th>2</th>\n      <td>A2</td>\n      <td>B2</td>\n      <td>C2</td>\n      <td>D2</td>\n      <td>NaN</td>\n      <td>NaN</td>\n      <td>NaN</td>\n      <td>NaN</td>\n      <td>NaN</td>\n      <td>NaN</td>\n      <td>NaN</td>\n      <td>NaN</td>\n    </tr>\n    <tr>\n      <th>3</th>\n      <td>A3</td>\n      <td>B3</td>\n      <td>C3</td>\n      <td>D3</td>\n      <td>NaN</td>\n      <td>NaN</td>\n      <td>NaN</td>\n      <td>NaN</td>\n      <td>NaN</td>\n      <td>NaN</td>\n      <td>NaN</td>\n      <td>NaN</td>\n    </tr>\n    <tr>\n      <th>4</th>\n      <td>NaN</td>\n      <td>NaN</td>\n      <td>NaN</td>\n      <td>NaN</td>\n      <td>A4</td>\n      <td>B4</td>\n      <td>C4</td>\n      <td>D4</td>\n      <td>NaN</td>\n      <td>NaN</td>\n      <td>NaN</td>\n      <td>NaN</td>\n    </tr>\n    <tr>\n      <th>5</th>\n      <td>NaN</td>\n      <td>NaN</td>\n      <td>NaN</td>\n      <td>NaN</td>\n      <td>A5</td>\n      <td>B5</td>\n      <td>C5</td>\n      <td>D5</td>\n      <td>NaN</td>\n      <td>NaN</td>\n      <td>NaN</td>\n      <td>NaN</td>\n    </tr>\n    <tr>\n      <th>6</th>\n      <td>NaN</td>\n      <td>NaN</td>\n      <td>NaN</td>\n      <td>NaN</td>\n      <td>A6</td>\n      <td>B6</td>\n      <td>C6</td>\n      <td>D6</td>\n      <td>NaN</td>\n      <td>NaN</td>\n      <td>NaN</td>\n      <td>NaN</td>\n    </tr>\n    <tr>\n      <th>7</th>\n      <td>NaN</td>\n      <td>NaN</td>\n      <td>NaN</td>\n      <td>NaN</td>\n      <td>A7</td>\n      <td>B7</td>\n      <td>C7</td>\n      <td>D7</td>\n      <td>NaN</td>\n      <td>NaN</td>\n      <td>NaN</td>\n      <td>NaN</td>\n    </tr>\n    <tr>\n      <th>8</th>\n      <td>NaN</td>\n      <td>NaN</td>\n      <td>NaN</td>\n      <td>NaN</td>\n      <td>NaN</td>\n      <td>NaN</td>\n      <td>NaN</td>\n      <td>NaN</td>\n      <td>A8</td>\n      <td>B8</td>\n      <td>C8</td>\n      <td>D8</td>\n    </tr>\n    <tr>\n      <th>9</th>\n      <td>NaN</td>\n      <td>NaN</td>\n      <td>NaN</td>\n      <td>NaN</td>\n      <td>NaN</td>\n      <td>NaN</td>\n      <td>NaN</td>\n      <td>NaN</td>\n      <td>A9</td>\n      <td>B9</td>\n      <td>C9</td>\n      <td>D9</td>\n    </tr>\n    <tr>\n      <th>10</th>\n      <td>NaN</td>\n      <td>NaN</td>\n      <td>NaN</td>\n      <td>NaN</td>\n      <td>NaN</td>\n      <td>NaN</td>\n      <td>NaN</td>\n      <td>NaN</td>\n      <td>A10</td>\n      <td>B10</td>\n      <td>C10</td>\n      <td>D10</td>\n    </tr>\n    <tr>\n      <th>11</th>\n      <td>NaN</td>\n      <td>NaN</td>\n      <td>NaN</td>\n      <td>NaN</td>\n      <td>NaN</td>\n      <td>NaN</td>\n      <td>NaN</td>\n      <td>NaN</td>\n      <td>A11</td>\n      <td>B11</td>\n      <td>C11</td>\n      <td>D11</td>\n    </tr>\n  </tbody>\n</table>\n</div>"
     },
     "metadata": {},
     "execution_count": 78
    }
   ],
   "source": [
    "# mit axis=1 verketten\n",
    "pd.concat([df1,df2,df3],axis=1)"
   ]
  },
  {
   "cell_type": "markdown",
   "metadata": {},
   "source": [
    "#### Beispiel-DataFrames"
   ]
  },
  {
   "cell_type": "code",
   "execution_count": 79,
   "metadata": {},
   "outputs": [],
   "source": [
    "left = pd.DataFrame({\"key\": [\"K0\", \"K1\", \"K2\", \"K3\"],\n",
    "                     \"A\": [\"A0\", \"A1\", \"A2\", \"A3\"],\n",
    "                     \"B\": [\"B0\", \"B1\", \"B2\", \"B3\"]})\n",
    "   \n",
    "right = pd.DataFrame({\"key\": [\"K0\", \"K1\", \"K2\", \"K3\"],\n",
    "                          \"C\": [\"C0\", \"C1\", \"C2\", \"C3\"],\n",
    "                          \"D\": [\"D0\", \"D1\", \"D2\", \"D3\"]})  \n"
   ]
  },
  {
   "cell_type": "code",
   "execution_count": 80,
   "metadata": {},
   "outputs": [
    {
     "output_type": "execute_result",
     "data": {
      "text/plain": [
       "  key   A   B\n",
       "0  K0  A0  B0\n",
       "1  K1  A1  B1\n",
       "2  K2  A2  B2\n",
       "3  K3  A3  B3"
      ],
      "text/html": "<div>\n<style scoped>\n    .dataframe tbody tr th:only-of-type {\n        vertical-align: middle;\n    }\n\n    .dataframe tbody tr th {\n        vertical-align: top;\n    }\n\n    .dataframe thead th {\n        text-align: right;\n    }\n</style>\n<table border=\"1\" class=\"dataframe\">\n  <thead>\n    <tr style=\"text-align: right;\">\n      <th></th>\n      <th>key</th>\n      <th>A</th>\n      <th>B</th>\n    </tr>\n  </thead>\n  <tbody>\n    <tr>\n      <th>0</th>\n      <td>K0</td>\n      <td>A0</td>\n      <td>B0</td>\n    </tr>\n    <tr>\n      <th>1</th>\n      <td>K1</td>\n      <td>A1</td>\n      <td>B1</td>\n    </tr>\n    <tr>\n      <th>2</th>\n      <td>K2</td>\n      <td>A2</td>\n      <td>B2</td>\n    </tr>\n    <tr>\n      <th>3</th>\n      <td>K3</td>\n      <td>A3</td>\n      <td>B3</td>\n    </tr>\n  </tbody>\n</table>\n</div>"
     },
     "metadata": {},
     "execution_count": 80
    }
   ],
   "source": [
    "left"
   ]
  },
  {
   "cell_type": "code",
   "execution_count": 81,
   "metadata": {},
   "outputs": [
    {
     "output_type": "execute_result",
     "data": {
      "text/plain": [
       "  key   C   D\n",
       "0  K0  C0  D0\n",
       "1  K1  C1  D1\n",
       "2  K2  C2  D2\n",
       "3  K3  C3  D3"
      ],
      "text/html": "<div>\n<style scoped>\n    .dataframe tbody tr th:only-of-type {\n        vertical-align: middle;\n    }\n\n    .dataframe tbody tr th {\n        vertical-align: top;\n    }\n\n    .dataframe thead th {\n        text-align: right;\n    }\n</style>\n<table border=\"1\" class=\"dataframe\">\n  <thead>\n    <tr style=\"text-align: right;\">\n      <th></th>\n      <th>key</th>\n      <th>C</th>\n      <th>D</th>\n    </tr>\n  </thead>\n  <tbody>\n    <tr>\n      <th>0</th>\n      <td>K0</td>\n      <td>C0</td>\n      <td>D0</td>\n    </tr>\n    <tr>\n      <th>1</th>\n      <td>K1</td>\n      <td>C1</td>\n      <td>D1</td>\n    </tr>\n    <tr>\n      <th>2</th>\n      <td>K2</td>\n      <td>C2</td>\n      <td>D2</td>\n    </tr>\n    <tr>\n      <th>3</th>\n      <td>K3</td>\n      <td>C3</td>\n      <td>D3</td>\n    </tr>\n  </tbody>\n</table>\n</div>"
     },
     "metadata": {},
     "execution_count": 81
    }
   ],
   "source": [
    "right"
   ]
  },
  {
   "cell_type": "markdown",
   "metadata": {},
   "source": [
    "#### Merging\n",
    "\n",
    "Die **merge** Funktion erlaubt es DataFrames basierend auf einem Kriterium zu fusionieren."
   ]
  },
  {
   "cell_type": "code",
   "execution_count": 82,
   "metadata": {},
   "outputs": [
    {
     "output_type": "execute_result",
     "data": {
      "text/plain": [
       "  key   A   B   C   D\n",
       "0  K0  A0  B0  C0  D0\n",
       "1  K1  A1  B1  C1  D1\n",
       "2  K2  A2  B2  C2  D2\n",
       "3  K3  A3  B3  C3  D3"
      ],
      "text/html": "<div>\n<style scoped>\n    .dataframe tbody tr th:only-of-type {\n        vertical-align: middle;\n    }\n\n    .dataframe tbody tr th {\n        vertical-align: top;\n    }\n\n    .dataframe thead th {\n        text-align: right;\n    }\n</style>\n<table border=\"1\" class=\"dataframe\">\n  <thead>\n    <tr style=\"text-align: right;\">\n      <th></th>\n      <th>key</th>\n      <th>A</th>\n      <th>B</th>\n      <th>C</th>\n      <th>D</th>\n    </tr>\n  </thead>\n  <tbody>\n    <tr>\n      <th>0</th>\n      <td>K0</td>\n      <td>A0</td>\n      <td>B0</td>\n      <td>C0</td>\n      <td>D0</td>\n    </tr>\n    <tr>\n      <th>1</th>\n      <td>K1</td>\n      <td>A1</td>\n      <td>B1</td>\n      <td>C1</td>\n      <td>D1</td>\n    </tr>\n    <tr>\n      <th>2</th>\n      <td>K2</td>\n      <td>A2</td>\n      <td>B2</td>\n      <td>C2</td>\n      <td>D2</td>\n    </tr>\n    <tr>\n      <th>3</th>\n      <td>K3</td>\n      <td>A3</td>\n      <td>B3</td>\n      <td>C3</td>\n      <td>D3</td>\n    </tr>\n  </tbody>\n</table>\n</div>"
     },
     "metadata": {},
     "execution_count": 82
    }
   ],
   "source": [
    "pd.merge(left,right,how=\"inner\",on=\"key\")"
   ]
  },
  {
   "cell_type": "code",
   "execution_count": 83,
   "metadata": {},
   "outputs": [],
   "source": [
    "# komplizierteres Beispiel\n",
    "left = pd.DataFrame({\"key1\": [\"K0\", \"K0\", \"K1\", \"K2\"],\n",
    "                     \"key2\": [\"K0\", \"K1\", \"K0\", \"K1\"],\n",
    "                        \"A\": [\"A0\", \"A1\", \"A2\", \"A3\"],\n",
    "                        \"B\": [\"B0\", \"B1\", \"B2\", \"B3\"]})\n",
    "    \n",
    "right = pd.DataFrame({\"key1\": [\"K0\", \"K1\", \"K1\", \"K2\"],\n",
    "                               \"key2\": [\"K0\", \"K0\", \"K0\", \"K0\"],\n",
    "                                  \"C\": [\"C0\", \"C1\", \"C2\", \"C3\"],\n",
    "                                  \"D\": [\"D0\", \"D1\", \"D2\", \"D3\"]})\n"
   ]
  },
  {
   "cell_type": "code",
   "execution_count": 84,
   "metadata": {},
   "outputs": [
    {
     "output_type": "execute_result",
     "data": {
      "text/plain": [
       "  key1 key2   A   B\n",
       "0   K0   K0  A0  B0\n",
       "1   K0   K1  A1  B1\n",
       "2   K1   K0  A2  B2\n",
       "3   K2   K1  A3  B3"
      ],
      "text/html": "<div>\n<style scoped>\n    .dataframe tbody tr th:only-of-type {\n        vertical-align: middle;\n    }\n\n    .dataframe tbody tr th {\n        vertical-align: top;\n    }\n\n    .dataframe thead th {\n        text-align: right;\n    }\n</style>\n<table border=\"1\" class=\"dataframe\">\n  <thead>\n    <tr style=\"text-align: right;\">\n      <th></th>\n      <th>key1</th>\n      <th>key2</th>\n      <th>A</th>\n      <th>B</th>\n    </tr>\n  </thead>\n  <tbody>\n    <tr>\n      <th>0</th>\n      <td>K0</td>\n      <td>K0</td>\n      <td>A0</td>\n      <td>B0</td>\n    </tr>\n    <tr>\n      <th>1</th>\n      <td>K0</td>\n      <td>K1</td>\n      <td>A1</td>\n      <td>B1</td>\n    </tr>\n    <tr>\n      <th>2</th>\n      <td>K1</td>\n      <td>K0</td>\n      <td>A2</td>\n      <td>B2</td>\n    </tr>\n    <tr>\n      <th>3</th>\n      <td>K2</td>\n      <td>K1</td>\n      <td>A3</td>\n      <td>B3</td>\n    </tr>\n  </tbody>\n</table>\n</div>"
     },
     "metadata": {},
     "execution_count": 84
    }
   ],
   "source": [
    "left"
   ]
  },
  {
   "cell_type": "code",
   "execution_count": 85,
   "metadata": {},
   "outputs": [
    {
     "output_type": "execute_result",
     "data": {
      "text/plain": [
       "  key1 key2   C   D\n",
       "0   K0   K0  C0  D0\n",
       "1   K1   K0  C1  D1\n",
       "2   K1   K0  C2  D2\n",
       "3   K2   K0  C3  D3"
      ],
      "text/html": "<div>\n<style scoped>\n    .dataframe tbody tr th:only-of-type {\n        vertical-align: middle;\n    }\n\n    .dataframe tbody tr th {\n        vertical-align: top;\n    }\n\n    .dataframe thead th {\n        text-align: right;\n    }\n</style>\n<table border=\"1\" class=\"dataframe\">\n  <thead>\n    <tr style=\"text-align: right;\">\n      <th></th>\n      <th>key1</th>\n      <th>key2</th>\n      <th>C</th>\n      <th>D</th>\n    </tr>\n  </thead>\n  <tbody>\n    <tr>\n      <th>0</th>\n      <td>K0</td>\n      <td>K0</td>\n      <td>C0</td>\n      <td>D0</td>\n    </tr>\n    <tr>\n      <th>1</th>\n      <td>K1</td>\n      <td>K0</td>\n      <td>C1</td>\n      <td>D1</td>\n    </tr>\n    <tr>\n      <th>2</th>\n      <td>K1</td>\n      <td>K0</td>\n      <td>C2</td>\n      <td>D2</td>\n    </tr>\n    <tr>\n      <th>3</th>\n      <td>K2</td>\n      <td>K0</td>\n      <td>C3</td>\n      <td>D3</td>\n    </tr>\n  </tbody>\n</table>\n</div>"
     },
     "metadata": {},
     "execution_count": 85
    }
   ],
   "source": [
    "right"
   ]
  },
  {
   "cell_type": "code",
   "execution_count": 86,
   "metadata": {},
   "outputs": [
    {
     "output_type": "execute_result",
     "data": {
      "text/plain": [
       "  key1 key2   A   B   C   D\n",
       "0   K0   K0  A0  B0  C0  D0\n",
       "1   K1   K0  A2  B2  C1  D1\n",
       "2   K1   K0  A2  B2  C2  D2"
      ],
      "text/html": "<div>\n<style scoped>\n    .dataframe tbody tr th:only-of-type {\n        vertical-align: middle;\n    }\n\n    .dataframe tbody tr th {\n        vertical-align: top;\n    }\n\n    .dataframe thead th {\n        text-align: right;\n    }\n</style>\n<table border=\"1\" class=\"dataframe\">\n  <thead>\n    <tr style=\"text-align: right;\">\n      <th></th>\n      <th>key1</th>\n      <th>key2</th>\n      <th>A</th>\n      <th>B</th>\n      <th>C</th>\n      <th>D</th>\n    </tr>\n  </thead>\n  <tbody>\n    <tr>\n      <th>0</th>\n      <td>K0</td>\n      <td>K0</td>\n      <td>A0</td>\n      <td>B0</td>\n      <td>C0</td>\n      <td>D0</td>\n    </tr>\n    <tr>\n      <th>1</th>\n      <td>K1</td>\n      <td>K0</td>\n      <td>A2</td>\n      <td>B2</td>\n      <td>C1</td>\n      <td>D1</td>\n    </tr>\n    <tr>\n      <th>2</th>\n      <td>K1</td>\n      <td>K0</td>\n      <td>A2</td>\n      <td>B2</td>\n      <td>C2</td>\n      <td>D2</td>\n    </tr>\n  </tbody>\n</table>\n</div>"
     },
     "metadata": {},
     "execution_count": 86
    }
   ],
   "source": [
    "pd.merge(left, right, on=[\"key1\", \"key2\"])"
   ]
  },
  {
   "cell_type": "code",
   "execution_count": 87,
   "metadata": {},
   "outputs": [
    {
     "output_type": "execute_result",
     "data": {
      "text/plain": [
       "  key1 key2    A    B    C    D\n",
       "0   K0   K0   A0   B0   C0   D0\n",
       "1   K0   K1   A1   B1  NaN  NaN\n",
       "2   K1   K0   A2   B2   C1   D1\n",
       "3   K1   K0   A2   B2   C2   D2\n",
       "4   K2   K1   A3   B3  NaN  NaN\n",
       "5   K2   K0  NaN  NaN   C3   D3"
      ],
      "text/html": "<div>\n<style scoped>\n    .dataframe tbody tr th:only-of-type {\n        vertical-align: middle;\n    }\n\n    .dataframe tbody tr th {\n        vertical-align: top;\n    }\n\n    .dataframe thead th {\n        text-align: right;\n    }\n</style>\n<table border=\"1\" class=\"dataframe\">\n  <thead>\n    <tr style=\"text-align: right;\">\n      <th></th>\n      <th>key1</th>\n      <th>key2</th>\n      <th>A</th>\n      <th>B</th>\n      <th>C</th>\n      <th>D</th>\n    </tr>\n  </thead>\n  <tbody>\n    <tr>\n      <th>0</th>\n      <td>K0</td>\n      <td>K0</td>\n      <td>A0</td>\n      <td>B0</td>\n      <td>C0</td>\n      <td>D0</td>\n    </tr>\n    <tr>\n      <th>1</th>\n      <td>K0</td>\n      <td>K1</td>\n      <td>A1</td>\n      <td>B1</td>\n      <td>NaN</td>\n      <td>NaN</td>\n    </tr>\n    <tr>\n      <th>2</th>\n      <td>K1</td>\n      <td>K0</td>\n      <td>A2</td>\n      <td>B2</td>\n      <td>C1</td>\n      <td>D1</td>\n    </tr>\n    <tr>\n      <th>3</th>\n      <td>K1</td>\n      <td>K0</td>\n      <td>A2</td>\n      <td>B2</td>\n      <td>C2</td>\n      <td>D2</td>\n    </tr>\n    <tr>\n      <th>4</th>\n      <td>K2</td>\n      <td>K1</td>\n      <td>A3</td>\n      <td>B3</td>\n      <td>NaN</td>\n      <td>NaN</td>\n    </tr>\n    <tr>\n      <th>5</th>\n      <td>K2</td>\n      <td>K0</td>\n      <td>NaN</td>\n      <td>NaN</td>\n      <td>C3</td>\n      <td>D3</td>\n    </tr>\n  </tbody>\n</table>\n</div>"
     },
     "metadata": {},
     "execution_count": 87
    }
   ],
   "source": [
    "pd.merge(left, right, how='outer', on=[\"key1\", \"key2\"])"
   ]
  },
  {
   "cell_type": "code",
   "execution_count": 88,
   "metadata": {},
   "outputs": [
    {
     "output_type": "execute_result",
     "data": {
      "text/plain": [
       "  key1 key2    A    B   C   D\n",
       "0   K0   K0   A0   B0  C0  D0\n",
       "1   K1   K0   A2   B2  C1  D1\n",
       "2   K1   K0   A2   B2  C2  D2\n",
       "3   K2   K0  NaN  NaN  C3  D3"
      ],
      "text/html": "<div>\n<style scoped>\n    .dataframe tbody tr th:only-of-type {\n        vertical-align: middle;\n    }\n\n    .dataframe tbody tr th {\n        vertical-align: top;\n    }\n\n    .dataframe thead th {\n        text-align: right;\n    }\n</style>\n<table border=\"1\" class=\"dataframe\">\n  <thead>\n    <tr style=\"text-align: right;\">\n      <th></th>\n      <th>key1</th>\n      <th>key2</th>\n      <th>A</th>\n      <th>B</th>\n      <th>C</th>\n      <th>D</th>\n    </tr>\n  </thead>\n  <tbody>\n    <tr>\n      <th>0</th>\n      <td>K0</td>\n      <td>K0</td>\n      <td>A0</td>\n      <td>B0</td>\n      <td>C0</td>\n      <td>D0</td>\n    </tr>\n    <tr>\n      <th>1</th>\n      <td>K1</td>\n      <td>K0</td>\n      <td>A2</td>\n      <td>B2</td>\n      <td>C1</td>\n      <td>D1</td>\n    </tr>\n    <tr>\n      <th>2</th>\n      <td>K1</td>\n      <td>K0</td>\n      <td>A2</td>\n      <td>B2</td>\n      <td>C2</td>\n      <td>D2</td>\n    </tr>\n    <tr>\n      <th>3</th>\n      <td>K2</td>\n      <td>K0</td>\n      <td>NaN</td>\n      <td>NaN</td>\n      <td>C3</td>\n      <td>D3</td>\n    </tr>\n  </tbody>\n</table>\n</div>"
     },
     "metadata": {},
     "execution_count": 88
    }
   ],
   "source": [
    "pd.merge(left, right, how=\"right\", on=[\"key1\", \"key2\"])"
   ]
  },
  {
   "cell_type": "code",
   "execution_count": 89,
   "metadata": {},
   "outputs": [
    {
     "output_type": "execute_result",
     "data": {
      "text/plain": [
       "  key1 key2   A   B    C    D\n",
       "0   K0   K0  A0  B0   C0   D0\n",
       "1   K0   K1  A1  B1  NaN  NaN\n",
       "2   K1   K0  A2  B2   C1   D1\n",
       "3   K1   K0  A2  B2   C2   D2\n",
       "4   K2   K1  A3  B3  NaN  NaN"
      ],
      "text/html": "<div>\n<style scoped>\n    .dataframe tbody tr th:only-of-type {\n        vertical-align: middle;\n    }\n\n    .dataframe tbody tr th {\n        vertical-align: top;\n    }\n\n    .dataframe thead th {\n        text-align: right;\n    }\n</style>\n<table border=\"1\" class=\"dataframe\">\n  <thead>\n    <tr style=\"text-align: right;\">\n      <th></th>\n      <th>key1</th>\n      <th>key2</th>\n      <th>A</th>\n      <th>B</th>\n      <th>C</th>\n      <th>D</th>\n    </tr>\n  </thead>\n  <tbody>\n    <tr>\n      <th>0</th>\n      <td>K0</td>\n      <td>K0</td>\n      <td>A0</td>\n      <td>B0</td>\n      <td>C0</td>\n      <td>D0</td>\n    </tr>\n    <tr>\n      <th>1</th>\n      <td>K0</td>\n      <td>K1</td>\n      <td>A1</td>\n      <td>B1</td>\n      <td>NaN</td>\n      <td>NaN</td>\n    </tr>\n    <tr>\n      <th>2</th>\n      <td>K1</td>\n      <td>K0</td>\n      <td>A2</td>\n      <td>B2</td>\n      <td>C1</td>\n      <td>D1</td>\n    </tr>\n    <tr>\n      <th>3</th>\n      <td>K1</td>\n      <td>K0</td>\n      <td>A2</td>\n      <td>B2</td>\n      <td>C2</td>\n      <td>D2</td>\n    </tr>\n    <tr>\n      <th>4</th>\n      <td>K2</td>\n      <td>K1</td>\n      <td>A3</td>\n      <td>B3</td>\n      <td>NaN</td>\n      <td>NaN</td>\n    </tr>\n  </tbody>\n</table>\n</div>"
     },
     "metadata": {},
     "execution_count": 89
    }
   ],
   "source": [
    "pd.merge(left, right, how='left', on=['key1', 'key2'])"
   ]
  },
  {
   "cell_type": "markdown",
   "metadata": {},
   "source": [
    "#### Joining"
   ]
  },
  {
   "cell_type": "code",
   "execution_count": 90,
   "metadata": {},
   "outputs": [],
   "source": [
    "left = pd.DataFrame({\"A\": [\"A0\", \"A1\", \"A2\"],\n",
    "                     \"B\": [\"B0\", \"B1\", \"B2\"]},\n",
    "                      index=[\"K0\", \"K1\", \"K2\"]) \n",
    "\n",
    "right = pd.DataFrame({\"C\": [\"C0\", \"C2\", \"C3\"],\n",
    "                    \"D\": [\"D0\", \"D2\", \"D3\"]},\n",
    "                      index=[\"K0\", \"K2\", \"K3\"])"
   ]
  },
  {
   "cell_type": "code",
   "execution_count": 91,
   "metadata": {},
   "outputs": [
    {
     "output_type": "execute_result",
     "data": {
      "text/plain": [
       "     A   B    C    D\n",
       "K0  A0  B0   C0   D0\n",
       "K1  A1  B1  NaN  NaN\n",
       "K2  A2  B2   C2   D2"
      ],
      "text/html": "<div>\n<style scoped>\n    .dataframe tbody tr th:only-of-type {\n        vertical-align: middle;\n    }\n\n    .dataframe tbody tr th {\n        vertical-align: top;\n    }\n\n    .dataframe thead th {\n        text-align: right;\n    }\n</style>\n<table border=\"1\" class=\"dataframe\">\n  <thead>\n    <tr style=\"text-align: right;\">\n      <th></th>\n      <th>A</th>\n      <th>B</th>\n      <th>C</th>\n      <th>D</th>\n    </tr>\n  </thead>\n  <tbody>\n    <tr>\n      <th>K0</th>\n      <td>A0</td>\n      <td>B0</td>\n      <td>C0</td>\n      <td>D0</td>\n    </tr>\n    <tr>\n      <th>K1</th>\n      <td>A1</td>\n      <td>B1</td>\n      <td>NaN</td>\n      <td>NaN</td>\n    </tr>\n    <tr>\n      <th>K2</th>\n      <td>A2</td>\n      <td>B2</td>\n      <td>C2</td>\n      <td>D2</td>\n    </tr>\n  </tbody>\n</table>\n</div>"
     },
     "metadata": {},
     "execution_count": 91
    }
   ],
   "source": [
    "left.join(right)"
   ]
  },
  {
   "cell_type": "code",
   "execution_count": 92,
   "metadata": {},
   "outputs": [
    {
     "output_type": "execute_result",
     "data": {
      "text/plain": [
       "      A    B    C    D\n",
       "K0   A0   B0   C0   D0\n",
       "K1   A1   B1  NaN  NaN\n",
       "K2   A2   B2   C2   D2\n",
       "K3  NaN  NaN   C3   D3"
      ],
      "text/html": "<div>\n<style scoped>\n    .dataframe tbody tr th:only-of-type {\n        vertical-align: middle;\n    }\n\n    .dataframe tbody tr th {\n        vertical-align: top;\n    }\n\n    .dataframe thead th {\n        text-align: right;\n    }\n</style>\n<table border=\"1\" class=\"dataframe\">\n  <thead>\n    <tr style=\"text-align: right;\">\n      <th></th>\n      <th>A</th>\n      <th>B</th>\n      <th>C</th>\n      <th>D</th>\n    </tr>\n  </thead>\n  <tbody>\n    <tr>\n      <th>K0</th>\n      <td>A0</td>\n      <td>B0</td>\n      <td>C0</td>\n      <td>D0</td>\n    </tr>\n    <tr>\n      <th>K1</th>\n      <td>A1</td>\n      <td>B1</td>\n      <td>NaN</td>\n      <td>NaN</td>\n    </tr>\n    <tr>\n      <th>K2</th>\n      <td>A2</td>\n      <td>B2</td>\n      <td>C2</td>\n      <td>D2</td>\n    </tr>\n    <tr>\n      <th>K3</th>\n      <td>NaN</td>\n      <td>NaN</td>\n      <td>C3</td>\n      <td>D3</td>\n    </tr>\n  </tbody>\n</table>\n</div>"
     },
     "metadata": {},
     "execution_count": 92
    }
   ],
   "source": [
    "left.join(right, how=\"outer\")"
   ]
  },
  {
   "cell_type": "markdown",
   "metadata": {},
   "source": [
    "## Operationen"
   ]
  },
  {
   "cell_type": "markdown",
   "metadata": {},
   "source": [
    "Es gibt vesrschiedene wichtige Operationen, die nützlich für uns sein können. Ein paar möchten wir hier kennenlernen. Aber wie immer gilt im programmieren. Dokumentationen der Bibliotheken bzw das Internet zu durchforschen, falls man ein Problem lösen möchte"
   ]
  },
  {
   "cell_type": "code",
   "execution_count": 93,
   "metadata": {},
   "outputs": [
    {
     "output_type": "execute_result",
     "data": {
      "text/plain": [
       "   col1  col2 col3\n",
       "0     1    11  abc\n",
       "1     2    44  def\n",
       "2     3    66  ghi\n",
       "3     4    11  xyz"
      ],
      "text/html": "<div>\n<style scoped>\n    .dataframe tbody tr th:only-of-type {\n        vertical-align: middle;\n    }\n\n    .dataframe tbody tr th {\n        vertical-align: top;\n    }\n\n    .dataframe thead th {\n        text-align: right;\n    }\n</style>\n<table border=\"1\" class=\"dataframe\">\n  <thead>\n    <tr style=\"text-align: right;\">\n      <th></th>\n      <th>col1</th>\n      <th>col2</th>\n      <th>col3</th>\n    </tr>\n  </thead>\n  <tbody>\n    <tr>\n      <th>0</th>\n      <td>1</td>\n      <td>11</td>\n      <td>abc</td>\n    </tr>\n    <tr>\n      <th>1</th>\n      <td>2</td>\n      <td>44</td>\n      <td>def</td>\n    </tr>\n    <tr>\n      <th>2</th>\n      <td>3</td>\n      <td>66</td>\n      <td>ghi</td>\n    </tr>\n    <tr>\n      <th>3</th>\n      <td>4</td>\n      <td>11</td>\n      <td>xyz</td>\n    </tr>\n  </tbody>\n</table>\n</div>"
     },
     "metadata": {},
     "execution_count": 93
    }
   ],
   "source": [
    "df = pd.DataFrame({\"col1\":[1,2,3,4],\"col2\":[11,44,66,11],\"col3\":[\"abc\",\"def\",\"ghi\",\"xyz\"]})\n",
    "df.head()"
   ]
  },
  {
   "cell_type": "markdown",
   "metadata": {},
   "source": [
    "#### Eindeutige Werte rausfinden"
   ]
  },
  {
   "cell_type": "code",
   "execution_count": 94,
   "metadata": {},
   "outputs": [
    {
     "output_type": "execute_result",
     "data": {
      "text/plain": [
       "array([11, 44, 66])"
      ]
     },
     "metadata": {},
     "execution_count": 94
    }
   ],
   "source": [
    "df[\"col2\"].unique()"
   ]
  },
  {
   "cell_type": "code",
   "execution_count": 95,
   "metadata": {},
   "outputs": [
    {
     "output_type": "execute_result",
     "data": {
      "text/plain": [
       "3"
      ]
     },
     "metadata": {},
     "execution_count": 95
    }
   ],
   "source": [
    "#Hier Frage!\n",
    "#Anzahl eindeutiger Werte rausfinden\n",
    "#Möglichkeit1\n",
    "len(df[\"col2\"].unique())"
   ]
  },
  {
   "cell_type": "code",
   "execution_count": 96,
   "metadata": {},
   "outputs": [
    {
     "output_type": "execute_result",
     "data": {
      "text/plain": [
       "3"
      ]
     },
     "metadata": {},
     "execution_count": 96
    }
   ],
   "source": [
    "# Aber auch hier gibt es bereits eine fertige Methode\n",
    "df[\"col2\"].nunique()"
   ]
  },
  {
   "cell_type": "code",
   "execution_count": 97,
   "metadata": {},
   "outputs": [
    {
     "output_type": "execute_result",
     "data": {
      "text/plain": [
       "11    2\n",
       "66    1\n",
       "44    1\n",
       "Name: col2, dtype: int64"
      ]
     },
     "metadata": {},
     "execution_count": 97
    }
   ],
   "source": [
    "#Anzeigen wie oft die einzelnen Werte vorkommen\n",
    "df[\"col2\"].value_counts()"
   ]
  },
  {
   "cell_type": "code",
   "execution_count": 98,
   "metadata": {},
   "outputs": [],
   "source": [
    "#Selektieren von einem DataFrame basierend auf Kritieren für mehrere Spalten\n",
    "newdf = df[(df[\"col1\"]>1) & (df[\"col2\"]==44)]"
   ]
  },
  {
   "cell_type": "code",
   "execution_count": 99,
   "metadata": {},
   "outputs": [
    {
     "output_type": "execute_result",
     "data": {
      "text/plain": [
       "   col1  col2 col3\n",
       "1     2    44  def"
      ],
      "text/html": "<div>\n<style scoped>\n    .dataframe tbody tr th:only-of-type {\n        vertical-align: middle;\n    }\n\n    .dataframe tbody tr th {\n        vertical-align: top;\n    }\n\n    .dataframe thead th {\n        text-align: right;\n    }\n</style>\n<table border=\"1\" class=\"dataframe\">\n  <thead>\n    <tr style=\"text-align: right;\">\n      <th></th>\n      <th>col1</th>\n      <th>col2</th>\n      <th>col3</th>\n    </tr>\n  </thead>\n  <tbody>\n    <tr>\n      <th>1</th>\n      <td>2</td>\n      <td>44</td>\n      <td>def</td>\n    </tr>\n  </tbody>\n</table>\n</div>"
     },
     "metadata": {},
     "execution_count": 99
    }
   ],
   "source": [
    "newdf"
   ]
  },
  {
   "cell_type": "markdown",
   "metadata": {},
   "source": [
    "#### Funktionen auf DataFrame anwenden"
   ]
  },
  {
   "cell_type": "code",
   "execution_count": 100,
   "metadata": {},
   "outputs": [],
   "source": [
    "def times2(x):\n",
    "    return x*2"
   ]
  },
  {
   "cell_type": "code",
   "execution_count": 101,
   "metadata": {},
   "outputs": [
    {
     "output_type": "execute_result",
     "data": {
      "text/plain": [
       "0    2\n",
       "1    4\n",
       "2    6\n",
       "3    8\n",
       "Name: col1, dtype: int64"
      ]
     },
     "metadata": {},
     "execution_count": 101
    }
   ],
   "source": [
    "df[\"col1\"].apply(times2)"
   ]
  },
  {
   "cell_type": "code",
   "execution_count": 102,
   "metadata": {},
   "outputs": [
    {
     "output_type": "execute_result",
     "data": {
      "text/plain": [
       "0    2\n",
       "1    4\n",
       "2    6\n",
       "3    8\n",
       "Name: col1, dtype: int64"
      ]
     },
     "metadata": {},
     "execution_count": 102
    }
   ],
   "source": [
    "df[\"col1\"].apply(lambda x: x*2)"
   ]
  },
  {
   "cell_type": "code",
   "execution_count": 103,
   "metadata": {},
   "outputs": [
    {
     "output_type": "execute_result",
     "data": {
      "text/plain": [
       "10"
      ]
     },
     "metadata": {},
     "execution_count": 103
    }
   ],
   "source": [
    "df[\"col1\"].sum()"
   ]
  },
  {
   "cell_type": "markdown",
   "metadata": {},
   "source": [
    "#### Eine Spalte für immer Löschen"
   ]
  },
  {
   "cell_type": "code",
   "execution_count": 104,
   "metadata": {},
   "outputs": [],
   "source": [
    "del df[\"col1\"]"
   ]
  },
  {
   "cell_type": "code",
   "execution_count": 105,
   "metadata": {},
   "outputs": [
    {
     "output_type": "execute_result",
     "data": {
      "text/plain": [
       "   col2 col3\n",
       "0    11  abc\n",
       "1    44  def\n",
       "2    66  ghi\n",
       "3    11  xyz"
      ],
      "text/html": "<div>\n<style scoped>\n    .dataframe tbody tr th:only-of-type {\n        vertical-align: middle;\n    }\n\n    .dataframe tbody tr th {\n        vertical-align: top;\n    }\n\n    .dataframe thead th {\n        text-align: right;\n    }\n</style>\n<table border=\"1\" class=\"dataframe\">\n  <thead>\n    <tr style=\"text-align: right;\">\n      <th></th>\n      <th>col2</th>\n      <th>col3</th>\n    </tr>\n  </thead>\n  <tbody>\n    <tr>\n      <th>0</th>\n      <td>11</td>\n      <td>abc</td>\n    </tr>\n    <tr>\n      <th>1</th>\n      <td>44</td>\n      <td>def</td>\n    </tr>\n    <tr>\n      <th>2</th>\n      <td>66</td>\n      <td>ghi</td>\n    </tr>\n    <tr>\n      <th>3</th>\n      <td>11</td>\n      <td>xyz</td>\n    </tr>\n  </tbody>\n</table>\n</div>"
     },
     "metadata": {},
     "execution_count": 105
    }
   ],
   "source": [
    "df"
   ]
  },
  {
   "cell_type": "markdown",
   "metadata": {},
   "source": [
    "#### Spalten- und Indexnamen zurückgeben"
   ]
  },
  {
   "cell_type": "code",
   "execution_count": 106,
   "metadata": {},
   "outputs": [
    {
     "output_type": "execute_result",
     "data": {
      "text/plain": [
       "Index(['col2', 'col3'], dtype='object')"
      ]
     },
     "metadata": {},
     "execution_count": 106
    }
   ],
   "source": [
    "df.columns"
   ]
  },
  {
   "cell_type": "code",
   "execution_count": 107,
   "metadata": {},
   "outputs": [
    {
     "output_type": "execute_result",
     "data": {
      "text/plain": [
       "RangeIndex(start=0, stop=4, step=1)"
      ]
     },
     "metadata": {},
     "execution_count": 107
    }
   ],
   "source": [
    "df.index"
   ]
  },
  {
   "cell_type": "markdown",
   "metadata": {},
   "source": [
    "#### DataFrame sortieren"
   ]
  },
  {
   "cell_type": "code",
   "execution_count": 108,
   "metadata": {},
   "outputs": [
    {
     "output_type": "execute_result",
     "data": {
      "text/plain": [
       "   col2 col3\n",
       "0    11  abc\n",
       "3    11  xyz\n",
       "1    44  def\n",
       "2    66  ghi"
      ],
      "text/html": "<div>\n<style scoped>\n    .dataframe tbody tr th:only-of-type {\n        vertical-align: middle;\n    }\n\n    .dataframe tbody tr th {\n        vertical-align: top;\n    }\n\n    .dataframe thead th {\n        text-align: right;\n    }\n</style>\n<table border=\"1\" class=\"dataframe\">\n  <thead>\n    <tr style=\"text-align: right;\">\n      <th></th>\n      <th>col2</th>\n      <th>col3</th>\n    </tr>\n  </thead>\n  <tbody>\n    <tr>\n      <th>0</th>\n      <td>11</td>\n      <td>abc</td>\n    </tr>\n    <tr>\n      <th>3</th>\n      <td>11</td>\n      <td>xyz</td>\n    </tr>\n    <tr>\n      <th>1</th>\n      <td>44</td>\n      <td>def</td>\n    </tr>\n    <tr>\n      <th>2</th>\n      <td>66</td>\n      <td>ghi</td>\n    </tr>\n  </tbody>\n</table>\n</div>"
     },
     "metadata": {},
     "execution_count": 108
    }
   ],
   "source": [
    "df.sort_values(by=\"col2\") #inplace=False bei default"
   ]
  },
  {
   "cell_type": "markdown",
   "metadata": {},
   "source": [
    "#### Nullwerte finden"
   ]
  },
  {
   "cell_type": "code",
   "execution_count": 109,
   "metadata": {},
   "outputs": [
    {
     "output_type": "execute_result",
     "data": {
      "text/plain": [
       "    col2   col3\n",
       "0  False  False\n",
       "1  False  False\n",
       "2  False  False\n",
       "3  False  False"
      ],
      "text/html": "<div>\n<style scoped>\n    .dataframe tbody tr th:only-of-type {\n        vertical-align: middle;\n    }\n\n    .dataframe tbody tr th {\n        vertical-align: top;\n    }\n\n    .dataframe thead th {\n        text-align: right;\n    }\n</style>\n<table border=\"1\" class=\"dataframe\">\n  <thead>\n    <tr style=\"text-align: right;\">\n      <th></th>\n      <th>col2</th>\n      <th>col3</th>\n    </tr>\n  </thead>\n  <tbody>\n    <tr>\n      <th>0</th>\n      <td>False</td>\n      <td>False</td>\n    </tr>\n    <tr>\n      <th>1</th>\n      <td>False</td>\n      <td>False</td>\n    </tr>\n    <tr>\n      <th>2</th>\n      <td>False</td>\n      <td>False</td>\n    </tr>\n    <tr>\n      <th>3</th>\n      <td>False</td>\n      <td>False</td>\n    </tr>\n  </tbody>\n</table>\n</div>"
     },
     "metadata": {},
     "execution_count": 109
    }
   ],
   "source": [
    "df.isnull()"
   ]
  },
  {
   "cell_type": "code",
   "execution_count": 110,
   "metadata": {},
   "outputs": [
    {
     "output_type": "execute_result",
     "data": {
      "text/plain": [
       "   col2 col3\n",
       "0    11  abc\n",
       "1    44  def\n",
       "2    66  ghi\n",
       "3    11  xyz"
      ],
      "text/html": "<div>\n<style scoped>\n    .dataframe tbody tr th:only-of-type {\n        vertical-align: middle;\n    }\n\n    .dataframe tbody tr th {\n        vertical-align: top;\n    }\n\n    .dataframe thead th {\n        text-align: right;\n    }\n</style>\n<table border=\"1\" class=\"dataframe\">\n  <thead>\n    <tr style=\"text-align: right;\">\n      <th></th>\n      <th>col2</th>\n      <th>col3</th>\n    </tr>\n  </thead>\n  <tbody>\n    <tr>\n      <th>0</th>\n      <td>11</td>\n      <td>abc</td>\n    </tr>\n    <tr>\n      <th>1</th>\n      <td>44</td>\n      <td>def</td>\n    </tr>\n    <tr>\n      <th>2</th>\n      <td>66</td>\n      <td>ghi</td>\n    </tr>\n    <tr>\n      <th>3</th>\n      <td>11</td>\n      <td>xyz</td>\n    </tr>\n  </tbody>\n</table>\n</div>"
     },
     "metadata": {},
     "execution_count": 110
    }
   ],
   "source": [
    "# Zeilen mit Nullwerten löschen\n",
    "df.dropna()"
   ]
  },
  {
   "cell_type": "code",
   "execution_count": null,
   "metadata": {},
   "outputs": [],
   "source": []
  },
  {
   "cell_type": "markdown",
   "metadata": {},
   "source": [
    "## Dateneingabe und -ausgabe"
   ]
  },
  {
   "cell_type": "markdown",
   "metadata": {},
   "source": [
    "Das Laden von Datensätzen erfolgt über eine der folgenden Funktionen:\n",
    "\n",
    "    - pd.read_csv\n",
    "    - pd.read_excel\n",
    "    - pd.read_html\n",
    "\n",
    "Für einen Überblick siehe https://pandas.pydata.org/pandas-docs/stable/io.html\n",
    "\n",
    "Bsp:\n",
    "\n",
    "    pd.read_csv('myfile.csv')"
   ]
  },
  {
   "cell_type": "markdown",
   "metadata": {},
   "source": [
    "### CSV"
   ]
  },
  {
   "cell_type": "markdown",
   "metadata": {},
   "source": [
    "#### CSV Eingabe"
   ]
  },
  {
   "cell_type": "code",
   "execution_count": 111,
   "metadata": {},
   "outputs": [],
   "source": [
    "tips_dataset = pd.read_csv(\"https://raw.githubusercontent.com/pandas-dev/pandas/master/doc/data/tips.csv\")"
   ]
  },
  {
   "cell_type": "code",
   "execution_count": 112,
   "metadata": {
    "scrolled": true
   },
   "outputs": [
    {
     "output_type": "execute_result",
     "data": {
      "text/plain": [
       "   total_bill   tip     sex smoker  day    time  size\n",
       "0       16.99  1.01  Female     No  Sun  Dinner     2\n",
       "1       10.34  1.66    Male     No  Sun  Dinner     3\n",
       "2       21.01  3.50    Male     No  Sun  Dinner     3\n",
       "3       23.68  3.31    Male     No  Sun  Dinner     2\n",
       "4       24.59  3.61  Female     No  Sun  Dinner     4"
      ],
      "text/html": "<div>\n<style scoped>\n    .dataframe tbody tr th:only-of-type {\n        vertical-align: middle;\n    }\n\n    .dataframe tbody tr th {\n        vertical-align: top;\n    }\n\n    .dataframe thead th {\n        text-align: right;\n    }\n</style>\n<table border=\"1\" class=\"dataframe\">\n  <thead>\n    <tr style=\"text-align: right;\">\n      <th></th>\n      <th>total_bill</th>\n      <th>tip</th>\n      <th>sex</th>\n      <th>smoker</th>\n      <th>day</th>\n      <th>time</th>\n      <th>size</th>\n    </tr>\n  </thead>\n  <tbody>\n    <tr>\n      <th>0</th>\n      <td>16.99</td>\n      <td>1.01</td>\n      <td>Female</td>\n      <td>No</td>\n      <td>Sun</td>\n      <td>Dinner</td>\n      <td>2</td>\n    </tr>\n    <tr>\n      <th>1</th>\n      <td>10.34</td>\n      <td>1.66</td>\n      <td>Male</td>\n      <td>No</td>\n      <td>Sun</td>\n      <td>Dinner</td>\n      <td>3</td>\n    </tr>\n    <tr>\n      <th>2</th>\n      <td>21.01</td>\n      <td>3.50</td>\n      <td>Male</td>\n      <td>No</td>\n      <td>Sun</td>\n      <td>Dinner</td>\n      <td>3</td>\n    </tr>\n    <tr>\n      <th>3</th>\n      <td>23.68</td>\n      <td>3.31</td>\n      <td>Male</td>\n      <td>No</td>\n      <td>Sun</td>\n      <td>Dinner</td>\n      <td>2</td>\n    </tr>\n    <tr>\n      <th>4</th>\n      <td>24.59</td>\n      <td>3.61</td>\n      <td>Female</td>\n      <td>No</td>\n      <td>Sun</td>\n      <td>Dinner</td>\n      <td>4</td>\n    </tr>\n  </tbody>\n</table>\n</div>"
     },
     "metadata": {},
     "execution_count": 112
    }
   ],
   "source": [
    "tips_dataset.head()"
   ]
  },
  {
   "cell_type": "markdown",
   "metadata": {},
   "source": [
    "#### CSV Ausgabe"
   ]
  },
  {
   "cell_type": "code",
   "execution_count": 113,
   "metadata": {},
   "outputs": [],
   "source": [
    "tips_dataset.to_csv(\"tips_dataset.csv\", index=False)"
   ]
  },
  {
   "cell_type": "markdown",
   "metadata": {},
   "source": [
    "### Excel"
   ]
  },
  {
   "cell_type": "markdown",
   "metadata": {},
   "source": [
    "Pandas kann Excel-Dateien lesen und schreiben. **Aber Pandas kann nur Daten importiert.** Keine Formeln, Bilder, Makros! Kann zum Absturz führen!"
   ]
  },
  {
   "cell_type": "markdown",
   "metadata": {},
   "source": [
    "#### Excel Eingabe"
   ]
  },
  {
   "source": [
    "Es muss das Paket ***xlrd*** installiert sein."
   ],
   "cell_type": "markdown",
   "metadata": {}
  },
  {
   "cell_type": "code",
   "execution_count": 114,
   "metadata": {
    "scrolled": true
   },
   "outputs": [
    {
     "output_type": "execute_result",
     "data": {
      "text/plain": [
       "                Bundesland  2020-05-06 00:00:00  2020-05-07 00:00:00  \\\n",
       "0        Baden-Württemberg             8.202695             7.037334   \n",
       "1                   Bayern            10.078979             9.528383   \n",
       "2                   Berlin             7.363637             7.070158   \n",
       "3              Brandenburg             4.976279             4.617987   \n",
       "4                   Bremen            17.423490            18.448402   \n",
       "5                  Hamburg             5.159737             4.616607   \n",
       "6                   Hessen             7.133955             6.703045   \n",
       "7   Mecklenburg-Vorpommern             1.428860             1.428860   \n",
       "8            Niedersachsen             4.522422             4.384620   \n",
       "9      Nordrhein-Westfalen             8.169456             8.353478   \n",
       "10         Rheinland-Pfalz             5.091994             4.308610   \n",
       "11                Saarland             9.490070             8.783363   \n",
       "12                 Sachsen             3.653808             3.972597   \n",
       "13          Sachsen-Anhalt             2.445297             2.264164   \n",
       "14      Schleswig-Holstein             4.833066             4.902110   \n",
       "15               Thüringen             9.238759             8.398872   \n",
       "\n",
       "    2020-05-08 00:00:00  2020-05-09 00:00:00  2020-05-10 00:00:00  \\\n",
       "0              6.007480             6.377866             6.974097   \n",
       "1              9.038963             9.352497             8.778959   \n",
       "2              7.256917             7.470356             7.176878   \n",
       "3              4.657797             5.215140             4.697607   \n",
       "4             20.498224            22.694462            24.890701   \n",
       "5              4.670920             4.833859             4.345042   \n",
       "6              6.766884             6.623247             7.277592   \n",
       "7              1.366736             1.366736             1.490984   \n",
       "8              4.397147             5.386819             5.223961   \n",
       "9              7.689884             8.074657             8.080233   \n",
       "10             3.843476             3.892438             3.647630   \n",
       "11             6.461324             5.552701             5.249826   \n",
       "12             3.800942             4.168775             3.997119   \n",
       "13             2.354730             2.716996             2.626430   \n",
       "14             5.143763             6.006810             6.973424   \n",
       "15             8.352211             8.678834             8.772155   \n",
       "\n",
       "    2020-05-11 00:00:00  2020-05-12 00:00:00  2020-05-13 00:00:00  \\\n",
       "0              6.865692             6.992165             6.721151   \n",
       "1              8.801901             9.161318             9.130729   \n",
       "2              6.616601             5.282609             4.535573   \n",
       "3              4.697607             4.180074             2.866337   \n",
       "4             24.158621            22.108799            23.426542   \n",
       "5              4.616607             4.507981             4.019164   \n",
       "6              7.086076             7.054157             6.495570   \n",
       "7              1.615233             1.428860             1.428860   \n",
       "8              5.374291             4.710334             3.820883   \n",
       "9              8.342325             8.559805             8.448277   \n",
       "10             4.186206             4.528937             3.916918   \n",
       "11             5.047910             4.139286             3.533537   \n",
       "12             4.463041             5.125140             4.021641   \n",
       "13             2.581146             2.535863             1.766048   \n",
       "14             5.903245             5.488982             4.418803   \n",
       "15            10.078646             9.098778             8.585513   \n",
       "\n",
       "    2020-05-14 00:00:00  ...  2020-10-16 00:00:00  2020-10-17 00:00:00  \\\n",
       "0              6.910861  ...            38.070721                  NaN   \n",
       "1              8.526602  ...            35.406424                  NaN   \n",
       "2              4.162056  ...            73.852205                  NaN   \n",
       "3              1.990512  ...            20.302209                  NaN   \n",
       "4             19.619729  ...            73.106068                  NaN   \n",
       "5              3.095842  ...            32.643065                  NaN   \n",
       "6              6.176377  ...            46.755130                  NaN   \n",
       "7              1.428860  ...            13.991337                  NaN   \n",
       "8              3.883520  ...            27.421910                  NaN   \n",
       "9              7.779106  ...            49.812726                  NaN   \n",
       "10             3.721072  ...            26.795945                  NaN   \n",
       "11             3.028746  ...            44.787296                  NaN   \n",
       "12             4.193297  ...            25.368550                  NaN   \n",
       "13             1.675481  ...             8.155707                  NaN   \n",
       "14             4.246194  ...            12.225474                  NaN   \n",
       "15             7.932268  ...            17.624631                  NaN   \n",
       "\n",
       "    2020-10-18 00:00:00  2020-10-19 00:00:00  2020-10-20 00:00:00  \\\n",
       "0                   NaN                  NaN                  NaN   \n",
       "1                   NaN                  NaN                  NaN   \n",
       "2                   NaN                  NaN                  NaN   \n",
       "3                   NaN                  NaN                  NaN   \n",
       "4                   NaN                  NaN                  NaN   \n",
       "5                   NaN                  NaN                  NaN   \n",
       "6                   NaN                  NaN                  NaN   \n",
       "7                   NaN                  NaN                  NaN   \n",
       "8                   NaN                  NaN                  NaN   \n",
       "9                   NaN                  NaN                  NaN   \n",
       "10                  NaN                  NaN                  NaN   \n",
       "11                  NaN                  NaN                  NaN   \n",
       "12                  NaN                  NaN                  NaN   \n",
       "13                  NaN                  NaN                  NaN   \n",
       "14                  NaN                  NaN                  NaN   \n",
       "15                  NaN                  NaN                  NaN   \n",
       "\n",
       "    2020-10-21 00:00:00  2020-10-22 00:00:00  2020-10-23 00:00:00  \\\n",
       "0                   NaN                  NaN                  NaN   \n",
       "1                   NaN                  NaN                  NaN   \n",
       "2                   NaN                  NaN                  NaN   \n",
       "3                   NaN                  NaN                  NaN   \n",
       "4                   NaN                  NaN                  NaN   \n",
       "5                   NaN                  NaN                  NaN   \n",
       "6                   NaN                  NaN                  NaN   \n",
       "7                   NaN                  NaN                  NaN   \n",
       "8                   NaN                  NaN                  NaN   \n",
       "9                   NaN                  NaN                  NaN   \n",
       "10                  NaN                  NaN                  NaN   \n",
       "11                  NaN                  NaN                  NaN   \n",
       "12                  NaN                  NaN                  NaN   \n",
       "13                  NaN                  NaN                  NaN   \n",
       "14                  NaN                  NaN                  NaN   \n",
       "15                  NaN                  NaN                  NaN   \n",
       "\n",
       "    2020-10-24 00:00:00  2020-10-25 00:00:00  \n",
       "0                   NaN                  NaN  \n",
       "1                   NaN                  NaN  \n",
       "2                   NaN                  NaN  \n",
       "3                   NaN                  NaN  \n",
       "4                   NaN                  NaN  \n",
       "5                   NaN                  NaN  \n",
       "6                   NaN                  NaN  \n",
       "7                   NaN                  NaN  \n",
       "8                   NaN                  NaN  \n",
       "9                   NaN                  NaN  \n",
       "10                  NaN                  NaN  \n",
       "11                  NaN                  NaN  \n",
       "12                  NaN                  NaN  \n",
       "13                  NaN                  NaN  \n",
       "14                  NaN                  NaN  \n",
       "15                  NaN                  NaN  \n",
       "\n",
       "[16 rows x 174 columns]"
      ],
      "text/html": "<div>\n<style scoped>\n    .dataframe tbody tr th:only-of-type {\n        vertical-align: middle;\n    }\n\n    .dataframe tbody tr th {\n        vertical-align: top;\n    }\n\n    .dataframe thead th {\n        text-align: right;\n    }\n</style>\n<table border=\"1\" class=\"dataframe\">\n  <thead>\n    <tr style=\"text-align: right;\">\n      <th></th>\n      <th>Bundesland</th>\n      <th>2020-05-06 00:00:00</th>\n      <th>2020-05-07 00:00:00</th>\n      <th>2020-05-08 00:00:00</th>\n      <th>2020-05-09 00:00:00</th>\n      <th>2020-05-10 00:00:00</th>\n      <th>2020-05-11 00:00:00</th>\n      <th>2020-05-12 00:00:00</th>\n      <th>2020-05-13 00:00:00</th>\n      <th>2020-05-14 00:00:00</th>\n      <th>...</th>\n      <th>2020-10-16 00:00:00</th>\n      <th>2020-10-17 00:00:00</th>\n      <th>2020-10-18 00:00:00</th>\n      <th>2020-10-19 00:00:00</th>\n      <th>2020-10-20 00:00:00</th>\n      <th>2020-10-21 00:00:00</th>\n      <th>2020-10-22 00:00:00</th>\n      <th>2020-10-23 00:00:00</th>\n      <th>2020-10-24 00:00:00</th>\n      <th>2020-10-25 00:00:00</th>\n    </tr>\n  </thead>\n  <tbody>\n    <tr>\n      <th>0</th>\n      <td>Baden-Württemberg</td>\n      <td>8.202695</td>\n      <td>7.037334</td>\n      <td>6.007480</td>\n      <td>6.377866</td>\n      <td>6.974097</td>\n      <td>6.865692</td>\n      <td>6.992165</td>\n      <td>6.721151</td>\n      <td>6.910861</td>\n      <td>...</td>\n      <td>38.070721</td>\n      <td>NaN</td>\n      <td>NaN</td>\n      <td>NaN</td>\n      <td>NaN</td>\n      <td>NaN</td>\n      <td>NaN</td>\n      <td>NaN</td>\n      <td>NaN</td>\n      <td>NaN</td>\n    </tr>\n    <tr>\n      <th>1</th>\n      <td>Bayern</td>\n      <td>10.078979</td>\n      <td>9.528383</td>\n      <td>9.038963</td>\n      <td>9.352497</td>\n      <td>8.778959</td>\n      <td>8.801901</td>\n      <td>9.161318</td>\n      <td>9.130729</td>\n      <td>8.526602</td>\n      <td>...</td>\n      <td>35.406424</td>\n      <td>NaN</td>\n      <td>NaN</td>\n      <td>NaN</td>\n      <td>NaN</td>\n      <td>NaN</td>\n      <td>NaN</td>\n      <td>NaN</td>\n      <td>NaN</td>\n      <td>NaN</td>\n    </tr>\n    <tr>\n      <th>2</th>\n      <td>Berlin</td>\n      <td>7.363637</td>\n      <td>7.070158</td>\n      <td>7.256917</td>\n      <td>7.470356</td>\n      <td>7.176878</td>\n      <td>6.616601</td>\n      <td>5.282609</td>\n      <td>4.535573</td>\n      <td>4.162056</td>\n      <td>...</td>\n      <td>73.852205</td>\n      <td>NaN</td>\n      <td>NaN</td>\n      <td>NaN</td>\n      <td>NaN</td>\n      <td>NaN</td>\n      <td>NaN</td>\n      <td>NaN</td>\n      <td>NaN</td>\n      <td>NaN</td>\n    </tr>\n    <tr>\n      <th>3</th>\n      <td>Brandenburg</td>\n      <td>4.976279</td>\n      <td>4.617987</td>\n      <td>4.657797</td>\n      <td>5.215140</td>\n      <td>4.697607</td>\n      <td>4.697607</td>\n      <td>4.180074</td>\n      <td>2.866337</td>\n      <td>1.990512</td>\n      <td>...</td>\n      <td>20.302209</td>\n      <td>NaN</td>\n      <td>NaN</td>\n      <td>NaN</td>\n      <td>NaN</td>\n      <td>NaN</td>\n      <td>NaN</td>\n      <td>NaN</td>\n      <td>NaN</td>\n      <td>NaN</td>\n    </tr>\n    <tr>\n      <th>4</th>\n      <td>Bremen</td>\n      <td>17.423490</td>\n      <td>18.448402</td>\n      <td>20.498224</td>\n      <td>22.694462</td>\n      <td>24.890701</td>\n      <td>24.158621</td>\n      <td>22.108799</td>\n      <td>23.426542</td>\n      <td>19.619729</td>\n      <td>...</td>\n      <td>73.106068</td>\n      <td>NaN</td>\n      <td>NaN</td>\n      <td>NaN</td>\n      <td>NaN</td>\n      <td>NaN</td>\n      <td>NaN</td>\n      <td>NaN</td>\n      <td>NaN</td>\n      <td>NaN</td>\n    </tr>\n    <tr>\n      <th>5</th>\n      <td>Hamburg</td>\n      <td>5.159737</td>\n      <td>4.616607</td>\n      <td>4.670920</td>\n      <td>4.833859</td>\n      <td>4.345042</td>\n      <td>4.616607</td>\n      <td>4.507981</td>\n      <td>4.019164</td>\n      <td>3.095842</td>\n      <td>...</td>\n      <td>32.643065</td>\n      <td>NaN</td>\n      <td>NaN</td>\n      <td>NaN</td>\n      <td>NaN</td>\n      <td>NaN</td>\n      <td>NaN</td>\n      <td>NaN</td>\n      <td>NaN</td>\n      <td>NaN</td>\n    </tr>\n    <tr>\n      <th>6</th>\n      <td>Hessen</td>\n      <td>7.133955</td>\n      <td>6.703045</td>\n      <td>6.766884</td>\n      <td>6.623247</td>\n      <td>7.277592</td>\n      <td>7.086076</td>\n      <td>7.054157</td>\n      <td>6.495570</td>\n      <td>6.176377</td>\n      <td>...</td>\n      <td>46.755130</td>\n      <td>NaN</td>\n      <td>NaN</td>\n      <td>NaN</td>\n      <td>NaN</td>\n      <td>NaN</td>\n      <td>NaN</td>\n      <td>NaN</td>\n      <td>NaN</td>\n      <td>NaN</td>\n    </tr>\n    <tr>\n      <th>7</th>\n      <td>Mecklenburg-Vorpommern</td>\n      <td>1.428860</td>\n      <td>1.428860</td>\n      <td>1.366736</td>\n      <td>1.366736</td>\n      <td>1.490984</td>\n      <td>1.615233</td>\n      <td>1.428860</td>\n      <td>1.428860</td>\n      <td>1.428860</td>\n      <td>...</td>\n      <td>13.991337</td>\n      <td>NaN</td>\n      <td>NaN</td>\n      <td>NaN</td>\n      <td>NaN</td>\n      <td>NaN</td>\n      <td>NaN</td>\n      <td>NaN</td>\n      <td>NaN</td>\n      <td>NaN</td>\n    </tr>\n    <tr>\n      <th>8</th>\n      <td>Niedersachsen</td>\n      <td>4.522422</td>\n      <td>4.384620</td>\n      <td>4.397147</td>\n      <td>5.386819</td>\n      <td>5.223961</td>\n      <td>5.374291</td>\n      <td>4.710334</td>\n      <td>3.820883</td>\n      <td>3.883520</td>\n      <td>...</td>\n      <td>27.421910</td>\n      <td>NaN</td>\n      <td>NaN</td>\n      <td>NaN</td>\n      <td>NaN</td>\n      <td>NaN</td>\n      <td>NaN</td>\n      <td>NaN</td>\n      <td>NaN</td>\n      <td>NaN</td>\n    </tr>\n    <tr>\n      <th>9</th>\n      <td>Nordrhein-Westfalen</td>\n      <td>8.169456</td>\n      <td>8.353478</td>\n      <td>7.689884</td>\n      <td>8.074657</td>\n      <td>8.080233</td>\n      <td>8.342325</td>\n      <td>8.559805</td>\n      <td>8.448277</td>\n      <td>7.779106</td>\n      <td>...</td>\n      <td>49.812726</td>\n      <td>NaN</td>\n      <td>NaN</td>\n      <td>NaN</td>\n      <td>NaN</td>\n      <td>NaN</td>\n      <td>NaN</td>\n      <td>NaN</td>\n      <td>NaN</td>\n      <td>NaN</td>\n    </tr>\n    <tr>\n      <th>10</th>\n      <td>Rheinland-Pfalz</td>\n      <td>5.091994</td>\n      <td>4.308610</td>\n      <td>3.843476</td>\n      <td>3.892438</td>\n      <td>3.647630</td>\n      <td>4.186206</td>\n      <td>4.528937</td>\n      <td>3.916918</td>\n      <td>3.721072</td>\n      <td>...</td>\n      <td>26.795945</td>\n      <td>NaN</td>\n      <td>NaN</td>\n      <td>NaN</td>\n      <td>NaN</td>\n      <td>NaN</td>\n      <td>NaN</td>\n      <td>NaN</td>\n      <td>NaN</td>\n      <td>NaN</td>\n    </tr>\n    <tr>\n      <th>11</th>\n      <td>Saarland</td>\n      <td>9.490070</td>\n      <td>8.783363</td>\n      <td>6.461324</td>\n      <td>5.552701</td>\n      <td>5.249826</td>\n      <td>5.047910</td>\n      <td>4.139286</td>\n      <td>3.533537</td>\n      <td>3.028746</td>\n      <td>...</td>\n      <td>44.787296</td>\n      <td>NaN</td>\n      <td>NaN</td>\n      <td>NaN</td>\n      <td>NaN</td>\n      <td>NaN</td>\n      <td>NaN</td>\n      <td>NaN</td>\n      <td>NaN</td>\n      <td>NaN</td>\n    </tr>\n    <tr>\n      <th>12</th>\n      <td>Sachsen</td>\n      <td>3.653808</td>\n      <td>3.972597</td>\n      <td>3.800942</td>\n      <td>4.168775</td>\n      <td>3.997119</td>\n      <td>4.463041</td>\n      <td>5.125140</td>\n      <td>4.021641</td>\n      <td>4.193297</td>\n      <td>...</td>\n      <td>25.368550</td>\n      <td>NaN</td>\n      <td>NaN</td>\n      <td>NaN</td>\n      <td>NaN</td>\n      <td>NaN</td>\n      <td>NaN</td>\n      <td>NaN</td>\n      <td>NaN</td>\n      <td>NaN</td>\n    </tr>\n    <tr>\n      <th>13</th>\n      <td>Sachsen-Anhalt</td>\n      <td>2.445297</td>\n      <td>2.264164</td>\n      <td>2.354730</td>\n      <td>2.716996</td>\n      <td>2.626430</td>\n      <td>2.581146</td>\n      <td>2.535863</td>\n      <td>1.766048</td>\n      <td>1.675481</td>\n      <td>...</td>\n      <td>8.155707</td>\n      <td>NaN</td>\n      <td>NaN</td>\n      <td>NaN</td>\n      <td>NaN</td>\n      <td>NaN</td>\n      <td>NaN</td>\n      <td>NaN</td>\n      <td>NaN</td>\n      <td>NaN</td>\n    </tr>\n    <tr>\n      <th>14</th>\n      <td>Schleswig-Holstein</td>\n      <td>4.833066</td>\n      <td>4.902110</td>\n      <td>5.143763</td>\n      <td>6.006810</td>\n      <td>6.973424</td>\n      <td>5.903245</td>\n      <td>5.488982</td>\n      <td>4.418803</td>\n      <td>4.246194</td>\n      <td>...</td>\n      <td>12.225474</td>\n      <td>NaN</td>\n      <td>NaN</td>\n      <td>NaN</td>\n      <td>NaN</td>\n      <td>NaN</td>\n      <td>NaN</td>\n      <td>NaN</td>\n      <td>NaN</td>\n      <td>NaN</td>\n    </tr>\n    <tr>\n      <th>15</th>\n      <td>Thüringen</td>\n      <td>9.238759</td>\n      <td>8.398872</td>\n      <td>8.352211</td>\n      <td>8.678834</td>\n      <td>8.772155</td>\n      <td>10.078646</td>\n      <td>9.098778</td>\n      <td>8.585513</td>\n      <td>7.932268</td>\n      <td>...</td>\n      <td>17.624631</td>\n      <td>NaN</td>\n      <td>NaN</td>\n      <td>NaN</td>\n      <td>NaN</td>\n      <td>NaN</td>\n      <td>NaN</td>\n      <td>NaN</td>\n      <td>NaN</td>\n      <td>NaN</td>\n    </tr>\n  </tbody>\n</table>\n<p>16 rows × 174 columns</p>\n</div>"
     },
     "metadata": {},
     "execution_count": 114
    }
   ],
   "source": [
    "pd.read_excel(\"07_pandas_excelbsp.xlsx\", sheet_name=\"BL_7-Tage-Inzidenz\")"
   ]
  },
  {
   "cell_type": "markdown",
   "metadata": {},
   "source": [
    "#### Excel Ausgabe\n",
    "\n",
    "Dazu wird das paket ***openpyxl*** benötigt."
   ]
  },
  {
   "cell_type": "code",
   "execution_count": 115,
   "metadata": {},
   "outputs": [],
   "source": [
    "df.to_excel('beispiel_neu.xlsx',sheet_name='Sheet1')"
   ]
  },
  {
   "cell_type": "markdown",
   "metadata": {},
   "source": [
    "### HTML"
   ]
  },
  {
   "cell_type": "markdown",
   "metadata": {},
   "source": [
    "Je nachdem was man einlesen möchte gibt es hier weiterführende Bibliotheken, die man zuvor installieren muss.\n",
    "\n",
    "In der Anaconda Command Prompt:\n",
    "    - conda install lxml\n",
    "    - conda install html5lib\n",
    "    - conda install BeautifulSoup4\n",
    "    \n",
    "Jupyter neustarten und dann kann es losgehen!"
   ]
  },
  {
   "cell_type": "markdown",
   "metadata": {},
   "source": [
    "** Pandas kann allerdings bereits Tabellen aus html extrahieren.** \n",
    "Bsp:"
   ]
  },
  {
   "cell_type": "code",
   "execution_count": 116,
   "metadata": {},
   "outputs": [],
   "source": [
    "test = pd.read_html('https://www.taschenhirn.de/politik-und-religion/deutsche-bundeskanzler/')"
   ]
  },
  {
   "cell_type": "code",
   "execution_count": 117,
   "metadata": {},
   "outputs": [
    {
     "output_type": "execute_result",
     "data": {
      "text/plain": [
       "       Deutsche Bundeskanzler        Im Amt  \\\n",
       "0       Konrad Adenauer (CDU)     1949-1963   \n",
       "1         Ludwig Erhard (CDU)     1963-1966   \n",
       "2  Kurt Georg Kiesinger (CDU)     1966-1969   \n",
       "3          Willy Brandt (SPD)     1969-1974   \n",
       "4        Helmut Schmidt (SPD)     1974-1982   \n",
       "5           Helmut Kohl (CDU)     1982-1998   \n",
       "6      Gerhard Schröder (SPD)     1998-2005   \n",
       "7         Angela Merkel (CDU)  seit 11.2005   \n",
       "\n",
       "                                                 */†  \\\n",
       "0         * 5.1.1876 in Köln † 19.4.1967 in Rhöndorf   \n",
       "1             * 4.2.1897 in Fürth † 5.5.1977 in Bonn   \n",
       "2       * 6.4.1904 in Ebingen † 9.3.1988 in Tübingen   \n",
       "3  * 18.12.1913 in Lübeck † 8.10.1992 in Unkel (b...   \n",
       "4  * 23.12.1918 in Hamburg-Barmbek † 10.11.2015 i...   \n",
       "5  * 3.4.1930 in Ludwigshafen-Friesenheim † 16.6....   \n",
       "6                           * 7.4.1944 in Mossenberg   \n",
       "7                              *17.7.1954 in Hamburg   \n",
       "\n",
       "                             Kurzbiografie (Auswahl)  \n",
       "0  Konrad Adenauer war der erste deutsche Bundesk...  \n",
       "1  Ludwig Erhard studierte BWL und VWL. Von 1945 ...  \n",
       "2  Kurt Georg Kiesinger war der dritte deutsche B...  \n",
       "3  Willy Brandt wurde 1913 als Herbert Ernst Karl...  \n",
       "4  Der studierte Volkswirt Helmut Schmidt war von...  \n",
       "5  Helmut Kohl war ab 1959 Mitglied des Rheinland...  \n",
       "6  Gerhard Schröder war der 6. deutsche Bundeskan...  \n",
       "7  Angela Merkel wurde zwar in Hamburg geboren, v...  "
      ],
      "text/html": "<div>\n<style scoped>\n    .dataframe tbody tr th:only-of-type {\n        vertical-align: middle;\n    }\n\n    .dataframe tbody tr th {\n        vertical-align: top;\n    }\n\n    .dataframe thead th {\n        text-align: right;\n    }\n</style>\n<table border=\"1\" class=\"dataframe\">\n  <thead>\n    <tr style=\"text-align: right;\">\n      <th></th>\n      <th>Deutsche Bundeskanzler</th>\n      <th>Im Amt</th>\n      <th>*/†</th>\n      <th>Kurzbiografie (Auswahl)</th>\n    </tr>\n  </thead>\n  <tbody>\n    <tr>\n      <th>0</th>\n      <td>Konrad Adenauer (CDU)</td>\n      <td>1949-1963</td>\n      <td>* 5.1.1876 in Köln † 19.4.1967 in Rhöndorf</td>\n      <td>Konrad Adenauer war der erste deutsche Bundesk...</td>\n    </tr>\n    <tr>\n      <th>1</th>\n      <td>Ludwig Erhard (CDU)</td>\n      <td>1963-1966</td>\n      <td>* 4.2.1897 in Fürth † 5.5.1977 in Bonn</td>\n      <td>Ludwig Erhard studierte BWL und VWL. Von 1945 ...</td>\n    </tr>\n    <tr>\n      <th>2</th>\n      <td>Kurt Georg Kiesinger (CDU)</td>\n      <td>1966-1969</td>\n      <td>* 6.4.1904 in Ebingen † 9.3.1988 in Tübingen</td>\n      <td>Kurt Georg Kiesinger war der dritte deutsche B...</td>\n    </tr>\n    <tr>\n      <th>3</th>\n      <td>Willy Brandt (SPD)</td>\n      <td>1969-1974</td>\n      <td>* 18.12.1913 in Lübeck † 8.10.1992 in Unkel (b...</td>\n      <td>Willy Brandt wurde 1913 als Herbert Ernst Karl...</td>\n    </tr>\n    <tr>\n      <th>4</th>\n      <td>Helmut Schmidt (SPD)</td>\n      <td>1974-1982</td>\n      <td>* 23.12.1918 in Hamburg-Barmbek † 10.11.2015 i...</td>\n      <td>Der studierte Volkswirt Helmut Schmidt war von...</td>\n    </tr>\n    <tr>\n      <th>5</th>\n      <td>Helmut Kohl (CDU)</td>\n      <td>1982-1998</td>\n      <td>* 3.4.1930 in Ludwigshafen-Friesenheim † 16.6....</td>\n      <td>Helmut Kohl war ab 1959 Mitglied des Rheinland...</td>\n    </tr>\n    <tr>\n      <th>6</th>\n      <td>Gerhard Schröder (SPD)</td>\n      <td>1998-2005</td>\n      <td>* 7.4.1944 in Mossenberg</td>\n      <td>Gerhard Schröder war der 6. deutsche Bundeskan...</td>\n    </tr>\n    <tr>\n      <th>7</th>\n      <td>Angela Merkel (CDU)</td>\n      <td>seit 11.2005</td>\n      <td>*17.7.1954 in Hamburg</td>\n      <td>Angela Merkel wurde zwar in Hamburg geboren, v...</td>\n    </tr>\n  </tbody>\n</table>\n</div>"
     },
     "metadata": {},
     "execution_count": 117
    }
   ],
   "source": [
    "#Achtung ist eine Liste nach import.\n",
    "test[0]"
   ]
  }
 ],
 "metadata": {
  "kernelspec": {
   "display_name": "Python 3",
   "language": "python",
   "name": "python3"
  },
  "language_info": {
   "codemirror_mode": {
    "name": "ipython",
    "version": 3
   },
   "file_extension": ".py",
   "mimetype": "text/x-python",
   "name": "python",
   "nbconvert_exporter": "python",
   "pygments_lexer": "ipython3",
   "version": "3.8.5-final"
  }
 },
 "nbformat": 4,
 "nbformat_minor": 2
}