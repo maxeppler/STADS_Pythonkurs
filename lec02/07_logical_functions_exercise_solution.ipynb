{
 "cells": [
  {
   "cell_type": "markdown",
   "metadata": {},
   "source": [
    "# Python Einführung - Übungen"
   ]
  },
  {
   "cell_type": "markdown",
   "metadata": {},
   "source": [
    "## Aufgaben\n",
    "\n",
    "**Beantworte die einzelnen Fragen. Hilfe bietet dir das Handout, wenn Du nicht weiter weißt**"
   ]
  },
  {
   "cell_type": "markdown",
   "metadata": {},
   "source": [
    "** Rechne 7^4 (7 hoch 4)?**"
   ]
  },
  {
   "cell_type": "code",
   "execution_count": 1,
   "metadata": {},
   "outputs": [
    {
     "output_type": "execute_result",
     "data": {
      "text/plain": [
       "16807"
      ]
     },
     "metadata": {},
     "execution_count": 1
    }
   ],
   "source": [
    "7**5"
   ]
  },
  {
   "cell_type": "markdown",
   "metadata": {},
   "source": [
    "**Zerlege (split) den String:**\n",
    "\n",
    "    s = \"Hallo wie geht es dir heute?\"\n",
    "    \n",
    "**in eine Liste **"
   ]
  },
  {
   "cell_type": "code",
   "execution_count": 3,
   "metadata": {},
   "outputs": [],
   "source": [
    "s = \"Hallo wie geht es dir heute?\""
   ]
  },
  {
   "cell_type": "code",
   "execution_count": 4,
   "metadata": {},
   "outputs": [
    {
     "output_type": "execute_result",
     "data": {
      "text/plain": [
       "['Hallo', 'wie', 'geht', 'es', 'dir', 'heute?']"
      ]
     },
     "metadata": {},
     "execution_count": 4
    }
   ],
   "source": [
    "s.split()"
   ]
  },
  {
   "cell_type": "markdown",
   "metadata": {},
   "source": [
    "Ausgabe: ['Hallo', 'wie', 'geht', 'es', 'dir', 'heute?']"
   ]
  },
  {
   "cell_type": "markdown",
   "metadata": {},
   "source": [
    "** Gegeben sind folgende Variablen:**\n",
    "\n",
    "    stadt = \"Heidelberg\"\n",
    "    einwohner = 155000\n",
    "    flaeche_in_km2 = 109\n",
    "\n",
    "** Benutze .format() um den folgenden String auszudrucken: **\n",
    "\n",
    "    Die Stadt Heidelberg hat 155000 Einwohner auf einer Flaeche von 109 Quadratkilometern."
   ]
  },
  {
   "cell_type": "code",
   "execution_count": 6,
   "metadata": {
    "collapsed": true
   },
   "outputs": [],
   "source": [
    "stadt = \"Heidelberg\"\n",
    "einwohner = 155000\n",
    "flaeche_in_km2 = 109"
   ]
  },
  {
   "cell_type": "code",
   "execution_count": 8,
   "metadata": {},
   "outputs": [
    {
     "output_type": "execute_result",
     "data": {
      "text/plain": [
       "'Die Stadt Heidelberg hat 155000 Einwohner auf einer Flaeche von 109 Quadratkilometern.'"
      ]
     },
     "metadata": {},
     "execution_count": 8
    }
   ],
   "source": [
    "\"Die Stadt {} hat {} Einwohner auf einer Flaeche von {} Quadratkilometern.\".format(stadt, einwohner, flaeche_in_km2)"
   ]
  },
  {
   "cell_type": "markdown",
   "metadata": {},
   "source": [
    "Ausgabe: Die Stadt Heidelberg hat 155000 Einwohner auf einer Flaeche von 109 Quadratkilometern."
   ]
  },
  {
   "cell_type": "markdown",
   "metadata": {},
   "source": [
    "** Lass dir von dieser mehrdimensionalen Liste das Element 'hello' ausgeben**"
   ]
  },
  {
   "cell_type": "code",
   "execution_count": 10,
   "metadata": {
    "collapsed": true
   },
   "outputs": [],
   "source": [
    "lst = [1,2,[3,4],[5,[100,200,['hello']],23,11],1,7]"
   ]
  },
  {
   "cell_type": "code",
   "execution_count": 13,
   "metadata": {},
   "outputs": [
    {
     "output_type": "execute_result",
     "data": {
      "text/plain": [
       "'hello'"
      ]
     },
     "metadata": {},
     "execution_count": 13
    }
   ],
   "source": [
    "lst[3][1][2][0]"
   ]
  },
  {
   "cell_type": "markdown",
   "metadata": {},
   "source": [
    "Ausgabe: 'hello'"
   ]
  },
  {
   "cell_type": "markdown",
   "metadata": {},
   "source": [
    "** Lass dir von diesem mehrdimensionalen Dictionary das Element 'hello' ausgeben **"
   ]
  },
  {
   "cell_type": "code",
   "execution_count": 15,
   "metadata": {},
   "outputs": [],
   "source": [
    "d = {'k1':[1,2,3,{'tricky':['oh','man','inception',{'target':[1,2,3,'hello']}]}]}"
   ]
  },
  {
   "cell_type": "code",
   "execution_count": 24,
   "metadata": {},
   "outputs": [
    {
     "output_type": "execute_result",
     "data": {
      "text/plain": [
       "'hello'"
      ]
     },
     "metadata": {},
     "execution_count": 24
    }
   ],
   "source": [
    "d[\"k1\"][3][\"tricky\"][3][\"target\"][3]"
   ]
  },
  {
   "cell_type": "markdown",
   "metadata": {},
   "source": [
    "Ausgabe: 'hello'"
   ]
  },
  {
   "cell_type": "markdown",
   "metadata": {},
   "source": [
    "** Was unterscheidet hauptsächlich ein Tuple von einer Liste? **\n",
    "\n",
    "** Mache hierzu ein Markdown Feld in Jupyter, damit du es als Text beantworten kannst **"
   ]
  },
  {
   "source": [
    "- *tuples* sind **immutable** , d.h. können nicht verändert werden\n",
    "- *lists* sind **mutable**, d.h. können verändert werden"
   ],
   "cell_type": "markdown",
   "metadata": {}
  },
  {
   "cell_type": "markdown",
   "metadata": {},
   "source": [
    "**Erstelle eine Funktion mit dem Namen domainGet die die E-Mail-Domain aus dem folgenden String extrahiert: **\n",
    "\n",
    "    user@domain.com\n",
    "    \n",
    "**Hier \"user@domain.com\" gibt zurück: domain.com**"
   ]
  },
  {
   "cell_type": "code",
   "execution_count": 28,
   "metadata": {
    "collapsed": true
   },
   "outputs": [],
   "source": [
    "# hier die funktion definieren\n",
    "def domainGet(x):\n",
    "    return x.split(\"@\")[-1]"
   ]
  },
  {
   "cell_type": "code",
   "execution_count": 29,
   "metadata": {},
   "outputs": [
    {
     "output_type": "execute_result",
     "data": {
      "text/plain": [
       "'domain.com'"
      ]
     },
     "metadata": {},
     "execution_count": 29
    }
   ],
   "source": [
    "domainGet('user@domain.com')"
   ]
  },
  {
   "cell_type": "markdown",
   "metadata": {},
   "source": [
    "** Erstelle eine Funktion mit dem Namen look_for_money, welche True zurück gibt, wenn das Wort 'money' in dem input-String enthalten ist. Großschreibung soll berücksichtigt werden, aber wenn ein Zeichen an dem Wort hängt nicht (Bsp: 'money,' wird nicht berücksichtigt). **"
   ]
  },
  {
   "cell_type": "code",
   "execution_count": 32,
   "metadata": {
    "collapsed": true
   },
   "outputs": [],
   "source": [
    "# hier die funktion definieren\n",
    "def look_for_money(x):\n",
    "    return \"money\" in x.lower().split()"
   ]
  },
  {
   "cell_type": "code",
   "execution_count": 33,
   "metadata": {},
   "outputs": [
    {
     "output_type": "execute_result",
     "data": {
      "text/plain": [
       "True"
      ]
     },
     "metadata": {},
     "execution_count": 33
    }
   ],
   "source": [
    "look_for_money('Ich habe soviel Money in meinen Taschen, digga!')"
   ]
  },
  {
   "cell_type": "markdown",
   "metadata": {},
   "source": [
    "** Erstelle eine Funktion count_money, welche die Anzahl des Wortes money in dem input-String zählt. Großschreibung soll berücksichtigt werden, aber wenn ein Zeichen an dem Wort hängt nicht (Bsp: 'money,' wird nicht berücksichtigt). **"
   ]
  },
  {
   "cell_type": "code",
   "execution_count": 42,
   "metadata": {},
   "outputs": [],
   "source": [
    "def count_money(x):\n",
    "    return sum([word in \"money\" for word in x.lower().split()])"
   ]
  },
  {
   "cell_type": "code",
   "execution_count": 43,
   "metadata": {},
   "outputs": [
    {
     "output_type": "execute_result",
     "data": {
      "text/plain": [
       "2"
      ]
     },
     "metadata": {},
     "execution_count": 43
    }
   ],
   "source": [
    "count_money('Money all I need is money Money, dude!')"
   ]
  },
  {
   "cell_type": "markdown",
   "metadata": {},
   "source": [
    "**Benutze lambda Ausdrücke und die filter() Funktion um Wörter aus einer Liste zu filtern, welche nicht mit dem Buchstaben 's' beginnen. Beispiel: **\n",
    "\n",
    "    seq = ['schatz','freund','sind','immer','wichtig']\n",
    "\n",
    "**soll zu folgendem gefiltert werden:**\n",
    "\n",
    "    ['schatz','sind']"
   ]
  },
  {
   "cell_type": "code",
   "execution_count": 51,
   "metadata": {},
   "outputs": [],
   "source": [
    "seq = ['schatz','freund','sind','immer','wichtig']"
   ]
  },
  {
   "cell_type": "code",
   "execution_count": 54,
   "metadata": {},
   "outputs": [
    {
     "output_type": "execute_result",
     "data": {
      "text/plain": [
       "['schatz', 'sind']"
      ]
     },
     "metadata": {},
     "execution_count": 54
    }
   ],
   "source": [
    "list(filter(lambda x: x[0]==\"s\", seq))"
   ]
  },
  {
   "cell_type": "markdown",
   "metadata": {},
   "source": [
    "### Letzte Aufgabe!\n",
    "**Du fährst ein wenig zu schnell, und ein Polizist hält dich auf. Schreibe eine Funktion, um eines von 3 möglichen Ergebnissen zurückzugeben: \"Kein Ticket\", \"Kleines Ticket\" oder \"Grosses Ticket\". Wenn deine Geschwindigkeit 100 oder weniger beträgt, ist das Ergebnis \"Kein Ticket\". Wenn die Geschwindigkeit zwischen 101 und einschließlich 120 liegt, ist das Ergebnis \"Kleines Ticket\". Wenn die Geschwindigkeit 121 oder mehr beträgt, ist das Ergebnis \"Grosses Ticket\". Es sei denn, es ist dein Geburtstag (kodiert als boolescher Wert in den Parametern der Funktion) -- an deinem Geburtstag kann deine Geschwindigkeit in allen Fällen um 10 höher sein. **"
   ]
  },
  {
   "cell_type": "code",
   "execution_count": 56,
   "metadata": {},
   "outputs": [],
   "source": [
    "def caught_speeding(speed, is_birthday):\n",
    "    if is_birthday:\n",
    "        speed -= 10\n",
    "    if speed <= 100:\n",
    "        return \"Kein Ticket\"\n",
    "    elif speed <= 120:\n",
    "        return \"Kleines Ticket\"\n",
    "    else:\n",
    "        return \"Grosses Ticket\""
   ]
  },
  {
   "cell_type": "code",
   "execution_count": 57,
   "metadata": {},
   "outputs": [
    {
     "output_type": "execute_result",
     "data": {
      "text/plain": [
       "'Kein Ticket'"
      ]
     },
     "metadata": {},
     "execution_count": 57
    }
   ],
   "source": [
    "caught_speeding(101,True)"
   ]
  },
  {
   "cell_type": "code",
   "execution_count": 58,
   "metadata": {},
   "outputs": [
    {
     "output_type": "execute_result",
     "data": {
      "text/plain": [
       "'Kleines Ticket'"
      ]
     },
     "metadata": {},
     "execution_count": 58
    }
   ],
   "source": [
    "caught_speeding(101,False)"
   ]
  },
  {
   "cell_type": "markdown",
   "metadata": {},
   "source": [
    "# Stay tuned!"
   ]
  }
 ],
 "metadata": {
  "kernelspec": {
   "display_name": "Python 3",
   "language": "python",
   "name": "python3"
  },
  "language_info": {
   "codemirror_mode": {
    "name": "ipython",
    "version": 3
   },
   "file_extension": ".py",
   "mimetype": "text/x-python",
   "name": "python",
   "nbconvert_exporter": "python",
   "pygments_lexer": "ipython3",
   "version": "3.8.5-final"
  }
 },
 "nbformat": 4,
 "nbformat_minor": 1
}