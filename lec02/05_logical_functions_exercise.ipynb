{
 "cells": [
  {
   "cell_type": "markdown",
   "metadata": {},
   "source": [
    "# Python Einführung - Übungen"
   ]
  },
  {
   "cell_type": "markdown",
   "metadata": {},
   "source": [
    "## Aufgaben\n",
    "\n",
    "**Beantworte die einzelnen Fragen. Hilfe bietet dir das Handout, wenn Du nicht weiter weißt**"
   ]
  },
  {
   "cell_type": "markdown",
   "metadata": {},
   "source": [
    "** Rechne 7^4 (7 hoch 4)?**"
   ]
  },
  {
   "cell_type": "code",
   "execution_count": 1,
   "metadata": {},
   "outputs": [
    {
     "data": {
      "text/plain": [
       "2401"
      ]
     },
     "execution_count": 1,
     "metadata": {},
     "output_type": "execute_result"
    }
   ],
   "source": []
  },
  {
   "cell_type": "markdown",
   "metadata": {},
   "source": [
    "**Zerlege (split) den String:**\n",
    "\n",
    "    s = \"Hallo wie geht es dir heute?\"\n",
    "    \n",
    "**in eine Liste **"
   ]
  },
  {
   "cell_type": "code",
   "execution_count": null,
   "metadata": {},
   "outputs": [],
   "source": []
  },
  {
   "cell_type": "code",
   "execution_count": null,
   "metadata": {},
   "outputs": [],
   "source": []
  },
  {
   "cell_type": "markdown",
   "metadata": {},
   "source": [
    "Ausgabe: ['Hallo', 'wie', 'geht', 'es', 'dir', 'heute?']"
   ]
  },
  {
   "cell_type": "markdown",
   "metadata": {},
   "source": [
    "** Gegeben sind folgende Variablen:**\n",
    "\n",
    "    stadt = \"Heidelberg\"\n",
    "    einwohner = 155000\n",
    "    flaeche_in_km2 = 109\n",
    "\n",
    "** Benutze .format() um den folgenden String auszudrucken: **\n",
    "\n",
    "    Die Stadt Heidelberg hat 155000 Einwohner auf einer Flaeche von 109 Quadratkilometern."
   ]
  },
  {
   "cell_type": "code",
   "execution_count": 5,
   "metadata": {
    "collapsed": true
   },
   "outputs": [],
   "source": [
    "stadt = \"Heidelberg\"\n",
    "einwohner = 155000\n",
    "flaeche_in_km2 = 109"
   ]
  },
  {
   "cell_type": "code",
   "execution_count": null,
   "metadata": {},
   "outputs": [],
   "source": []
  },
  {
   "cell_type": "markdown",
   "metadata": {},
   "source": [
    "Ausgabe: Die Stadt Heidelberg hat 155000 Einwohner auf einer Flaeche von 109 Quadratkilometern."
   ]
  },
  {
   "cell_type": "markdown",
   "metadata": {},
   "source": [
    "** Lass dir von dieser mehrdimensionalen Liste das Element 'hello' ausgeben**"
   ]
  },
  {
   "cell_type": "code",
   "execution_count": 7,
   "metadata": {
    "collapsed": true
   },
   "outputs": [],
   "source": [
    "lst = [1,2,[3,4],[5,[100,200,['hello']],23,11],1,7]"
   ]
  },
  {
   "cell_type": "code",
   "execution_count": null,
   "metadata": {},
   "outputs": [],
   "source": []
  },
  {
   "cell_type": "markdown",
   "metadata": {},
   "source": [
    "Ausgabe: 'hello'"
   ]
  },
  {
   "cell_type": "markdown",
   "metadata": {},
   "source": [
    "** Lass dir von diesem mehrdimensionalen Dictionary das Element 'hello' ausgeben **"
   ]
  },
  {
   "cell_type": "code",
   "execution_count": 16,
   "metadata": {},
   "outputs": [],
   "source": [
    "d = {'k1':[1,2,3,{'tricky':['oh','man','inception',{'target':[1,2,3,'hello']}]}]}"
   ]
  },
  {
   "cell_type": "code",
   "execution_count": null,
   "metadata": {},
   "outputs": [],
   "source": []
  },
  {
   "cell_type": "markdown",
   "metadata": {},
   "source": [
    "Ausgabe: 'hello'"
   ]
  },
  {
   "cell_type": "markdown",
   "metadata": {},
   "source": [
    "** Was unterscheidet hauptsächlich ein Tuple von einer Liste? **\n",
    "\n",
    "** Mache hierzu ein Markdown Feld in Jupyter, damit du es als Text beantworten kannst **"
   ]
  },
  {
   "cell_type": "code",
   "execution_count": 9,
   "metadata": {},
   "outputs": [],
   "source": [
    "# wandel diese Code-Zelle in eine Markdown-Zelle um und beantworte die Frage. Lösche diesen Kommentar dann!"
   ]
  },
  {
   "cell_type": "markdown",
   "metadata": {},
   "source": [
    "**Erstelle eine Funktion mit dem Namen domainGet die die E-Mail-Domain aus dem folgenden String extrahiert: **\n",
    "\n",
    "    user@domain.com\n",
    "    \n",
    "**Hier \"user@domain.com\" gibt zurück: domain.com**"
   ]
  },
  {
   "cell_type": "code",
   "execution_count": 24,
   "metadata": {
    "collapsed": true
   },
   "outputs": [],
   "source": [
    "# hier die funktion definieren\n"
   ]
  },
  {
   "cell_type": "code",
   "execution_count": 26,
   "metadata": {},
   "outputs": [
    {
     "data": {
      "text/plain": [
       "'domain.com'"
      ]
     },
     "execution_count": 26,
     "metadata": {},
     "output_type": "execute_result"
    }
   ],
   "source": [
    "domainGet('user@domain.com')"
   ]
  },
  {
   "cell_type": "markdown",
   "metadata": {},
   "source": [
    "** Erstelle eine Funktion mit dem Namen look_for_money, welche True zurück gibt, wenn das Wort 'money' in dem input-String enthalten ist. Großschreibung soll berücksichtigt werden, aber wenn ein Zeichen an dem Wort hängt nicht (Bsp: 'money,' wird nicht berücksichtigt). **"
   ]
  },
  {
   "cell_type": "code",
   "execution_count": 27,
   "metadata": {
    "collapsed": true
   },
   "outputs": [],
   "source": [
    "# hier die funktion definieren\n"
   ]
  },
  {
   "cell_type": "code",
   "execution_count": 28,
   "metadata": {},
   "outputs": [
    {
     "data": {
      "text/plain": [
       "True"
      ]
     },
     "execution_count": 28,
     "metadata": {},
     "output_type": "execute_result"
    }
   ],
   "source": [
    "look_for_money('Ich habe soviel Money in meinen Taschen, digga!')"
   ]
  },
  {
   "cell_type": "markdown",
   "metadata": {},
   "source": [
    "** Erstelle eine Funktion count_money, welche die Anzahl des Wortes money in dem input-String zählt. Großschreibung soll berücksichtigt werden, aber wenn ein Zeichen an dem Wort hängt nicht (Bsp: 'money,' wird nicht berücksichtigt). **"
   ]
  },
  {
   "cell_type": "code",
   "execution_count": 30,
   "metadata": {},
   "outputs": [],
   "source": []
  },
  {
   "cell_type": "code",
   "execution_count": 31,
   "metadata": {},
   "outputs": [
    {
     "data": {
      "text/plain": [
       "2"
      ]
     },
     "execution_count": 31,
     "metadata": {},
     "output_type": "execute_result"
    }
   ],
   "source": [
    "count_money('Money all I need is money Money, dude!')"
   ]
  },
  {
   "cell_type": "markdown",
   "metadata": {},
   "source": [
    "**Benutze lambda Ausdrücke und die filter() Funktion um Wörter aus einer Liste zu filtern, welche nicht mit dem Buchstaben 's' beginnen. Beispiel: **\n",
    "\n",
    "    seq = ['schatz','freund','sind','immer','wichtig']\n",
    "\n",
    "**soll zu folgendem gefiltert werden:**\n",
    "\n",
    "    ['schatz','sind']"
   ]
  },
  {
   "cell_type": "code",
   "execution_count": 10,
   "metadata": {},
   "outputs": [],
   "source": [
    "seq = ['schatz','freund','sind','immer','wichtig']"
   ]
  },
  {
   "cell_type": "code",
   "execution_count": 11,
   "metadata": {},
   "outputs": [
    {
     "data": {
      "text/plain": [
       "['schatz', 'sind']"
      ]
     },
     "execution_count": 11,
     "metadata": {},
     "output_type": "execute_result"
    }
   ],
   "source": []
  },
  {
   "cell_type": "markdown",
   "metadata": {},
   "source": [
    "### Letzte Aufgabe!\n",
    "**Du fährst ein wenig zu schnell, und ein Polizist hält dich auf. Schreibe eine Funktion, um eines von 3 möglichen Ergebnissen zurückzugeben: \"Kein Ticket\", \"Kleines Ticket\" oder \"Grosses Ticket\". Wenn deine Geschwindigkeit 100 oder weniger beträgt, ist das Ergebnis \"Kein Ticket\". Wenn die Geschwindigkeit zwischen 101 und einschließlich 120 liegt, ist das Ergebnis \"Kleines Ticket\". Wenn die Geschwindigkeit 121 oder mehr beträgt, ist das Ergebnis \"Grosses Ticket\". Es sei denn, es ist dein Geburtstag (kodiert als boolescher Wert in den Parametern der Funktion) -- an deinem Geburtstag kann deine Geschwindigkeit in allen Fällen um 10 höher sein. **"
   ]
  },
  {
   "cell_type": "code",
   "execution_count": 12,
   "metadata": {},
   "outputs": [],
   "source": [
    "def caught_speeding(speed, is_birthday):\n",
    "    # hier dein Code!"
   ]
  },
  {
   "cell_type": "code",
   "execution_count": 13,
   "metadata": {},
   "outputs": [
    {
     "data": {
      "text/plain": [
       "'Kein Ticket'"
      ]
     },
     "execution_count": 13,
     "metadata": {},
     "output_type": "execute_result"
    }
   ],
   "source": [
    "caught_speeding(101,True)"
   ]
  },
  {
   "cell_type": "code",
   "execution_count": 14,
   "metadata": {},
   "outputs": [
    {
     "data": {
      "text/plain": [
       "'Kleines Ticket'"
      ]
     },
     "execution_count": 14,
     "metadata": {},
     "output_type": "execute_result"
    }
   ],
   "source": [
    "caught_speeding(101,False)"
   ]
  },
  {
   "cell_type": "markdown",
   "metadata": {},
   "source": [
    "# Stay tuned!"
   ]
  }
 ],
 "metadata": {
  "kernelspec": {
   "display_name": "Python 3",
   "language": "python",
   "name": "python3"
  },
  "language_info": {
   "codemirror_mode": {
    "name": "ipython",
    "version": 3
   },
   "file_extension": ".py",
   "mimetype": "text/x-python",
   "name": "python",
   "nbconvert_exporter": "python",
   "pygments_lexer": "ipython3",
   "version": "3.6.5"
  }
 },
 "nbformat": 4,
 "nbformat_minor": 1
}
